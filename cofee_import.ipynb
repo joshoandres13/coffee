{
 "cells": [
  {
   "cell_type": "code",
   "execution_count": 1,
   "metadata": {},
   "outputs": [],
   "source": [
    "import pandas as pd\n",
    "import numpy as np\n",
    "import matplotlib.pyplot as plt\n",
    "import seaborn as sns\n",
    "import plotly.express as px  #with anaconda3"
   ]
  },
  {
   "attachments": {},
   "cell_type": "markdown",
   "metadata": {},
   "source": [
    "### Import Data Set"
   ]
  },
  {
   "cell_type": "code",
   "execution_count": 18,
   "metadata": {},
   "outputs": [
    {
     "data": {
      "text/html": [
       "<div>\n",
       "<style scoped>\n",
       "    .dataframe tbody tr th:only-of-type {\n",
       "        vertical-align: middle;\n",
       "    }\n",
       "\n",
       "    .dataframe tbody tr th {\n",
       "        vertical-align: top;\n",
       "    }\n",
       "\n",
       "    .dataframe thead th {\n",
       "        text-align: right;\n",
       "    }\n",
       "</style>\n",
       "<table border=\"1\" class=\"dataframe\">\n",
       "  <thead>\n",
       "    <tr style=\"text-align: right;\">\n",
       "      <th></th>\n",
       "      <th>Country</th>\n",
       "      <th>1990</th>\n",
       "      <th>1991</th>\n",
       "      <th>1992</th>\n",
       "      <th>1993</th>\n",
       "      <th>1994</th>\n",
       "      <th>1995</th>\n",
       "      <th>1996</th>\n",
       "      <th>1997</th>\n",
       "      <th>1998</th>\n",
       "      <th>...</th>\n",
       "      <th>2011</th>\n",
       "      <th>2012</th>\n",
       "      <th>2013</th>\n",
       "      <th>2014</th>\n",
       "      <th>2015</th>\n",
       "      <th>2016</th>\n",
       "      <th>2017</th>\n",
       "      <th>2018</th>\n",
       "      <th>2019</th>\n",
       "      <th>Total_import</th>\n",
       "    </tr>\n",
       "  </thead>\n",
       "  <tbody>\n",
       "    <tr>\n",
       "      <th>0</th>\n",
       "      <td>Austria</td>\n",
       "      <td>112800000</td>\n",
       "      <td>123480000</td>\n",
       "      <td>132360000</td>\n",
       "      <td>110160000</td>\n",
       "      <td>85020000</td>\n",
       "      <td>73860000</td>\n",
       "      <td>72600000</td>\n",
       "      <td>77640000</td>\n",
       "      <td>77580000</td>\n",
       "      <td>...</td>\n",
       "      <td>87120000</td>\n",
       "      <td>93540000</td>\n",
       "      <td>93300000</td>\n",
       "      <td>91500000</td>\n",
       "      <td>90780000</td>\n",
       "      <td>89700000</td>\n",
       "      <td>87600000</td>\n",
       "      <td>85740000</td>\n",
       "      <td>86880000</td>\n",
       "      <td>2765760000</td>\n",
       "    </tr>\n",
       "    <tr>\n",
       "      <th>1</th>\n",
       "      <td>Belgium</td>\n",
       "      <td>0</td>\n",
       "      <td>0</td>\n",
       "      <td>0</td>\n",
       "      <td>0</td>\n",
       "      <td>0</td>\n",
       "      <td>0</td>\n",
       "      <td>0</td>\n",
       "      <td>0</td>\n",
       "      <td>0</td>\n",
       "      <td>...</td>\n",
       "      <td>349680000</td>\n",
       "      <td>340080000</td>\n",
       "      <td>330120000</td>\n",
       "      <td>312720000</td>\n",
       "      <td>332040000</td>\n",
       "      <td>363120000</td>\n",
       "      <td>340620000</td>\n",
       "      <td>344520000</td>\n",
       "      <td>371940000</td>\n",
       "      <td>6240540000</td>\n",
       "    </tr>\n",
       "    <tr>\n",
       "      <th>2</th>\n",
       "      <td>Belgium/Luxembourg</td>\n",
       "      <td>120900000</td>\n",
       "      <td>104760000</td>\n",
       "      <td>109680000</td>\n",
       "      <td>123780000</td>\n",
       "      <td>135720000</td>\n",
       "      <td>144060000</td>\n",
       "      <td>151560000</td>\n",
       "      <td>152640000</td>\n",
       "      <td>214800000</td>\n",
       "      <td>...</td>\n",
       "      <td>0</td>\n",
       "      <td>0</td>\n",
       "      <td>0</td>\n",
       "      <td>0</td>\n",
       "      <td>0</td>\n",
       "      <td>0</td>\n",
       "      <td>0</td>\n",
       "      <td>0</td>\n",
       "      <td>0</td>\n",
       "      <td>1257900000</td>\n",
       "    </tr>\n",
       "    <tr>\n",
       "      <th>3</th>\n",
       "      <td>Bulgaria</td>\n",
       "      <td>16080000</td>\n",
       "      <td>12000000</td>\n",
       "      <td>10920000</td>\n",
       "      <td>23820000</td>\n",
       "      <td>27780000</td>\n",
       "      <td>30900000</td>\n",
       "      <td>16320000</td>\n",
       "      <td>17640000</td>\n",
       "      <td>20520000</td>\n",
       "      <td>...</td>\n",
       "      <td>28920000</td>\n",
       "      <td>33600000</td>\n",
       "      <td>36540000</td>\n",
       "      <td>37260000</td>\n",
       "      <td>40920000</td>\n",
       "      <td>46740000</td>\n",
       "      <td>42420000</td>\n",
       "      <td>44220000</td>\n",
       "      <td>47100000</td>\n",
       "      <td>830700000</td>\n",
       "    </tr>\n",
       "    <tr>\n",
       "      <th>4</th>\n",
       "      <td>Croatia</td>\n",
       "      <td>0</td>\n",
       "      <td>0</td>\n",
       "      <td>10080000</td>\n",
       "      <td>9780000</td>\n",
       "      <td>11580000</td>\n",
       "      <td>19200000</td>\n",
       "      <td>19320000</td>\n",
       "      <td>23100000</td>\n",
       "      <td>20340000</td>\n",
       "      <td>...</td>\n",
       "      <td>23460000</td>\n",
       "      <td>23040000</td>\n",
       "      <td>24780000</td>\n",
       "      <td>25200000</td>\n",
       "      <td>26220000</td>\n",
       "      <td>28740000</td>\n",
       "      <td>26340000</td>\n",
       "      <td>26760000</td>\n",
       "      <td>27960000</td>\n",
       "      <td>622080000</td>\n",
       "    </tr>\n",
       "    <tr>\n",
       "      <th>5</th>\n",
       "      <td>Cyprus</td>\n",
       "      <td>3000000</td>\n",
       "      <td>3240000</td>\n",
       "      <td>2460000</td>\n",
       "      <td>4620000</td>\n",
       "      <td>3120000</td>\n",
       "      <td>2640000</td>\n",
       "      <td>3120000</td>\n",
       "      <td>2460000</td>\n",
       "      <td>3000000</td>\n",
       "      <td>...</td>\n",
       "      <td>4920000</td>\n",
       "      <td>5040000</td>\n",
       "      <td>5640000</td>\n",
       "      <td>5640000</td>\n",
       "      <td>5340000</td>\n",
       "      <td>5580000</td>\n",
       "      <td>6000000</td>\n",
       "      <td>7980000</td>\n",
       "      <td>7980000</td>\n",
       "      <td>130380000</td>\n",
       "    </tr>\n",
       "    <tr>\n",
       "      <th>6</th>\n",
       "      <td>Czechia</td>\n",
       "      <td>39540000</td>\n",
       "      <td>31500000</td>\n",
       "      <td>28500000</td>\n",
       "      <td>30840000</td>\n",
       "      <td>33240000</td>\n",
       "      <td>33180000</td>\n",
       "      <td>31500000</td>\n",
       "      <td>33600000</td>\n",
       "      <td>45900000</td>\n",
       "      <td>...</td>\n",
       "      <td>57120000</td>\n",
       "      <td>67620000</td>\n",
       "      <td>71040000</td>\n",
       "      <td>109380000</td>\n",
       "      <td>124080000</td>\n",
       "      <td>106740000</td>\n",
       "      <td>90420000</td>\n",
       "      <td>114180000</td>\n",
       "      <td>96540000</td>\n",
       "      <td>1816020000</td>\n",
       "    </tr>\n",
       "    <tr>\n",
       "      <th>7</th>\n",
       "      <td>Denmark</td>\n",
       "      <td>57540000</td>\n",
       "      <td>58980000</td>\n",
       "      <td>63720000</td>\n",
       "      <td>59640000</td>\n",
       "      <td>61980000</td>\n",
       "      <td>52620000</td>\n",
       "      <td>60360000</td>\n",
       "      <td>56940000</td>\n",
       "      <td>60840000</td>\n",
       "      <td>...</td>\n",
       "      <td>54540000</td>\n",
       "      <td>54780000</td>\n",
       "      <td>55260000</td>\n",
       "      <td>51180000</td>\n",
       "      <td>50460000</td>\n",
       "      <td>54360000</td>\n",
       "      <td>51120000</td>\n",
       "      <td>52080000</td>\n",
       "      <td>54480000</td>\n",
       "      <td>1741860000</td>\n",
       "    </tr>\n",
       "    <tr>\n",
       "      <th>8</th>\n",
       "      <td>Estonia</td>\n",
       "      <td>0</td>\n",
       "      <td>0</td>\n",
       "      <td>960000</td>\n",
       "      <td>3060000</td>\n",
       "      <td>4980000</td>\n",
       "      <td>6420000</td>\n",
       "      <td>7020000</td>\n",
       "      <td>8460000</td>\n",
       "      <td>8100000</td>\n",
       "      <td>...</td>\n",
       "      <td>10020000</td>\n",
       "      <td>9420000</td>\n",
       "      <td>9360000</td>\n",
       "      <td>7860000</td>\n",
       "      <td>7560000</td>\n",
       "      <td>8100000</td>\n",
       "      <td>7980000</td>\n",
       "      <td>8820000</td>\n",
       "      <td>8880000</td>\n",
       "      <td>268980000</td>\n",
       "    </tr>\n",
       "    <tr>\n",
       "      <th>9</th>\n",
       "      <td>Finland</td>\n",
       "      <td>65700000</td>\n",
       "      <td>61980000</td>\n",
       "      <td>63300000</td>\n",
       "      <td>78060000</td>\n",
       "      <td>81660000</td>\n",
       "      <td>46140000</td>\n",
       "      <td>59520000</td>\n",
       "      <td>71160000</td>\n",
       "      <td>70080000</td>\n",
       "      <td>...</td>\n",
       "      <td>77220000</td>\n",
       "      <td>74280000</td>\n",
       "      <td>76500000</td>\n",
       "      <td>72780000</td>\n",
       "      <td>79260000</td>\n",
       "      <td>83340000</td>\n",
       "      <td>81600000</td>\n",
       "      <td>77100000</td>\n",
       "      <td>90900000</td>\n",
       "      <td>2151840000</td>\n",
       "    </tr>\n",
       "  </tbody>\n",
       "</table>\n",
       "<p>10 rows × 32 columns</p>\n",
       "</div>"
      ],
      "text/plain": [
       "                 Country       1990       1991       1992       1993  \\\n",
       "0                Austria  112800000  123480000  132360000  110160000   \n",
       "1                Belgium          0          0          0          0   \n",
       "2     Belgium/Luxembourg  120900000  104760000  109680000  123780000   \n",
       "3               Bulgaria   16080000   12000000   10920000   23820000   \n",
       "4                Croatia          0          0   10080000    9780000   \n",
       "5                 Cyprus    3000000    3240000    2460000    4620000   \n",
       "6                Czechia   39540000   31500000   28500000   30840000   \n",
       "7                Denmark   57540000   58980000   63720000   59640000   \n",
       "8                Estonia          0          0     960000    3060000   \n",
       "9                Finland   65700000   61980000   63300000   78060000   \n",
       "\n",
       "        1994       1995       1996       1997       1998  ...       2011  \\\n",
       "0   85020000   73860000   72600000   77640000   77580000  ...   87120000   \n",
       "1          0          0          0          0          0  ...  349680000   \n",
       "2  135720000  144060000  151560000  152640000  214800000  ...          0   \n",
       "3   27780000   30900000   16320000   17640000   20520000  ...   28920000   \n",
       "4   11580000   19200000   19320000   23100000   20340000  ...   23460000   \n",
       "5    3120000    2640000    3120000    2460000    3000000  ...    4920000   \n",
       "6   33240000   33180000   31500000   33600000   45900000  ...   57120000   \n",
       "7   61980000   52620000   60360000   56940000   60840000  ...   54540000   \n",
       "8    4980000    6420000    7020000    8460000    8100000  ...   10020000   \n",
       "9   81660000   46140000   59520000   71160000   70080000  ...   77220000   \n",
       "\n",
       "        2012       2013       2014       2015       2016       2017  \\\n",
       "0   93540000   93300000   91500000   90780000   89700000   87600000   \n",
       "1  340080000  330120000  312720000  332040000  363120000  340620000   \n",
       "2          0          0          0          0          0          0   \n",
       "3   33600000   36540000   37260000   40920000   46740000   42420000   \n",
       "4   23040000   24780000   25200000   26220000   28740000   26340000   \n",
       "5    5040000    5640000    5640000    5340000    5580000    6000000   \n",
       "6   67620000   71040000  109380000  124080000  106740000   90420000   \n",
       "7   54780000   55260000   51180000   50460000   54360000   51120000   \n",
       "8    9420000    9360000    7860000    7560000    8100000    7980000   \n",
       "9   74280000   76500000   72780000   79260000   83340000   81600000   \n",
       "\n",
       "        2018       2019  Total_import  \n",
       "0   85740000   86880000    2765760000  \n",
       "1  344520000  371940000    6240540000  \n",
       "2          0          0    1257900000  \n",
       "3   44220000   47100000     830700000  \n",
       "4   26760000   27960000     622080000  \n",
       "5    7980000    7980000     130380000  \n",
       "6  114180000   96540000    1816020000  \n",
       "7   52080000   54480000    1741860000  \n",
       "8    8820000    8880000     268980000  \n",
       "9   77100000   90900000    2151840000  \n",
       "\n",
       "[10 rows x 32 columns]"
      ]
     },
     "execution_count": 18,
     "metadata": {},
     "output_type": "execute_result"
    }
   ],
   "source": [
    "df = pd.read_csv(\"dataset/Coffee_import.csv\", sep=\",\")\n",
    "df.head(10)"
   ]
  },
  {
   "cell_type": "code",
   "execution_count": 19,
   "metadata": {},
   "outputs": [
    {
     "name": "stdout",
     "output_type": "stream",
     "text": [
      "Number of Rows: 35\n",
      "Number of Columns: 32\n",
      "<class 'pandas.core.frame.DataFrame'>\n",
      "RangeIndex: 35 entries, 0 to 34\n",
      "Data columns (total 32 columns):\n",
      " #   Column        Non-Null Count  Dtype \n",
      "---  ------        --------------  ----- \n",
      " 0   Country       35 non-null     object\n",
      " 1   1990          35 non-null     int64 \n",
      " 2   1991          35 non-null     int64 \n",
      " 3   1992          35 non-null     int64 \n",
      " 4   1993          35 non-null     int64 \n",
      " 5   1994          35 non-null     int64 \n",
      " 6   1995          35 non-null     int64 \n",
      " 7   1996          35 non-null     int64 \n",
      " 8   1997          35 non-null     int64 \n",
      " 9   1998          35 non-null     int64 \n",
      " 10  1999          35 non-null     int64 \n",
      " 11  2000          35 non-null     int64 \n",
      " 12  2001          35 non-null     int64 \n",
      " 13  2002          35 non-null     int64 \n",
      " 14  2003          35 non-null     int64 \n",
      " 15  2004          35 non-null     int64 \n",
      " 16  2005          35 non-null     int64 \n",
      " 17  2006          35 non-null     int64 \n",
      " 18  2007          35 non-null     int64 \n",
      " 19  2008          35 non-null     int64 \n",
      " 20  2009          35 non-null     int64 \n",
      " 21  2010          35 non-null     int64 \n",
      " 22  2011          35 non-null     int64 \n",
      " 23  2012          35 non-null     int64 \n",
      " 24  2013          35 non-null     int64 \n",
      " 25  2014          35 non-null     int64 \n",
      " 26  2015          35 non-null     int64 \n",
      " 27  2016          35 non-null     int64 \n",
      " 28  2017          35 non-null     int64 \n",
      " 29  2018          35 non-null     int64 \n",
      " 30  2019          35 non-null     int64 \n",
      " 31  Total_import  35 non-null     int64 \n",
      "dtypes: int64(31), object(1)\n",
      "memory usage: 8.9+ KB\n"
     ]
    }
   ],
   "source": [
    "# Get the number of rows and columns\n",
    "rows = len(df.axes[0])\n",
    "cols = len(df.axes[1])\n",
    "  \n",
    "# Print the number of rows and columns\n",
    "print(\"Number of Rows: \" + str(rows))\n",
    "print(\"Number of Columns: \" + str(cols))\n",
    "\n",
    "df.info()"
   ]
  },
  {
   "cell_type": "code",
   "execution_count": 4,
   "metadata": {},
   "outputs": [
    {
     "data": {
      "image/png": "[encoded data removed]",
      "text/plain": [
       "<Figure size 1200x800 with 1 Axes>"
      ]
     },
     "metadata": {},
     "output_type": "display_data"
    }
   ],
   "source": [
    "plt.figure(figsize=(12,8)) \n",
    "sns.heatmap(df.isnull(),cmap='cool',cbar=False,yticklabels=False)\n",
    "plt.title('Missing Data?',fontsize=20)\n",
    "plt.show()\n",
    "#The data dont have NAs or spaces without data "
   ]
  },
  {
   "attachments": {},
   "cell_type": "markdown",
   "metadata": {},
   "source": [
    "## 10 countries with the highest Coffee Imports\n"
   ]
  },
  {
   "cell_type": "code",
   "execution_count": 20,
   "metadata": {},
   "outputs": [
    {
     "name": "stderr",
     "output_type": "stream",
     "text": [
      "/tmp/ipykernel_15593/26092195.py:26: MatplotlibDeprecationWarning: The 'b' parameter of grid() has been renamed 'visible' since Matplotlib 3.5; support for the old name will be dropped two minor releases later.\n",
      "  ax.grid(b = True, color ='black', linestyle ='-.', linewidth = 0.75, alpha = 0.2)\n"
     ]
    },
    {
     "data": {
      "image/png": "[encoded data removed]",
      "text/plain": [
       "<Figure size 1800x900 with 1 Axes>"
      ]
     },
     "metadata": {},
     "output_type": "display_data"
    }
   ],
   "source": [
    "# 10 countries with the coffee export \n",
    "\n",
    "max_coffee_import = df.sort_values(ascending=True, by=['Total_import'])\n",
    "max_coffee_import = max_coffee_import.tail(10)\n",
    "\n",
    "# PLOT\n",
    "# Fig Size\n",
    "fig, ax = plt.subplots(figsize =(18, 9))\n",
    "\n",
    "# Horizontal  Bar Plot\n",
    "plt.barh(max_coffee_import['Country'],max_coffee_import['Total_import'],color =('C0','C1','C2','C3','C4','C5','C6','C7','C8','C9'))\n",
    "\n",
    "# Remove axes splines\n",
    "for s in ['top', 'bottom', 'left', 'right']:\n",
    "    ax.spines[s].set_visible(False)\n",
    "\n",
    "# Remove x, y Ticks\n",
    "ax.xaxis.set_ticks_position('none')\n",
    "ax.yaxis.set_ticks_position('none')\n",
    "\n",
    "# Add padding between axes and labels\n",
    "ax.xaxis.set_tick_params(pad = 5)\n",
    "ax.yaxis.set_tick_params(pad = 10)\n",
    "\n",
    "# Add x, y gridlines\n",
    "ax.grid(b = True, color ='black', linestyle ='-.', linewidth = 0.75, alpha = 0.2)\n",
    "\n",
    "# Show top values\n",
    "ax.invert_yaxis()\n",
    "\n",
    "# Add annotation to bars\n",
    "for i in ax.patches:\n",
    "    plt.text(i.get_width()+0.2, i.get_y()+0.5, str(round((i.get_width()), 2)),fontsize = 10, fontweight ='bold',color ='grey')\n",
    "\n",
    "# Add Plot Title\n",
    "plt.ylabel(\"Countries\")\n",
    "plt.xlabel(\"Total Coffee Import (Kg per capita)\")\n",
    "plt.title(\"10 countries with the highest Coffee Imports\")\n",
    "\n",
    "# Add Text watermark\n",
    "fig.text(0.9, 0.15, 'joshoandres13', fontsize = 12,\n",
    "         color ='grey', ha ='right', va ='bottom',\n",
    "         alpha = 0.7)\n",
    " \n",
    "# Show Plot\n",
    "plt.show()"
   ]
  },
  {
   "attachments": {},
   "cell_type": "markdown",
   "metadata": {},
   "source": [
    "## 10 countries with the lowest Coffee Exports"
   ]
  },
  {
   "cell_type": "code",
   "execution_count": 22,
   "metadata": {},
   "outputs": [
    {
     "name": "stderr",
     "output_type": "stream",
     "text": [
      "/tmp/ipykernel_15593/3457862572.py:26: MatplotlibDeprecationWarning: The 'b' parameter of grid() has been renamed 'visible' since Matplotlib 3.5; support for the old name will be dropped two minor releases later.\n",
      "  ax.grid(b = True, color ='black', linestyle ='-.', linewidth = 0.75, alpha = 0.2)\n"
     ]
    },
    {
     "data": {
      "image/png": "[encoded data removed]",
      "text/plain": [
       "<Figure size 1800x900 with 1 Axes>"
      ]
     },
     "metadata": {},
     "output_type": "display_data"
    }
   ],
   "source": [
    "# 10 countries with the minimal coffee export\n",
    "\n",
    "min_coffee_import = df.sort_values(ascending=True, by=['Total_import'])\n",
    "min_coffee_import = min_coffee_import.head(10)\n",
    "\n",
    "# PLOT\n",
    "# Fig Size\n",
    "fig, ax = plt.subplots(figsize =(18, 9))\n",
    "\n",
    "# Horizontal  Bar Plot\n",
    "plt.barh(min_coffee_import['Country'],min_coffee_import['Total_import'],color =('C0','C1','C2','C3','C4','C5','C6','C7','C8','C9'))\n",
    "\n",
    "# Remove axes splines\n",
    "for s in ['top', 'bottom', 'left', 'right']:\n",
    "    ax.spines[s].set_visible(False)\n",
    "\n",
    "# Remove x, y Ticks\n",
    "ax.xaxis.set_ticks_position('none')\n",
    "ax.yaxis.set_ticks_position('none')\n",
    "\n",
    "# Add padding between axes and labels\n",
    "ax.xaxis.set_tick_params(pad = 5)\n",
    "ax.yaxis.set_tick_params(pad = 10)\n",
    "\n",
    "# Add x, y gridlines\n",
    "ax.grid(b = True, color ='black', linestyle ='-.', linewidth = 0.75, alpha = 0.2)\n",
    "\n",
    "# Show top values\n",
    "ax.invert_yaxis()\n",
    "\n",
    "# Add annotation to bars\n",
    "for i in ax.patches:\n",
    "    plt.text(i.get_width()+0.2, i.get_y()+0.5, str(round((i.get_width()), 2)),fontsize = 10, fontweight ='bold',color ='grey')\n",
    "\n",
    "# Add Plot Title\n",
    "plt.ylabel(\"Countries\")\n",
    "plt.xlabel(\"Total Coffee Export (Kg per capita)\")\n",
    "plt.title(\"10 countries with the lowest Coffee Imports\")\n",
    "\n",
    "# Add Text watermark\n",
    "fig.text(0.9, 0.15, 'joshoandres13', fontsize = 12,\n",
    "         color ='grey', ha ='right', va ='bottom',\n",
    "         alpha = 0.7)\n",
    " \n",
    "# Show Plot\n",
    "plt.show()"
   ]
  },
  {
   "cell_type": "code",
   "execution_count": 23,
   "metadata": {},
   "outputs": [],
   "source": [
    "def transpose_dataframe(df,sort_value_by_criteria):\n",
    "    df_top10 = df.sort_values(by=[sort_value_by_criteria],ascending=False).head(10)\n",
    "    transpose_df_top10 = df_top10.T\n",
    "    transpose_df_top10.drop([\"Country\",sort_value_by_criteria],inplace=True, axis=0) #implace edita el archivo actual no genera copia\n",
    "    transpose_df_top10.columns = df_top10['Country'].values\n",
    "    transpose_df_top10.head(2)\n",
    "    return transpose_df_top10"
   ]
  },
  {
   "cell_type": "code",
   "execution_count": 24,
   "metadata": {},
   "outputs": [
    {
     "data": {
      "text/html": [
       "<div>\n",
       "<style scoped>\n",
       "    .dataframe tbody tr th:only-of-type {\n",
       "        vertical-align: middle;\n",
       "    }\n",
       "\n",
       "    .dataframe tbody tr th {\n",
       "        vertical-align: top;\n",
       "    }\n",
       "\n",
       "    .dataframe thead th {\n",
       "        text-align: right;\n",
       "    }\n",
       "</style>\n",
       "<table border=\"1\" class=\"dataframe\">\n",
       "  <thead>\n",
       "    <tr style=\"text-align: right;\">\n",
       "      <th></th>\n",
       "      <th>United States of America</th>\n",
       "      <th>Germany</th>\n",
       "      <th>Italy</th>\n",
       "      <th>Japan</th>\n",
       "      <th>France</th>\n",
       "      <th>Spain</th>\n",
       "      <th>United Kingdom</th>\n",
       "      <th>Belgium</th>\n",
       "      <th>Netherlands</th>\n",
       "      <th>Russian Federation</th>\n",
       "    </tr>\n",
       "  </thead>\n",
       "  <tbody>\n",
       "    <tr>\n",
       "      <th>1990</th>\n",
       "      <td>1260420000</td>\n",
       "      <td>820260000</td>\n",
       "      <td>314520000</td>\n",
       "      <td>319800000</td>\n",
       "      <td>378060000</td>\n",
       "      <td>183180000</td>\n",
       "      <td>173880000</td>\n",
       "      <td>0</td>\n",
       "      <td>187680000</td>\n",
       "      <td>0</td>\n",
       "    </tr>\n",
       "    <tr>\n",
       "      <th>1991</th>\n",
       "      <td>1190400000</td>\n",
       "      <td>793740000</td>\n",
       "      <td>277800000</td>\n",
       "      <td>330600000</td>\n",
       "      <td>393180000</td>\n",
       "      <td>178200000</td>\n",
       "      <td>168360000</td>\n",
       "      <td>0</td>\n",
       "      <td>187260000</td>\n",
       "      <td>0</td>\n",
       "    </tr>\n",
       "    <tr>\n",
       "      <th>1992</th>\n",
       "      <td>1376340000</td>\n",
       "      <td>827340000</td>\n",
       "      <td>275700000</td>\n",
       "      <td>319560000</td>\n",
       "      <td>396720000</td>\n",
       "      <td>204840000</td>\n",
       "      <td>185280000</td>\n",
       "      <td>0</td>\n",
       "      <td>192300000</td>\n",
       "      <td>82920000</td>\n",
       "    </tr>\n",
       "    <tr>\n",
       "      <th>1993</th>\n",
       "      <td>1159740000</td>\n",
       "      <td>846420000</td>\n",
       "      <td>335640000</td>\n",
       "      <td>341460000</td>\n",
       "      <td>380040000</td>\n",
       "      <td>168780000</td>\n",
       "      <td>191820000</td>\n",
       "      <td>0</td>\n",
       "      <td>168240000</td>\n",
       "      <td>107700000</td>\n",
       "    </tr>\n",
       "    <tr>\n",
       "      <th>1994</th>\n",
       "      <td>970260000</td>\n",
       "      <td>814980000</td>\n",
       "      <td>333240000</td>\n",
       "      <td>373020000</td>\n",
       "      <td>382140000</td>\n",
       "      <td>181680000</td>\n",
       "      <td>207960000</td>\n",
       "      <td>0</td>\n",
       "      <td>168000000</td>\n",
       "      <td>103560000</td>\n",
       "    </tr>\n",
       "    <tr>\n",
       "      <th>1995</th>\n",
       "      <td>1026420000</td>\n",
       "      <td>771120000</td>\n",
       "      <td>323280000</td>\n",
       "      <td>329340000</td>\n",
       "      <td>372840000</td>\n",
       "      <td>188760000</td>\n",
       "      <td>168420000</td>\n",
       "      <td>0</td>\n",
       "      <td>174600000</td>\n",
       "      <td>103680000</td>\n",
       "    </tr>\n",
       "    <tr>\n",
       "      <th>1996</th>\n",
       "      <td>1166700000</td>\n",
       "      <td>810420000</td>\n",
       "      <td>336480000</td>\n",
       "      <td>359640000</td>\n",
       "      <td>399600000</td>\n",
       "      <td>210900000</td>\n",
       "      <td>174180000</td>\n",
       "      <td>0</td>\n",
       "      <td>185040000</td>\n",
       "      <td>67680000</td>\n",
       "    </tr>\n",
       "    <tr>\n",
       "      <th>1997</th>\n",
       "      <td>1220580000</td>\n",
       "      <td>834300000</td>\n",
       "      <td>344580000</td>\n",
       "      <td>355260000</td>\n",
       "      <td>402240000</td>\n",
       "      <td>226620000</td>\n",
       "      <td>175740000</td>\n",
       "      <td>0</td>\n",
       "      <td>175440000</td>\n",
       "      <td>131100000</td>\n",
       "    </tr>\n",
       "    <tr>\n",
       "      <th>1998</th>\n",
       "      <td>1261800000</td>\n",
       "      <td>824400000</td>\n",
       "      <td>353340000</td>\n",
       "      <td>361620000</td>\n",
       "      <td>394560000</td>\n",
       "      <td>223080000</td>\n",
       "      <td>188520000</td>\n",
       "      <td>0</td>\n",
       "      <td>171720000</td>\n",
       "      <td>103920000</td>\n",
       "    </tr>\n",
       "    <tr>\n",
       "      <th>1999</th>\n",
       "      <td>1364760000</td>\n",
       "      <td>859200000</td>\n",
       "      <td>356580000</td>\n",
       "      <td>392820000</td>\n",
       "      <td>400560000</td>\n",
       "      <td>239160000</td>\n",
       "      <td>174420000</td>\n",
       "      <td>180180000</td>\n",
       "      <td>153960000</td>\n",
       "      <td>82080000</td>\n",
       "    </tr>\n",
       "    <tr>\n",
       "      <th>2000</th>\n",
       "      <td>1426020000</td>\n",
       "      <td>833700000</td>\n",
       "      <td>378900000</td>\n",
       "      <td>414480000</td>\n",
       "      <td>391200000</td>\n",
       "      <td>226080000</td>\n",
       "      <td>180720000</td>\n",
       "      <td>209460000</td>\n",
       "      <td>177960000</td>\n",
       "      <td>113400000</td>\n",
       "    </tr>\n",
       "    <tr>\n",
       "      <th>2001</th>\n",
       "      <td>1284900000</td>\n",
       "      <td>885180000</td>\n",
       "      <td>392520000</td>\n",
       "      <td>419760000</td>\n",
       "      <td>405180000</td>\n",
       "      <td>243480000</td>\n",
       "      <td>183720000</td>\n",
       "      <td>192540000</td>\n",
       "      <td>167640000</td>\n",
       "      <td>183420000</td>\n",
       "    </tr>\n",
       "    <tr>\n",
       "      <th>2002</th>\n",
       "      <td>1298340000</td>\n",
       "      <td>930960000</td>\n",
       "      <td>391380000</td>\n",
       "      <td>438420000</td>\n",
       "      <td>415500000</td>\n",
       "      <td>241560000</td>\n",
       "      <td>178260000</td>\n",
       "      <td>227520000</td>\n",
       "      <td>165600000</td>\n",
       "      <td>210240000</td>\n",
       "    </tr>\n",
       "    <tr>\n",
       "      <th>2003</th>\n",
       "      <td>1365600000</td>\n",
       "      <td>943620000</td>\n",
       "      <td>415740000</td>\n",
       "      <td>415380000</td>\n",
       "      <td>399120000</td>\n",
       "      <td>248160000</td>\n",
       "      <td>180120000</td>\n",
       "      <td>229080000</td>\n",
       "      <td>190560000</td>\n",
       "      <td>226320000</td>\n",
       "    </tr>\n",
       "    <tr>\n",
       "      <th>2004</th>\n",
       "      <td>1391040000</td>\n",
       "      <td>1041360000</td>\n",
       "      <td>421920000</td>\n",
       "      <td>435240000</td>\n",
       "      <td>356400000</td>\n",
       "      <td>250380000</td>\n",
       "      <td>199740000</td>\n",
       "      <td>238080000</td>\n",
       "      <td>189540000</td>\n",
       "      <td>192300000</td>\n",
       "    </tr>\n",
       "    <tr>\n",
       "      <th>2005</th>\n",
       "      <td>1382520000</td>\n",
       "      <td>1002960000</td>\n",
       "      <td>436140000</td>\n",
       "      <td>444480000</td>\n",
       "      <td>342840000</td>\n",
       "      <td>261360000</td>\n",
       "      <td>205980000</td>\n",
       "      <td>243780000</td>\n",
       "      <td>179280000</td>\n",
       "      <td>200160000</td>\n",
       "    </tr>\n",
       "    <tr>\n",
       "      <th>2006</th>\n",
       "      <td>1422540000</td>\n",
       "      <td>1112580000</td>\n",
       "      <td>452880000</td>\n",
       "      <td>457920000</td>\n",
       "      <td>371460000</td>\n",
       "      <td>272280000</td>\n",
       "      <td>242760000</td>\n",
       "      <td>276300000</td>\n",
       "      <td>197580000</td>\n",
       "      <td>207900000</td>\n",
       "    </tr>\n",
       "    <tr>\n",
       "      <th>2007</th>\n",
       "      <td>1453140000</td>\n",
       "      <td>1173840000</td>\n",
       "      <td>481680000</td>\n",
       "      <td>425160000</td>\n",
       "      <td>385200000</td>\n",
       "      <td>292500000</td>\n",
       "      <td>226860000</td>\n",
       "      <td>240840000</td>\n",
       "      <td>211860000</td>\n",
       "      <td>259080000</td>\n",
       "    </tr>\n",
       "    <tr>\n",
       "      <th>2008</th>\n",
       "      <td>1456620000</td>\n",
       "      <td>1192560000</td>\n",
       "      <td>490320000</td>\n",
       "      <td>423600000</td>\n",
       "      <td>375120000</td>\n",
       "      <td>291840000</td>\n",
       "      <td>238020000</td>\n",
       "      <td>407520000</td>\n",
       "      <td>138240000</td>\n",
       "      <td>243180000</td>\n",
       "    </tr>\n",
       "    <tr>\n",
       "      <th>2009</th>\n",
       "      <td>1414680000</td>\n",
       "      <td>1164960000</td>\n",
       "      <td>484680000</td>\n",
       "      <td>425400000</td>\n",
       "      <td>400200000</td>\n",
       "      <td>288660000</td>\n",
       "      <td>247860000</td>\n",
       "      <td>354960000</td>\n",
       "      <td>150120000</td>\n",
       "      <td>213180000</td>\n",
       "    </tr>\n",
       "    <tr>\n",
       "      <th>2010</th>\n",
       "      <td>1462680000</td>\n",
       "      <td>1236180000</td>\n",
       "      <td>494160000</td>\n",
       "      <td>444420000</td>\n",
       "      <td>403020000</td>\n",
       "      <td>302040000</td>\n",
       "      <td>258120000</td>\n",
       "      <td>355440000</td>\n",
       "      <td>154980000</td>\n",
       "      <td>249300000</td>\n",
       "    </tr>\n",
       "    <tr>\n",
       "      <th>2011</th>\n",
       "      <td>1565580000</td>\n",
       "      <td>1255560000</td>\n",
       "      <td>501300000</td>\n",
       "      <td>452640000</td>\n",
       "      <td>419520000</td>\n",
       "      <td>289260000</td>\n",
       "      <td>250980000</td>\n",
       "      <td>349680000</td>\n",
       "      <td>160680000</td>\n",
       "      <td>253080000</td>\n",
       "    </tr>\n",
       "    <tr>\n",
       "      <th>2012</th>\n",
       "      <td>1563360000</td>\n",
       "      <td>1308960000</td>\n",
       "      <td>521460000</td>\n",
       "      <td>421500000</td>\n",
       "      <td>410460000</td>\n",
       "      <td>305640000</td>\n",
       "      <td>247560000</td>\n",
       "      <td>340080000</td>\n",
       "      <td>163800000</td>\n",
       "      <td>250500000</td>\n",
       "    </tr>\n",
       "    <tr>\n",
       "      <th>2013</th>\n",
       "      <td>1620960000</td>\n",
       "      <td>1270440000</td>\n",
       "      <td>529380000</td>\n",
       "      <td>502860000</td>\n",
       "      <td>402780000</td>\n",
       "      <td>308220000</td>\n",
       "      <td>252360000</td>\n",
       "      <td>330120000</td>\n",
       "      <td>204420000</td>\n",
       "      <td>264600000</td>\n",
       "    </tr>\n",
       "    <tr>\n",
       "      <th>2014</th>\n",
       "      <td>1653900000</td>\n",
       "      <td>1324680000</td>\n",
       "      <td>561000000</td>\n",
       "      <td>459420000</td>\n",
       "      <td>426720000</td>\n",
       "      <td>324360000</td>\n",
       "      <td>259140000</td>\n",
       "      <td>312720000</td>\n",
       "      <td>240960000</td>\n",
       "      <td>284820000</td>\n",
       "    </tr>\n",
       "    <tr>\n",
       "      <th>2015</th>\n",
       "      <td>1662480000</td>\n",
       "      <td>1278960000</td>\n",
       "      <td>559680000</td>\n",
       "      <td>483780000</td>\n",
       "      <td>408540000</td>\n",
       "      <td>325740000</td>\n",
       "      <td>293700000</td>\n",
       "      <td>332040000</td>\n",
       "      <td>250560000</td>\n",
       "      <td>282600000</td>\n",
       "    </tr>\n",
       "    <tr>\n",
       "      <th>2016</th>\n",
       "      <td>1730280000</td>\n",
       "      <td>1342080000</td>\n",
       "      <td>613440000</td>\n",
       "      <td>481560000</td>\n",
       "      <td>404280000</td>\n",
       "      <td>339600000</td>\n",
       "      <td>303120000</td>\n",
       "      <td>363120000</td>\n",
       "      <td>286860000</td>\n",
       "      <td>313980000</td>\n",
       "    </tr>\n",
       "    <tr>\n",
       "      <th>2017</th>\n",
       "      <td>1769280000</td>\n",
       "      <td>1305900000</td>\n",
       "      <td>601200000</td>\n",
       "      <td>458820000</td>\n",
       "      <td>418020000</td>\n",
       "      <td>324840000</td>\n",
       "      <td>299340000</td>\n",
       "      <td>340620000</td>\n",
       "      <td>304080000</td>\n",
       "      <td>328080000</td>\n",
       "    </tr>\n",
       "    <tr>\n",
       "      <th>2018</th>\n",
       "      <td>1735080000</td>\n",
       "      <td>1328820000</td>\n",
       "      <td>638340000</td>\n",
       "      <td>452400000</td>\n",
       "      <td>457440000</td>\n",
       "      <td>340380000</td>\n",
       "      <td>341280000</td>\n",
       "      <td>344520000</td>\n",
       "      <td>331200000</td>\n",
       "      <td>317280000</td>\n",
       "    </tr>\n",
       "    <tr>\n",
       "      <th>2019</th>\n",
       "      <td>1851240000</td>\n",
       "      <td>1345920000</td>\n",
       "      <td>654840000</td>\n",
       "      <td>482400000</td>\n",
       "      <td>479580000</td>\n",
       "      <td>359040000</td>\n",
       "      <td>333240000</td>\n",
       "      <td>371940000</td>\n",
       "      <td>321240000</td>\n",
       "      <td>355020000</td>\n",
       "    </tr>\n",
       "  </tbody>\n",
       "</table>\n",
       "</div>"
      ],
      "text/plain": [
       "     United States of America     Germany      Italy      Japan     France  \\\n",
       "1990               1260420000   820260000  314520000  319800000  378060000   \n",
       "1991               1190400000   793740000  277800000  330600000  393180000   \n",
       "1992               1376340000   827340000  275700000  319560000  396720000   \n",
       "1993               1159740000   846420000  335640000  341460000  380040000   \n",
       "1994                970260000   814980000  333240000  373020000  382140000   \n",
       "1995               1026420000   771120000  323280000  329340000  372840000   \n",
       "1996               1166700000   810420000  336480000  359640000  399600000   \n",
       "1997               1220580000   834300000  344580000  355260000  402240000   \n",
       "1998               1261800000   824400000  353340000  361620000  394560000   \n",
       "1999               1364760000   859200000  356580000  392820000  400560000   \n",
       "2000               1426020000   833700000  378900000  414480000  391200000   \n",
       "2001               1284900000   885180000  392520000  419760000  405180000   \n",
       "2002               1298340000   930960000  391380000  438420000  415500000   \n",
       "2003               1365600000   943620000  415740000  415380000  399120000   \n",
       "2004               1391040000  1041360000  421920000  435240000  356400000   \n",
       "2005               1382520000  1002960000  436140000  444480000  342840000   \n",
       "2006               1422540000  1112580000  452880000  457920000  371460000   \n",
       "2007               1453140000  1173840000  481680000  425160000  385200000   \n",
       "2008               1456620000  1192560000  490320000  423600000  375120000   \n",
       "2009               1414680000  1164960000  484680000  425400000  400200000   \n",
       "2010               1462680000  1236180000  494160000  444420000  403020000   \n",
       "2011               1565580000  1255560000  501300000  452640000  419520000   \n",
       "2012               1563360000  1308960000  521460000  421500000  410460000   \n",
       "2013               1620960000  1270440000  529380000  502860000  402780000   \n",
       "2014               1653900000  1324680000  561000000  459420000  426720000   \n",
       "2015               1662480000  1278960000  559680000  483780000  408540000   \n",
       "2016               1730280000  1342080000  613440000  481560000  404280000   \n",
       "2017               1769280000  1305900000  601200000  458820000  418020000   \n",
       "2018               1735080000  1328820000  638340000  452400000  457440000   \n",
       "2019               1851240000  1345920000  654840000  482400000  479580000   \n",
       "\n",
       "          Spain United Kingdom    Belgium    Netherlands Russian Federation  \n",
       "1990  183180000      173880000          0      187680000                  0  \n",
       "1991  178200000      168360000          0      187260000                  0  \n",
       "1992  204840000      185280000          0      192300000           82920000  \n",
       "1993  168780000      191820000          0      168240000          107700000  \n",
       "1994  181680000      207960000          0      168000000          103560000  \n",
       "1995  188760000      168420000          0      174600000          103680000  \n",
       "1996  210900000      174180000          0      185040000           67680000  \n",
       "1997  226620000      175740000          0      175440000          131100000  \n",
       "1998  223080000      188520000          0      171720000          103920000  \n",
       "1999  239160000      174420000  180180000      153960000           82080000  \n",
       "2000  226080000      180720000  209460000      177960000          113400000  \n",
       "2001  243480000      183720000  192540000      167640000          183420000  \n",
       "2002  241560000      178260000  227520000      165600000          210240000  \n",
       "2003  248160000      180120000  229080000      190560000          226320000  \n",
       "2004  250380000      199740000  238080000      189540000          192300000  \n",
       "2005  261360000      205980000  243780000      179280000          200160000  \n",
       "2006  272280000      242760000  276300000      197580000          207900000  \n",
       "2007  292500000      226860000  240840000      211860000          259080000  \n",
       "2008  291840000      238020000  407520000      138240000          243180000  \n",
       "2009  288660000      247860000  354960000      150120000          213180000  \n",
       "2010  302040000      258120000  355440000      154980000          249300000  \n",
       "2011  289260000      250980000  349680000      160680000          253080000  \n",
       "2012  305640000      247560000  340080000      163800000          250500000  \n",
       "2013  308220000      252360000  330120000      204420000          264600000  \n",
       "2014  324360000      259140000  312720000      240960000          284820000  \n",
       "2015  325740000      293700000  332040000      250560000          282600000  \n",
       "2016  339600000      303120000  363120000      286860000          313980000  \n",
       "2017  324840000      299340000  340620000      304080000          328080000  \n",
       "2018  340380000      341280000  344520000      331200000          317280000  \n",
       "2019  359040000      333240000  371940000      321240000          355020000  "
      ]
     },
     "execution_count": 24,
     "metadata": {},
     "output_type": "execute_result"
    }
   ],
   "source": [
    "df_year_coffee_import = transpose_dataframe(df, 'Total_import')\n",
    "df_year_coffee_import"
   ]
  },
  {
   "cell_type": "code",
   "execution_count": 26,
   "metadata": {},
   "outputs": [
    {
     "data": {
      "application/vnd.plotly.v1+json": {
       "config": {
        "plotlyServerURL": "https://plot.ly"
       },
       "data": [
        {
         "hovertemplate": "variable=United States of America<br>index=%{x}<br>value=%{y}<extra></extra>",
         "legendgroup": "United States of America",
         "line": {
          "color": "#636efa",
          "dash": "solid",
          "shape": "spline",
          "width": 3
         },
         "marker": {
          "symbol": "circle"
         },
         "mode": "lines+markers",
         "name": "United States of America",
         "orientation": "v",
         "showlegend": true,
         "type": "scatter",
         "x": [
          "1990",
          "1991",
          "1992",
          "1993",
          "1994",
          "1995",
          "1996",
          "1997",
          "1998",
          "1999",
          "2000",
          "2001",
          "2002",
          "2003",
          "2004",
          "2005",
          "2006",
          "2007",
          "2008",
          "2009",
          "2010",
          "2011",
          "2012",
          "2013",
          "2014",
          "2015",
          "2016",
          "2017",
          "2018",
          "2019"
         ],
         "xaxis": "x",
         "y": [
          1260420000,
          1190400000,
          1376340000,
          1159740000,
          970260000,
          1026420000,
          1166700000,
          1220580000,
          1261800000,
          1364760000,
          1426020000,
          1284900000,
          1298340000,
          1365600000,
          1391040000,
          1382520000,
          1422540000,
          1453140000,
          1456620000,
          1414680000,
          1462680000,
          1565580000,
          1563360000,
          1620960000,
          1653900000,
          1662480000,
          1730280000,
          1769280000,
          1735080000,
          1851240000
         ],
         "yaxis": "y"
        },
        {
         "hovertemplate": "variable=   Germany<br>index=%{x}<br>value=%{y}<extra></extra>",
         "legendgroup": "   Germany",
         "line": {
          "color": "#EF553B",
          "dash": "solid",
          "shape": "spline",
          "width": 3
         },
         "marker": {
          "symbol": "circle"
         },
         "mode": "lines+markers",
         "name": "   Germany",
         "orientation": "v",
         "showlegend": true,
         "type": "scatter",
         "x": [
          "1990",
          "1991",
          "1992",
          "1993",
          "1994",
          "1995",
          "1996",
          "1997",
          "1998",
          "1999",
          "2000",
          "2001",
          "2002",
          "2003",
          "2004",
          "2005",
          "2006",
          "2007",
          "2008",
          "2009",
          "2010",
          "2011",
          "2012",
          "2013",
          "2014",
          "2015",
          "2016",
          "2017",
          "2018",
          "2019"
         ],
         "xaxis": "x",
         "y": [
          820260000,
          793740000,
          827340000,
          846420000,
          814980000,
          771120000,
          810420000,
          834300000,
          824400000,
          859200000,
          833700000,
          885180000,
          930960000,
          943620000,
          1041360000,
          1002960000,
          1112580000,
          1173840000,
          1192560000,
          1164960000,
          1236180000,
          1255560000,
          1308960000,
          1270440000,
          1324680000,
          1278960000,
          1342080000,
          1305900000,
          1328820000,
          1345920000
         ],
         "yaxis": "y"
        },
        {
         "hovertemplate": "variable=   Italy<br>index=%{x}<br>value=%{y}<extra></extra>",
         "legendgroup": "   Italy",
         "line": {
          "color": "#00cc96",
          "dash": "solid",
          "shape": "spline",
          "width": 3
         },
         "marker": {
          "symbol": "circle"
         },
         "mode": "lines+markers",
         "name": "   Italy",
         "orientation": "v",
         "showlegend": true,
         "type": "scatter",
         "x": [
          "1990",
          "1991",
          "1992",
          "1993",
          "1994",
          "1995",
          "1996",
          "1997",
          "1998",
          "1999",
          "2000",
          "2001",
          "2002",
          "2003",
          "2004",
          "2005",
          "2006",
          "2007",
          "2008",
          "2009",
          "2010",
          "2011",
          "2012",
          "2013",
          "2014",
          "2015",
          "2016",
          "2017",
          "2018",
          "2019"
         ],
         "xaxis": "x",
         "y": [
          314520000,
          277800000,
          275700000,
          335640000,
          333240000,
          323280000,
          336480000,
          344580000,
          353340000,
          356580000,
          378900000,
          392520000,
          391380000,
          415740000,
          421920000,
          436140000,
          452880000,
          481680000,
          490320000,
          484680000,
          494160000,
          501300000,
          521460000,
          529380000,
          561000000,
          559680000,
          613440000,
          601200000,
          638340000,
          654840000
         ],
         "yaxis": "y"
        },
        {
         "hovertemplate": "variable=Japan<br>index=%{x}<br>value=%{y}<extra></extra>",
         "legendgroup": "Japan",
         "line": {
          "color": "#ab63fa",
          "dash": "solid",
          "shape": "spline",
          "width": 3
         },
         "marker": {
          "symbol": "circle"
         },
         "mode": "lines+markers",
         "name": "Japan",
         "orientation": "v",
         "showlegend": true,
         "type": "scatter",
         "x": [
          "1990",
          "1991",
          "1992",
          "1993",
          "1994",
          "1995",
          "1996",
          "1997",
          "1998",
          "1999",
          "2000",
          "2001",
          "2002",
          "2003",
          "2004",
          "2005",
          "2006",
          "2007",
          "2008",
          "2009",
          "2010",
          "2011",
          "2012",
          "2013",
          "2014",
          "2015",
          "2016",
          "2017",
          "2018",
          "2019"
         ],
         "xaxis": "x",
         "y": [
          319800000,
          330600000,
          319560000,
          341460000,
          373020000,
          329340000,
          359640000,
          355260000,
          361620000,
          392820000,
          414480000,
          419760000,
          438420000,
          415380000,
          435240000,
          444480000,
          457920000,
          425160000,
          423600000,
          425400000,
          444420000,
          452640000,
          421500000,
          502860000,
          459420000,
          483780000,
          481560000,
          458820000,
          452400000,
          482400000
         ],
         "yaxis": "y"
        },
        {
         "hovertemplate": "variable=   France<br>index=%{x}<br>value=%{y}<extra></extra>",
         "legendgroup": "   France",
         "line": {
          "color": "#FFA15A",
          "dash": "solid",
          "shape": "spline",
          "width": 3
         },
         "marker": {
          "symbol": "circle"
         },
         "mode": "lines+markers",
         "name": "   France",
         "orientation": "v",
         "showlegend": true,
         "type": "scatter",
         "x": [
          "1990",
          "1991",
          "1992",
          "1993",
          "1994",
          "1995",
          "1996",
          "1997",
          "1998",
          "1999",
          "2000",
          "2001",
          "2002",
          "2003",
          "2004",
          "2005",
          "2006",
          "2007",
          "2008",
          "2009",
          "2010",
          "2011",
          "2012",
          "2013",
          "2014",
          "2015",
          "2016",
          "2017",
          "2018",
          "2019"
         ],
         "xaxis": "x",
         "y": [
          378060000,
          393180000,
          396720000,
          380040000,
          382140000,
          372840000,
          399600000,
          402240000,
          394560000,
          400560000,
          391200000,
          405180000,
          415500000,
          399120000,
          356400000,
          342840000,
          371460000,
          385200000,
          375120000,
          400200000,
          403020000,
          419520000,
          410460000,
          402780000,
          426720000,
          408540000,
          404280000,
          418020000,
          457440000,
          479580000
         ],
         "yaxis": "y"
        },
        {
         "hovertemplate": "variable=   Spain<br>index=%{x}<br>value=%{y}<extra></extra>",
         "legendgroup": "   Spain",
         "line": {
          "color": "#19d3f3",
          "dash": "solid",
          "shape": "spline",
          "width": 3
         },
         "marker": {
          "symbol": "circle"
         },
         "mode": "lines+markers",
         "name": "   Spain",
         "orientation": "v",
         "showlegend": true,
         "type": "scatter",
         "x": [
          "1990",
          "1991",
          "1992",
          "1993",
          "1994",
          "1995",
          "1996",
          "1997",
          "1998",
          "1999",
          "2000",
          "2001",
          "2002",
          "2003",
          "2004",
          "2005",
          "2006",
          "2007",
          "2008",
          "2009",
          "2010",
          "2011",
          "2012",
          "2013",
          "2014",
          "2015",
          "2016",
          "2017",
          "2018",
          "2019"
         ],
         "xaxis": "x",
         "y": [
          183180000,
          178200000,
          204840000,
          168780000,
          181680000,
          188760000,
          210900000,
          226620000,
          223080000,
          239160000,
          226080000,
          243480000,
          241560000,
          248160000,
          250380000,
          261360000,
          272280000,
          292500000,
          291840000,
          288660000,
          302040000,
          289260000,
          305640000,
          308220000,
          324360000,
          325740000,
          339600000,
          324840000,
          340380000,
          359040000
         ],
         "yaxis": "y"
        },
        {
         "hovertemplate": "variable=United Kingdom<br>index=%{x}<br>value=%{y}<extra></extra>",
         "legendgroup": "United Kingdom",
         "line": {
          "color": "#FF6692",
          "dash": "solid",
          "shape": "spline",
          "width": 3
         },
         "marker": {
          "symbol": "circle"
         },
         "mode": "lines+markers",
         "name": "United Kingdom",
         "orientation": "v",
         "showlegend": true,
         "type": "scatter",
         "x": [
          "1990",
          "1991",
          "1992",
          "1993",
          "1994",
          "1995",
          "1996",
          "1997",
          "1998",
          "1999",
          "2000",
          "2001",
          "2002",
          "2003",
          "2004",
          "2005",
          "2006",
          "2007",
          "2008",
          "2009",
          "2010",
          "2011",
          "2012",
          "2013",
          "2014",
          "2015",
          "2016",
          "2017",
          "2018",
          "2019"
         ],
         "xaxis": "x",
         "y": [
          173880000,
          168360000,
          185280000,
          191820000,
          207960000,
          168420000,
          174180000,
          175740000,
          188520000,
          174420000,
          180720000,
          183720000,
          178260000,
          180120000,
          199740000,
          205980000,
          242760000,
          226860000,
          238020000,
          247860000,
          258120000,
          250980000,
          247560000,
          252360000,
          259140000,
          293700000,
          303120000,
          299340000,
          341280000,
          333240000
         ],
         "yaxis": "y"
        },
        {
         "hovertemplate": "variable=   Belgium<br>index=%{x}<br>value=%{y}<extra></extra>",
         "legendgroup": "   Belgium",
         "line": {
          "color": "#B6E880",
          "dash": "solid",
          "shape": "spline",
          "width": 3
         },
         "marker": {
          "symbol": "circle"
         },
         "mode": "lines+markers",
         "name": "   Belgium",
         "orientation": "v",
         "showlegend": true,
         "type": "scatter",
         "x": [
          "1990",
          "1991",
          "1992",
          "1993",
          "1994",
          "1995",
          "1996",
          "1997",
          "1998",
          "1999",
          "2000",
          "2001",
          "2002",
          "2003",
          "2004",
          "2005",
          "2006",
          "2007",
          "2008",
          "2009",
          "2010",
          "2011",
          "2012",
          "2013",
          "2014",
          "2015",
          "2016",
          "2017",
          "2018",
          "2019"
         ],
         "xaxis": "x",
         "y": [
          0,
          0,
          0,
          0,
          0,
          0,
          0,
          0,
          0,
          180180000,
          209460000,
          192540000,
          227520000,
          229080000,
          238080000,
          243780000,
          276300000,
          240840000,
          407520000,
          354960000,
          355440000,
          349680000,
          340080000,
          330120000,
          312720000,
          332040000,
          363120000,
          340620000,
          344520000,
          371940000
         ],
         "yaxis": "y"
        },
        {
         "hovertemplate": "variable=   Netherlands<br>index=%{x}<br>value=%{y}<extra></extra>",
         "legendgroup": "   Netherlands",
         "line": {
          "color": "#FF97FF",
          "dash": "solid",
          "shape": "spline",
          "width": 3
         },
         "marker": {
          "symbol": "circle"
         },
         "mode": "lines+markers",
         "name": "   Netherlands",
         "orientation": "v",
         "showlegend": true,
         "type": "scatter",
         "x": [
          "1990",
          "1991",
          "1992",
          "1993",
          "1994",
          "1995",
          "1996",
          "1997",
          "1998",
          "1999",
          "2000",
          "2001",
          "2002",
          "2003",
          "2004",
          "2005",
          "2006",
          "2007",
          "2008",
          "2009",
          "2010",
          "2011",
          "2012",
          "2013",
          "2014",
          "2015",
          "2016",
          "2017",
          "2018",
          "2019"
         ],
         "xaxis": "x",
         "y": [
          187680000,
          187260000,
          192300000,
          168240000,
          168000000,
          174600000,
          185040000,
          175440000,
          171720000,
          153960000,
          177960000,
          167640000,
          165600000,
          190560000,
          189540000,
          179280000,
          197580000,
          211860000,
          138240000,
          150120000,
          154980000,
          160680000,
          163800000,
          204420000,
          240960000,
          250560000,
          286860000,
          304080000,
          331200000,
          321240000
         ],
         "yaxis": "y"
        },
        {
         "hovertemplate": "variable=Russian Federation<br>index=%{x}<br>value=%{y}<extra></extra>",
         "legendgroup": "Russian Federation",
         "line": {
          "color": "#FECB52",
          "dash": "solid",
          "shape": "spline",
          "width": 3
         },
         "marker": {
          "symbol": "circle"
         },
         "mode": "lines+markers",
         "name": "Russian Federation",
         "orientation": "v",
         "showlegend": true,
         "type": "scatter",
         "x": [
          "1990",
          "1991",
          "1992",
          "1993",
          "1994",
          "1995",
          "1996",
          "1997",
          "1998",
          "1999",
          "2000",
          "2001",
          "2002",
          "2003",
          "2004",
          "2005",
          "2006",
          "2007",
          "2008",
          "2009",
          "2010",
          "2011",
          "2012",
          "2013",
          "2014",
          "2015",
          "2016",
          "2017",
          "2018",
          "2019"
         ],
         "xaxis": "x",
         "y": [
          0,
          0,
          82920000,
          107700000,
          103560000,
          103680000,
          67680000,
          131100000,
          103920000,
          82080000,
          113400000,
          183420000,
          210240000,
          226320000,
          192300000,
          200160000,
          207900000,
          259080000,
          243180000,
          213180000,
          249300000,
          253080000,
          250500000,
          264600000,
          284820000,
          282600000,
          313980000,
          328080000,
          317280000,
          355020000
         ],
         "yaxis": "y"
        }
       ],
       "layout": {
        "height": 1000,
        "legend": {
         "title": {
          "text": "variable"
         },
         "tracegroupgap": 0
        },
        "template": {
         "data": {
          "bar": [
           {
            "error_x": {
             "color": "#2a3f5f"
            },
            "error_y": {
             "color": "#2a3f5f"
            },
            "marker": {
             "line": {
              "color": "#E5ECF6",
              "width": 0.5
             },
             "pattern": {
              "fillmode": "overlay",
              "size": 10,
              "solidity": 0.2
             }
            },
            "type": "bar"
           }
          ],
          "barpolar": [
           {
            "marker": {
             "line": {
              "color": "#E5ECF6",
              "width": 0.5
             },
             "pattern": {
              "fillmode": "overlay",
              "size": 10,
              "solidity": 0.2
             }
            },
            "type": "barpolar"
           }
          ],
          "carpet": [
           {
            "aaxis": {
             "endlinecolor": "#2a3f5f",
             "gridcolor": "white",
             "linecolor": "white",
             "minorgridcolor": "white",
             "startlinecolor": "#2a3f5f"
            },
            "baxis": {
             "endlinecolor": "#2a3f5f",
             "gridcolor": "white",
             "linecolor": "white",
             "minorgridcolor": "white",
             "startlinecolor": "#2a3f5f"
            },
            "type": "carpet"
           }
          ],
          "choropleth": [
           {
            "colorbar": {
             "outlinewidth": 0,
             "ticks": ""
            },
            "type": "choropleth"
           }
          ],
          "contour": [
           {
            "colorbar": {
             "outlinewidth": 0,
             "ticks": ""
            },
            "colorscale": [
             [
              0,
              "#0d0887"
             ],
             [
              0.1111111111111111,
              "#46039f"
             ],
             [
              0.2222222222222222,
              "#7201a8"
             ],
             [
              0.3333333333333333,
              "#9c179e"
             ],
             [
              0.4444444444444444,
              "#bd3786"
             ],
             [
              0.5555555555555556,
              "#d8576b"
             ],
             [
              0.6666666666666666,
              "#ed7953"
             ],
             [
              0.7777777777777778,
              "#fb9f3a"
             ],
             [
              0.8888888888888888,
              "#fdca26"
             ],
             [
              1,
              "#f0f921"
             ]
            ],
            "type": "contour"
           }
          ],
          "contourcarpet": [
           {
            "colorbar": {
             "outlinewidth": 0,
             "ticks": ""
            },
            "type": "contourcarpet"
           }
          ],
          "heatmap": [
           {
            "colorbar": {
             "outlinewidth": 0,
             "ticks": ""
            },
            "colorscale": [
             [
              0,
              "#0d0887"
             ],
             [
              0.1111111111111111,
              "#46039f"
             ],
             [
              0.2222222222222222,
              "#7201a8"
             ],
             [
              0.3333333333333333,
              "#9c179e"
             ],
             [
              0.4444444444444444,
              "#bd3786"
             ],
             [
              0.5555555555555556,
              "#d8576b"
             ],
             [
              0.6666666666666666,
              "#ed7953"
             ],
             [
              0.7777777777777778,
              "#fb9f3a"
             ],
             [
              0.8888888888888888,
              "#fdca26"
             ],
             [
              1,
              "#f0f921"
             ]
            ],
            "type": "heatmap"
           }
          ],
          "heatmapgl": [
           {
            "colorbar": {
             "outlinewidth": 0,
             "ticks": ""
            },
            "colorscale": [
             [
              0,
              "#0d0887"
             ],
             [
              0.1111111111111111,
              "#46039f"
             ],
             [
              0.2222222222222222,
              "#7201a8"
             ],
             [
              0.3333333333333333,
              "#9c179e"
             ],
             [
              0.4444444444444444,
              "#bd3786"
             ],
             [
              0.5555555555555556,
              "#d8576b"
             ],
             [
              0.6666666666666666,
              "#ed7953"
             ],
             [
              0.7777777777777778,
              "#fb9f3a"
             ],
             [
              0.8888888888888888,
              "#fdca26"
             ],
             [
              1,
              "#f0f921"
             ]
            ],
            "type": "heatmapgl"
           }
          ],
          "histogram": [
           {
            "marker": {
             "pattern": {
              "fillmode": "overlay",
              "size": 10,
              "solidity": 0.2
             }
            },
            "type": "histogram"
           }
          ],
          "histogram2d": [
           {
            "colorbar": {
             "outlinewidth": 0,
             "ticks": ""
            },
            "colorscale": [
             [
              0,
              "#0d0887"
             ],
             [
              0.1111111111111111,
              "#46039f"
             ],
             [
              0.2222222222222222,
              "#7201a8"
             ],
             [
              0.3333333333333333,
              "#9c179e"
             ],
             [
              0.4444444444444444,
              "#bd3786"
             ],
             [
              0.5555555555555556,
              "#d8576b"
             ],
             [
              0.6666666666666666,
              "#ed7953"
             ],
             [
              0.7777777777777778,
              "#fb9f3a"
             ],
             [
              0.8888888888888888,
              "#fdca26"
             ],
             [
              1,
              "#f0f921"
             ]
            ],
            "type": "histogram2d"
           }
          ],
          "histogram2dcontour": [
           {
            "colorbar": {
             "outlinewidth": 0,
             "ticks": ""
            },
            "colorscale": [
             [
              0,
              "#0d0887"
             ],
             [
              0.1111111111111111,
              "#46039f"
             ],
             [
              0.2222222222222222,
              "#7201a8"
             ],
             [
              0.3333333333333333,
              "#9c179e"
             ],
             [
              0.4444444444444444,
              "#bd3786"
             ],
             [
              0.5555555555555556,
              "#d8576b"
             ],
             [
              0.6666666666666666,
              "#ed7953"
             ],
             [
              0.7777777777777778,
              "#fb9f3a"
             ],
             [
              0.8888888888888888,
              "#fdca26"
             ],
             [
              1,
              "#f0f921"
             ]
            ],
            "type": "histogram2dcontour"
           }
          ],
          "mesh3d": [
           {
            "colorbar": {
             "outlinewidth": 0,
             "ticks": ""
            },
            "type": "mesh3d"
           }
          ],
          "parcoords": [
           {
            "line": {
             "colorbar": {
              "outlinewidth": 0,
              "ticks": ""
             }
            },
            "type": "parcoords"
           }
          ],
          "pie": [
           {
            "automargin": true,
            "type": "pie"
           }
          ],
          "scatter": [
           {
            "fillpattern": {
             "fillmode": "overlay",
             "size": 10,
             "solidity": 0.2
            },
            "type": "scatter"
           }
          ],
          "scatter3d": [
           {
            "line": {
             "colorbar": {
              "outlinewidth": 0,
              "ticks": ""
             }
            },
            "marker": {
             "colorbar": {
              "outlinewidth": 0,
              "ticks": ""
             }
            },
            "type": "scatter3d"
           }
          ],
          "scattercarpet": [
           {
            "marker": {
             "colorbar": {
              "outlinewidth": 0,
              "ticks": ""
             }
            },
            "type": "scattercarpet"
           }
          ],
          "scattergeo": [
           {
            "marker": {
             "colorbar": {
              "outlinewidth": 0,
              "ticks": ""
             }
            },
            "type": "scattergeo"
           }
          ],
          "scattergl": [
           {
            "marker": {
             "colorbar": {
              "outlinewidth": 0,
              "ticks": ""
             }
            },
            "type": "scattergl"
           }
          ],
          "scattermapbox": [
           {
            "marker": {
             "colorbar": {
              "outlinewidth": 0,
              "ticks": ""
             }
            },
            "type": "scattermapbox"
           }
          ],
          "scatterpolar": [
           {
            "marker": {
             "colorbar": {
              "outlinewidth": 0,
              "ticks": ""
             }
            },
            "type": "scatterpolar"
           }
          ],
          "scatterpolargl": [
           {
            "marker": {
             "colorbar": {
              "outlinewidth": 0,
              "ticks": ""
             }
            },
            "type": "scatterpolargl"
           }
          ],
          "scatterternary": [
           {
            "marker": {
             "colorbar": {
              "outlinewidth": 0,
              "ticks": ""
             }
            },
            "type": "scatterternary"
           }
          ],
          "surface": [
           {
            "colorbar": {
             "outlinewidth": 0,
             "ticks": ""
            },
            "colorscale": [
             [
              0,
              "#0d0887"
             ],
             [
              0.1111111111111111,
              "#46039f"
             ],
             [
              0.2222222222222222,
              "#7201a8"
             ],
             [
              0.3333333333333333,
              "#9c179e"
             ],
             [
              0.4444444444444444,
              "#bd3786"
             ],
             [
              0.5555555555555556,
              "#d8576b"
             ],
             [
              0.6666666666666666,
              "#ed7953"
             ],
             [
              0.7777777777777778,
              "#fb9f3a"
             ],
             [
              0.8888888888888888,
              "#fdca26"
             ],
             [
              1,
              "#f0f921"
             ]
            ],
            "type": "surface"
           }
          ],
          "table": [
           {
            "cells": {
             "fill": {
              "color": "#EBF0F8"
             },
             "line": {
              "color": "white"
             }
            },
            "header": {
             "fill": {
              "color": "#C8D4E3"
             },
             "line": {
              "color": "white"
             }
            },
            "type": "table"
           }
          ]
         },
         "layout": {
          "annotationdefaults": {
           "arrowcolor": "#2a3f5f",
           "arrowhead": 0,
           "arrowwidth": 1
          },
          "autotypenumbers": "strict",
          "coloraxis": {
           "colorbar": {
            "outlinewidth": 0,
            "ticks": ""
           }
          },
          "colorscale": {
           "diverging": [
            [
             0,
             "#8e0152"
            ],
            [
             0.1,
             "#c51b7d"
            ],
            [
             0.2,
             "#de77ae"
            ],
            [
             0.3,
             "#f1b6da"
            ],
            [
             0.4,
             "#fde0ef"
            ],
            [
             0.5,
             "#f7f7f7"
            ],
            [
             0.6,
             "#e6f5d0"
            ],
            [
             0.7,
             "#b8e186"
            ],
            [
             0.8,
             "#7fbc41"
            ],
            [
             0.9,
             "#4d9221"
            ],
            [
             1,
             "#276419"
            ]
           ],
           "sequential": [
            [
             0,
             "#0d0887"
            ],
            [
             0.1111111111111111,
             "#46039f"
            ],
            [
             0.2222222222222222,
             "#7201a8"
            ],
            [
             0.3333333333333333,
             "#9c179e"
            ],
            [
             0.4444444444444444,
             "#bd3786"
            ],
            [
             0.5555555555555556,
             "#d8576b"
            ],
            [
             0.6666666666666666,
             "#ed7953"
            ],
            [
             0.7777777777777778,
             "#fb9f3a"
            ],
            [
             0.8888888888888888,
             "#fdca26"
            ],
            [
             1,
             "#f0f921"
            ]
           ],
           "sequentialminus": [
            [
             0,
             "#0d0887"
            ],
            [
             0.1111111111111111,
             "#46039f"
            ],
            [
             0.2222222222222222,
             "#7201a8"
            ],
            [
             0.3333333333333333,
             "#9c179e"
            ],
            [
             0.4444444444444444,
             "#bd3786"
            ],
            [
             0.5555555555555556,
             "#d8576b"
            ],
            [
             0.6666666666666666,
             "#ed7953"
            ],
            [
             0.7777777777777778,
             "#fb9f3a"
            ],
            [
             0.8888888888888888,
             "#fdca26"
            ],
            [
             1,
             "#f0f921"
            ]
           ]
          },
          "colorway": [
           "#636efa",
           "#EF553B",
           "#00cc96",
           "#ab63fa",
           "#FFA15A",
           "#19d3f3",
           "#FF6692",
           "#B6E880",
           "#FF97FF",
           "#FECB52"
          ],
          "font": {
           "color": "#2a3f5f"
          },
          "geo": {
           "bgcolor": "white",
           "lakecolor": "white",
           "landcolor": "#E5ECF6",
           "showlakes": true,
           "showland": true,
           "subunitcolor": "white"
          },
          "hoverlabel": {
           "align": "left"
          },
          "hovermode": "closest",
          "mapbox": {
           "style": "light"
          },
          "paper_bgcolor": "white",
          "plot_bgcolor": "#E5ECF6",
          "polar": {
           "angularaxis": {
            "gridcolor": "white",
            "linecolor": "white",
            "ticks": ""
           },
           "bgcolor": "#E5ECF6",
           "radialaxis": {
            "gridcolor": "white",
            "linecolor": "white",
            "ticks": ""
           }
          },
          "scene": {
           "xaxis": {
            "backgroundcolor": "#E5ECF6",
            "gridcolor": "white",
            "gridwidth": 2,
            "linecolor": "white",
            "showbackground": true,
            "ticks": "",
            "zerolinecolor": "white"
           },
           "yaxis": {
            "backgroundcolor": "#E5ECF6",
            "gridcolor": "white",
            "gridwidth": 2,
            "linecolor": "white",
            "showbackground": true,
            "ticks": "",
            "zerolinecolor": "white"
           },
           "zaxis": {
            "backgroundcolor": "#E5ECF6",
            "gridcolor": "white",
            "gridwidth": 2,
            "linecolor": "white",
            "showbackground": true,
            "ticks": "",
            "zerolinecolor": "white"
           }
          },
          "shapedefaults": {
           "line": {
            "color": "#2a3f5f"
           }
          },
          "ternary": {
           "aaxis": {
            "gridcolor": "white",
            "linecolor": "white",
            "ticks": ""
           },
           "baxis": {
            "gridcolor": "white",
            "linecolor": "white",
            "ticks": ""
           },
           "bgcolor": "#E5ECF6",
           "caxis": {
            "gridcolor": "white",
            "linecolor": "white",
            "ticks": ""
           }
          },
          "title": {
           "x": 0.05
          },
          "xaxis": {
           "automargin": true,
           "gridcolor": "white",
           "linecolor": "white",
           "ticks": "",
           "title": {
            "standoff": 15
           },
           "zerolinecolor": "white",
           "zerolinewidth": 2
          },
          "yaxis": {
           "automargin": true,
           "gridcolor": "white",
           "linecolor": "white",
           "ticks": "",
           "title": {
            "standoff": 15
           },
           "zerolinecolor": "white",
           "zerolinewidth": 2
          }
         }
        },
        "title": {
         "text": "10 countries with the most coffee imports in the last 30 years"
        },
        "width": 1000,
        "xaxis": {
         "anchor": "y",
         "domain": [
          0,
          1
         ],
         "title": {
          "text": "index"
         }
        },
        "yaxis": {
         "anchor": "x",
         "domain": [
          0,
          1
         ],
         "title": {
          "text": "value"
         }
        }
       }
      },
      "text/html": [
       "<div>                            <div id=\"2f47dd51-17fa-4dea-9f51-14be3e233f3f\" class=\"plotly-graph-div\" style=\"height:1000px; width:1000px;\"></div>            <script type=\"text/javascript\">                require([\"plotly\"], function(Plotly) {                    window.PLOTLYENV=window.PLOTLYENV || {};                                    if (document.getElementById(\"2f47dd51-17fa-4dea-9f51-14be3e233f3f\")) {                    Plotly.newPlot(                        \"2f47dd51-17fa-4dea-9f51-14be3e233f3f\",                        [{\"hovertemplate\":\"variable=United States of America<br>index=%{x}<br>value=%{y}<extra></extra>\",\"legendgroup\":\"United States of America\",\"line\":{\"color\":\"#636efa\",\"dash\":\"solid\",\"shape\":\"spline\",\"width\":3},\"marker\":{\"symbol\":\"circle\"},\"mode\":\"lines+markers\",\"name\":\"United States of America\",\"orientation\":\"v\",\"showlegend\":true,\"x\":[\"1990\",\"1991\",\"1992\",\"1993\",\"1994\",\"1995\",\"1996\",\"1997\",\"1998\",\"1999\",\"2000\",\"2001\",\"2002\",\"2003\",\"2004\",\"2005\",\"2006\",\"2007\",\"2008\",\"2009\",\"2010\",\"2011\",\"2012\",\"2013\",\"2014\",\"2015\",\"2016\",\"2017\",\"2018\",\"2019\"],\"xaxis\":\"x\",\"y\":[1260420000,1190400000,1376340000,1159740000,970260000,1026420000,1166700000,1220580000,1261800000,1364760000,1426020000,1284900000,1298340000,1365600000,1391040000,1382520000,1422540000,1453140000,1456620000,1414680000,1462680000,1565580000,1563360000,1620960000,1653900000,1662480000,1730280000,1769280000,1735080000,1851240000],\"yaxis\":\"y\",\"type\":\"scatter\"},{\"hovertemplate\":\"variable=   Germany<br>index=%{x}<br>value=%{y}<extra></extra>\",\"legendgroup\":\"   Germany\",\"line\":{\"color\":\"#EF553B\",\"dash\":\"solid\",\"shape\":\"spline\",\"width\":3},\"marker\":{\"symbol\":\"circle\"},\"mode\":\"lines+markers\",\"name\":\"   Germany\",\"orientation\":\"v\",\"showlegend\":true,\"x\":[\"1990\",\"1991\",\"1992\",\"1993\",\"1994\",\"1995\",\"1996\",\"1997\",\"1998\",\"1999\",\"2000\",\"2001\",\"2002\",\"2003\",\"2004\",\"2005\",\"2006\",\"2007\",\"2008\",\"2009\",\"2010\",\"2011\",\"2012\",\"2013\",\"2014\",\"2015\",\"2016\",\"2017\",\"2018\",\"2019\"],\"xaxis\":\"x\",\"y\":[820260000,793740000,827340000,846420000,814980000,771120000,810420000,834300000,824400000,859200000,833700000,885180000,930960000,943620000,1041360000,1002960000,1112580000,1173840000,1192560000,1164960000,1236180000,1255560000,1308960000,1270440000,1324680000,1278960000,1342080000,1305900000,1328820000,1345920000],\"yaxis\":\"y\",\"type\":\"scatter\"},{\"hovertemplate\":\"variable=   Italy<br>index=%{x}<br>value=%{y}<extra></extra>\",\"legendgroup\":\"   Italy\",\"line\":{\"color\":\"#00cc96\",\"dash\":\"solid\",\"shape\":\"spline\",\"width\":3},\"marker\":{\"symbol\":\"circle\"},\"mode\":\"lines+markers\",\"name\":\"   Italy\",\"orientation\":\"v\",\"showlegend\":true,\"x\":[\"1990\",\"1991\",\"1992\",\"1993\",\"1994\",\"1995\",\"1996\",\"1997\",\"1998\",\"1999\",\"2000\",\"2001\",\"2002\",\"2003\",\"2004\",\"2005\",\"2006\",\"2007\",\"2008\",\"2009\",\"2010\",\"2011\",\"2012\",\"2013\",\"2014\",\"2015\",\"2016\",\"2017\",\"2018\",\"2019\"],\"xaxis\":\"x\",\"y\":[314520000,277800000,275700000,335640000,333240000,323280000,336480000,344580000,353340000,356580000,378900000,392520000,391380000,415740000,421920000,436140000,452880000,481680000,490320000,484680000,494160000,501300000,521460000,529380000,561000000,559680000,613440000,601200000,638340000,654840000],\"yaxis\":\"y\",\"type\":\"scatter\"},{\"hovertemplate\":\"variable=Japan<br>index=%{x}<br>value=%{y}<extra></extra>\",\"legendgroup\":\"Japan\",\"line\":{\"color\":\"#ab63fa\",\"dash\":\"solid\",\"shape\":\"spline\",\"width\":3},\"marker\":{\"symbol\":\"circle\"},\"mode\":\"lines+markers\",\"name\":\"Japan\",\"orientation\":\"v\",\"showlegend\":true,\"x\":[\"1990\",\"1991\",\"1992\",\"1993\",\"1994\",\"1995\",\"1996\",\"1997\",\"1998\",\"1999\",\"2000\",\"2001\",\"2002\",\"2003\",\"2004\",\"2005\",\"2006\",\"2007\",\"2008\",\"2009\",\"2010\",\"2011\",\"2012\",\"2013\",\"2014\",\"2015\",\"2016\",\"2017\",\"2018\",\"2019\"],\"xaxis\":\"x\",\"y\":[319800000,330600000,319560000,341460000,373020000,329340000,359640000,355260000,361620000,392820000,414480000,419760000,438420000,415380000,435240000,444480000,457920000,425160000,423600000,425400000,444420000,452640000,421500000,502860000,459420000,483780000,481560000,458820000,452400000,482400000],\"yaxis\":\"y\",\"type\":\"scatter\"},{\"hovertemplate\":\"variable=   France<br>index=%{x}<br>value=%{y}<extra></extra>\",\"legendgroup\":\"   France\",\"line\":{\"color\":\"#FFA15A\",\"dash\":\"solid\",\"shape\":\"spline\",\"width\":3},\"marker\":{\"symbol\":\"circle\"},\"mode\":\"lines+markers\",\"name\":\"   France\",\"orientation\":\"v\",\"showlegend\":true,\"x\":[\"1990\",\"1991\",\"1992\",\"1993\",\"1994\",\"1995\",\"1996\",\"1997\",\"1998\",\"1999\",\"2000\",\"2001\",\"2002\",\"2003\",\"2004\",\"2005\",\"2006\",\"2007\",\"2008\",\"2009\",\"2010\",\"2011\",\"2012\",\"2013\",\"2014\",\"2015\",\"2016\",\"2017\",\"2018\",\"2019\"],\"xaxis\":\"x\",\"y\":[378060000,393180000,396720000,380040000,382140000,372840000,399600000,402240000,394560000,400560000,391200000,405180000,415500000,399120000,356400000,342840000,371460000,385200000,375120000,400200000,403020000,419520000,410460000,402780000,426720000,408540000,404280000,418020000,457440000,479580000],\"yaxis\":\"y\",\"type\":\"scatter\"},{\"hovertemplate\":\"variable=   Spain<br>index=%{x}<br>value=%{y}<extra></extra>\",\"legendgroup\":\"   Spain\",\"line\":{\"color\":\"#19d3f3\",\"dash\":\"solid\",\"shape\":\"spline\",\"width\":3},\"marker\":{\"symbol\":\"circle\"},\"mode\":\"lines+markers\",\"name\":\"   Spain\",\"orientation\":\"v\",\"showlegend\":true,\"x\":[\"1990\",\"1991\",\"1992\",\"1993\",\"1994\",\"1995\",\"1996\",\"1997\",\"1998\",\"1999\",\"2000\",\"2001\",\"2002\",\"2003\",\"2004\",\"2005\",\"2006\",\"2007\",\"2008\",\"2009\",\"2010\",\"2011\",\"2012\",\"2013\",\"2014\",\"2015\",\"2016\",\"2017\",\"2018\",\"2019\"],\"xaxis\":\"x\",\"y\":[183180000,178200000,204840000,168780000,181680000,188760000,210900000,226620000,223080000,239160000,226080000,243480000,241560000,248160000,250380000,261360000,272280000,292500000,291840000,288660000,302040000,289260000,305640000,308220000,324360000,325740000,339600000,324840000,340380000,359040000],\"yaxis\":\"y\",\"type\":\"scatter\"},{\"hovertemplate\":\"variable=United Kingdom<br>index=%{x}<br>value=%{y}<extra></extra>\",\"legendgroup\":\"United Kingdom\",\"line\":{\"color\":\"#FF6692\",\"dash\":\"solid\",\"shape\":\"spline\",\"width\":3},\"marker\":{\"symbol\":\"circle\"},\"mode\":\"lines+markers\",\"name\":\"United Kingdom\",\"orientation\":\"v\",\"showlegend\":true,\"x\":[\"1990\",\"1991\",\"1992\",\"1993\",\"1994\",\"1995\",\"1996\",\"1997\",\"1998\",\"1999\",\"2000\",\"2001\",\"2002\",\"2003\",\"2004\",\"2005\",\"2006\",\"2007\",\"2008\",\"2009\",\"2010\",\"2011\",\"2012\",\"2013\",\"2014\",\"2015\",\"2016\",\"2017\",\"2018\",\"2019\"],\"xaxis\":\"x\",\"y\":[173880000,168360000,185280000,191820000,207960000,168420000,174180000,175740000,188520000,174420000,180720000,183720000,178260000,180120000,199740000,205980000,242760000,226860000,238020000,247860000,258120000,250980000,247560000,252360000,259140000,293700000,303120000,299340000,341280000,333240000],\"yaxis\":\"y\",\"type\":\"scatter\"},{\"hovertemplate\":\"variable=   Belgium<br>index=%{x}<br>value=%{y}<extra></extra>\",\"legendgroup\":\"   Belgium\",\"line\":{\"color\":\"#B6E880\",\"dash\":\"solid\",\"shape\":\"spline\",\"width\":3},\"marker\":{\"symbol\":\"circle\"},\"mode\":\"lines+markers\",\"name\":\"   Belgium\",\"orientation\":\"v\",\"showlegend\":true,\"x\":[\"1990\",\"1991\",\"1992\",\"1993\",\"1994\",\"1995\",\"1996\",\"1997\",\"1998\",\"1999\",\"2000\",\"2001\",\"2002\",\"2003\",\"2004\",\"2005\",\"2006\",\"2007\",\"2008\",\"2009\",\"2010\",\"2011\",\"2012\",\"2013\",\"2014\",\"2015\",\"2016\",\"2017\",\"2018\",\"2019\"],\"xaxis\":\"x\",\"y\":[0,0,0,0,0,0,0,0,0,180180000,209460000,192540000,227520000,229080000,238080000,243780000,276300000,240840000,407520000,354960000,355440000,349680000,340080000,330120000,312720000,332040000,363120000,340620000,344520000,371940000],\"yaxis\":\"y\",\"type\":\"scatter\"},{\"hovertemplate\":\"variable=   Netherlands<br>index=%{x}<br>value=%{y}<extra></extra>\",\"legendgroup\":\"   Netherlands\",\"line\":{\"color\":\"#FF97FF\",\"dash\":\"solid\",\"shape\":\"spline\",\"width\":3},\"marker\":{\"symbol\":\"circle\"},\"mode\":\"lines+markers\",\"name\":\"   Netherlands\",\"orientation\":\"v\",\"showlegend\":true,\"x\":[\"1990\",\"1991\",\"1992\",\"1993\",\"1994\",\"1995\",\"1996\",\"1997\",\"1998\",\"1999\",\"2000\",\"2001\",\"2002\",\"2003\",\"2004\",\"2005\",\"2006\",\"2007\",\"2008\",\"2009\",\"2010\",\"2011\",\"2012\",\"2013\",\"2014\",\"2015\",\"2016\",\"2017\",\"2018\",\"2019\"],\"xaxis\":\"x\",\"y\":[187680000,187260000,192300000,168240000,168000000,174600000,185040000,175440000,171720000,153960000,177960000,167640000,165600000,190560000,189540000,179280000,197580000,211860000,138240000,150120000,154980000,160680000,163800000,204420000,240960000,250560000,286860000,304080000,331200000,321240000],\"yaxis\":\"y\",\"type\":\"scatter\"},{\"hovertemplate\":\"variable=Russian Federation<br>index=%{x}<br>value=%{y}<extra></extra>\",\"legendgroup\":\"Russian Federation\",\"line\":{\"color\":\"#FECB52\",\"dash\":\"solid\",\"shape\":\"spline\",\"width\":3},\"marker\":{\"symbol\":\"circle\"},\"mode\":\"lines+markers\",\"name\":\"Russian Federation\",\"orientation\":\"v\",\"showlegend\":true,\"x\":[\"1990\",\"1991\",\"1992\",\"1993\",\"1994\",\"1995\",\"1996\",\"1997\",\"1998\",\"1999\",\"2000\",\"2001\",\"2002\",\"2003\",\"2004\",\"2005\",\"2006\",\"2007\",\"2008\",\"2009\",\"2010\",\"2011\",\"2012\",\"2013\",\"2014\",\"2015\",\"2016\",\"2017\",\"2018\",\"2019\"],\"xaxis\":\"x\",\"y\":[0,0,82920000,107700000,103560000,103680000,67680000,131100000,103920000,82080000,113400000,183420000,210240000,226320000,192300000,200160000,207900000,259080000,243180000,213180000,249300000,253080000,250500000,264600000,284820000,282600000,313980000,328080000,317280000,355020000],\"yaxis\":\"y\",\"type\":\"scatter\"}],                        {\"template\":{\"data\":{\"histogram2dcontour\":[{\"type\":\"histogram2dcontour\",\"colorbar\":{\"outlinewidth\":0,\"ticks\":\"\"},\"colorscale\":[[0.0,\"#0d0887\"],[0.1111111111111111,\"#46039f\"],[0.2222222222222222,\"#7201a8\"],[0.3333333333333333,\"#9c179e\"],[0.4444444444444444,\"#bd3786\"],[0.5555555555555556,\"#d8576b\"],[0.6666666666666666,\"#ed7953\"],[0.7777777777777778,\"#fb9f3a\"],[0.8888888888888888,\"#fdca26\"],[1.0,\"#f0f921\"]]}],\"choropleth\":[{\"type\":\"choropleth\",\"colorbar\":{\"outlinewidth\":0,\"ticks\":\"\"}}],\"histogram2d\":[{\"type\":\"histogram2d\",\"colorbar\":{\"outlinewidth\":0,\"ticks\":\"\"},\"colorscale\":[[0.0,\"#0d0887\"],[0.1111111111111111,\"#46039f\"],[0.2222222222222222,\"#7201a8\"],[0.3333333333333333,\"#9c179e\"],[0.4444444444444444,\"#bd3786\"],[0.5555555555555556,\"#d8576b\"],[0.6666666666666666,\"#ed7953\"],[0.7777777777777778,\"#fb9f3a\"],[0.8888888888888888,\"#fdca26\"],[1.0,\"#f0f921\"]]}],\"heatmap\":[{\"type\":\"heatmap\",\"colorbar\":{\"outlinewidth\":0,\"ticks\":\"\"},\"colorscale\":[[0.0,\"#0d0887\"],[0.1111111111111111,\"#46039f\"],[0.2222222222222222,\"#7201a8\"],[0.3333333333333333,\"#9c179e\"],[0.4444444444444444,\"#bd3786\"],[0.5555555555555556,\"#d8576b\"],[0.6666666666666666,\"#ed7953\"],[0.7777777777777778,\"#fb9f3a\"],[0.8888888888888888,\"#fdca26\"],[1.0,\"#f0f921\"]]}],\"heatmapgl\":[{\"type\":\"heatmapgl\",\"colorbar\":{\"outlinewidth\":0,\"ticks\":\"\"},\"colorscale\":[[0.0,\"#0d0887\"],[0.1111111111111111,\"#46039f\"],[0.2222222222222222,\"#7201a8\"],[0.3333333333333333,\"#9c179e\"],[0.4444444444444444,\"#bd3786\"],[0.5555555555555556,\"#d8576b\"],[0.6666666666666666,\"#ed7953\"],[0.7777777777777778,\"#fb9f3a\"],[0.8888888888888888,\"#fdca26\"],[1.0,\"#f0f921\"]]}],\"contourcarpet\":[{\"type\":\"contourcarpet\",\"colorbar\":{\"outlinewidth\":0,\"ticks\":\"\"}}],\"contour\":[{\"type\":\"contour\",\"colorbar\":{\"outlinewidth\":0,\"ticks\":\"\"},\"colorscale\":[[0.0,\"#0d0887\"],[0.1111111111111111,\"#46039f\"],[0.2222222222222222,\"#7201a8\"],[0.3333333333333333,\"#9c179e\"],[0.4444444444444444,\"#bd3786\"],[0.5555555555555556,\"#d8576b\"],[0.6666666666666666,\"#ed7953\"],[0.7777777777777778,\"#fb9f3a\"],[0.8888888888888888,\"#fdca26\"],[1.0,\"#f0f921\"]]}],\"surface\":[{\"type\":\"surface\",\"colorbar\":{\"outlinewidth\":0,\"ticks\":\"\"},\"colorscale\":[[0.0,\"#0d0887\"],[0.1111111111111111,\"#46039f\"],[0.2222222222222222,\"#7201a8\"],[0.3333333333333333,\"#9c179e\"],[0.4444444444444444,\"#bd3786\"],[0.5555555555555556,\"#d8576b\"],[0.6666666666666666,\"#ed7953\"],[0.7777777777777778,\"#fb9f3a\"],[0.8888888888888888,\"#fdca26\"],[1.0,\"#f0f921\"]]}],\"mesh3d\":[{\"type\":\"mesh3d\",\"colorbar\":{\"outlinewidth\":0,\"ticks\":\"\"}}],\"scatter\":[{\"fillpattern\":{\"fillmode\":\"overlay\",\"size\":10,\"solidity\":0.2},\"type\":\"scatter\"}],\"parcoords\":[{\"type\":\"parcoords\",\"line\":{\"colorbar\":{\"outlinewidth\":0,\"ticks\":\"\"}}}],\"scatterpolargl\":[{\"type\":\"scatterpolargl\",\"marker\":{\"colorbar\":{\"outlinewidth\":0,\"ticks\":\"\"}}}],\"bar\":[{\"error_x\":{\"color\":\"#2a3f5f\"},\"error_y\":{\"color\":\"#2a3f5f\"},\"marker\":{\"line\":{\"color\":\"#E5ECF6\",\"width\":0.5},\"pattern\":{\"fillmode\":\"overlay\",\"size\":10,\"solidity\":0.2}},\"type\":\"bar\"}],\"scattergeo\":[{\"type\":\"scattergeo\",\"marker\":{\"colorbar\":{\"outlinewidth\":0,\"ticks\":\"\"}}}],\"scatterpolar\":[{\"type\":\"scatterpolar\",\"marker\":{\"colorbar\":{\"outlinewidth\":0,\"ticks\":\"\"}}}],\"histogram\":[{\"marker\":{\"pattern\":{\"fillmode\":\"overlay\",\"size\":10,\"solidity\":0.2}},\"type\":\"histogram\"}],\"scattergl\":[{\"type\":\"scattergl\",\"marker\":{\"colorbar\":{\"outlinewidth\":0,\"ticks\":\"\"}}}],\"scatter3d\":[{\"type\":\"scatter3d\",\"line\":{\"colorbar\":{\"outlinewidth\":0,\"ticks\":\"\"}},\"marker\":{\"colorbar\":{\"outlinewidth\":0,\"ticks\":\"\"}}}],\"scattermapbox\":[{\"type\":\"scattermapbox\",\"marker\":{\"colorbar\":{\"outlinewidth\":0,\"ticks\":\"\"}}}],\"scatterternary\":[{\"type\":\"scatterternary\",\"marker\":{\"colorbar\":{\"outlinewidth\":0,\"ticks\":\"\"}}}],\"scattercarpet\":[{\"type\":\"scattercarpet\",\"marker\":{\"colorbar\":{\"outlinewidth\":0,\"ticks\":\"\"}}}],\"carpet\":[{\"aaxis\":{\"endlinecolor\":\"#2a3f5f\",\"gridcolor\":\"white\",\"linecolor\":\"white\",\"minorgridcolor\":\"white\",\"startlinecolor\":\"#2a3f5f\"},\"baxis\":{\"endlinecolor\":\"#2a3f5f\",\"gridcolor\":\"white\",\"linecolor\":\"white\",\"minorgridcolor\":\"white\",\"startlinecolor\":\"#2a3f5f\"},\"type\":\"carpet\"}],\"table\":[{\"cells\":{\"fill\":{\"color\":\"#EBF0F8\"},\"line\":{\"color\":\"white\"}},\"header\":{\"fill\":{\"color\":\"#C8D4E3\"},\"line\":{\"color\":\"white\"}},\"type\":\"table\"}],\"barpolar\":[{\"marker\":{\"line\":{\"color\":\"#E5ECF6\",\"width\":0.5},\"pattern\":{\"fillmode\":\"overlay\",\"size\":10,\"solidity\":0.2}},\"type\":\"barpolar\"}],\"pie\":[{\"automargin\":true,\"type\":\"pie\"}]},\"layout\":{\"autotypenumbers\":\"strict\",\"colorway\":[\"#636efa\",\"#EF553B\",\"#00cc96\",\"#ab63fa\",\"#FFA15A\",\"#19d3f3\",\"#FF6692\",\"#B6E880\",\"#FF97FF\",\"#FECB52\"],\"font\":{\"color\":\"#2a3f5f\"},\"hovermode\":\"closest\",\"hoverlabel\":{\"align\":\"left\"},\"paper_bgcolor\":\"white\",\"plot_bgcolor\":\"#E5ECF6\",\"polar\":{\"bgcolor\":\"#E5ECF6\",\"angularaxis\":{\"gridcolor\":\"white\",\"linecolor\":\"white\",\"ticks\":\"\"},\"radialaxis\":{\"gridcolor\":\"white\",\"linecolor\":\"white\",\"ticks\":\"\"}},\"ternary\":{\"bgcolor\":\"#E5ECF6\",\"aaxis\":{\"gridcolor\":\"white\",\"linecolor\":\"white\",\"ticks\":\"\"},\"baxis\":{\"gridcolor\":\"white\",\"linecolor\":\"white\",\"ticks\":\"\"},\"caxis\":{\"gridcolor\":\"white\",\"linecolor\":\"white\",\"ticks\":\"\"}},\"coloraxis\":{\"colorbar\":{\"outlinewidth\":0,\"ticks\":\"\"}},\"colorscale\":{\"sequential\":[[0.0,\"#0d0887\"],[0.1111111111111111,\"#46039f\"],[0.2222222222222222,\"#7201a8\"],[0.3333333333333333,\"#9c179e\"],[0.4444444444444444,\"#bd3786\"],[0.5555555555555556,\"#d8576b\"],[0.6666666666666666,\"#ed7953\"],[0.7777777777777778,\"#fb9f3a\"],[0.8888888888888888,\"#fdca26\"],[1.0,\"#f0f921\"]],\"sequentialminus\":[[0.0,\"#0d0887\"],[0.1111111111111111,\"#46039f\"],[0.2222222222222222,\"#7201a8\"],[0.3333333333333333,\"#9c179e\"],[0.4444444444444444,\"#bd3786\"],[0.5555555555555556,\"#d8576b\"],[0.6666666666666666,\"#ed7953\"],[0.7777777777777778,\"#fb9f3a\"],[0.8888888888888888,\"#fdca26\"],[1.0,\"#f0f921\"]],\"diverging\":[[0,\"#8e0152\"],[0.1,\"#c51b7d\"],[0.2,\"#de77ae\"],[0.3,\"#f1b6da\"],[0.4,\"#fde0ef\"],[0.5,\"#f7f7f7\"],[0.6,\"#e6f5d0\"],[0.7,\"#b8e186\"],[0.8,\"#7fbc41\"],[0.9,\"#4d9221\"],[1,\"#276419\"]]},\"xaxis\":{\"gridcolor\":\"white\",\"linecolor\":\"white\",\"ticks\":\"\",\"title\":{\"standoff\":15},\"zerolinecolor\":\"white\",\"automargin\":true,\"zerolinewidth\":2},\"yaxis\":{\"gridcolor\":\"white\",\"linecolor\":\"white\",\"ticks\":\"\",\"title\":{\"standoff\":15},\"zerolinecolor\":\"white\",\"automargin\":true,\"zerolinewidth\":2},\"scene\":{\"xaxis\":{\"backgroundcolor\":\"#E5ECF6\",\"gridcolor\":\"white\",\"linecolor\":\"white\",\"showbackground\":true,\"ticks\":\"\",\"zerolinecolor\":\"white\",\"gridwidth\":2},\"yaxis\":{\"backgroundcolor\":\"#E5ECF6\",\"gridcolor\":\"white\",\"linecolor\":\"white\",\"showbackground\":true,\"ticks\":\"\",\"zerolinecolor\":\"white\",\"gridwidth\":2},\"zaxis\":{\"backgroundcolor\":\"#E5ECF6\",\"gridcolor\":\"white\",\"linecolor\":\"white\",\"showbackground\":true,\"ticks\":\"\",\"zerolinecolor\":\"white\",\"gridwidth\":2}},\"shapedefaults\":{\"line\":{\"color\":\"#2a3f5f\"}},\"annotationdefaults\":{\"arrowcolor\":\"#2a3f5f\",\"arrowhead\":0,\"arrowwidth\":1},\"geo\":{\"bgcolor\":\"white\",\"landcolor\":\"#E5ECF6\",\"subunitcolor\":\"white\",\"showland\":true,\"showlakes\":true,\"lakecolor\":\"white\"},\"title\":{\"x\":0.05},\"mapbox\":{\"style\":\"light\"}}},\"xaxis\":{\"anchor\":\"y\",\"domain\":[0.0,1.0],\"title\":{\"text\":\"index\"}},\"yaxis\":{\"anchor\":\"x\",\"domain\":[0.0,1.0],\"title\":{\"text\":\"value\"}},\"legend\":{\"title\":{\"text\":\"variable\"},\"tracegroupgap\":0},\"title\":{\"text\":\"10 countries with the most coffee imports in the last 30 years\"},\"width\":1000,\"height\":1000},                        {\"responsive\": true}                    ).then(function(){\n",
       "                            \n",
       "var gd = document.getElementById('2f47dd51-17fa-4dea-9f51-14be3e233f3f');\n",
       "var x = new MutationObserver(function (mutations, observer) {{\n",
       "        var display = window.getComputedStyle(gd).display;\n",
       "        if (!display || display === 'none') {{\n",
       "            console.log([gd, 'removed!']);\n",
       "            Plotly.purge(gd);\n",
       "            observer.disconnect();\n",
       "        }}\n",
       "}});\n",
       "\n",
       "// Listen for the removal of the full notebook cells\n",
       "var notebookContainer = gd.closest('#notebook-container');\n",
       "if (notebookContainer) {{\n",
       "    x.observe(notebookContainer, {childList: true});\n",
       "}}\n",
       "\n",
       "// Listen for the clearing of the current output cell\n",
       "var outputEl = gd.closest('.output');\n",
       "if (outputEl) {{\n",
       "    x.observe(outputEl, {childList: true});\n",
       "}}\n",
       "\n",
       "                        })                };                });            </script>        </div>"
      ]
     },
     "metadata": {},
     "output_type": "display_data"
    }
   ],
   "source": [
    "# function to plot the data\n",
    "def production_coffee_imports(df, title):\n",
    "    Años = df.index\n",
    "    Consumo_Domestico = df.columns.values\n",
    "    fig = px.line(df, x=Años, y= Consumo_Domestico, title=title, markers=True)\n",
    "    fig.update_layout(width=1000, height=1000)\n",
    "    \n",
    "\n",
    "    fig.update_traces(patch={\"line\":{\"dash\":\"solid\",\"shape\":\"spline\",\"width\":3}})\n",
    "    fig.show()\n",
    "\n",
    "\n",
    "production_coffee_imports(df_year_coffee_import, '10 countries with the most coffee imports in the last 30 years')"
   ]
  }
 ],
 "metadata": {
  "kernelspec": {
   "display_name": "Python 3",
   "language": "python",
   "name": "python3"
  },
  "language_info": {
   "codemirror_mode": {
    "name": "ipython",
    "version": 3
   },
   "file_extension": ".py",
   "mimetype": "text/x-python",
   "name": "python",
   "nbconvert_exporter": "python",
   "pygments_lexer": "ipython3",
   "version": "3.9.13"
  },
  "orig_nbformat": 4,
  "vscode": {
   "interpreter": {
    "hash": "49d1b414cd07738e838ec24e323fff9b93ac3a41a8d5d97bafe3c6c2f6481a84"
   }
  }
 },
 "nbformat": 4,
 "nbformat_minor": 2
}
