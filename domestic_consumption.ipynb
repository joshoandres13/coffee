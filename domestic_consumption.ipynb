{
 "cells": [
  {
   "attachments": {},
   "cell_type": "markdown",
   "metadata": {},
   "source": [
    "Goal: Análisis de datos con Python\n",
    "\n",
    "Ejercicio: Analizar el dataset, entre las siguientes consideraciones, se debe usar funciones y lambdas\n",
    "\n",
    "Entre la informacion que quiero que consigas es:\n",
    "\n",
    "- Resumen de la data, max,min ….\n",
    "- Overwiew de la data\n",
    "- Imports in kg per capita\n",
    "- Re-exports in kg per capita\n",
    "- Consumition in kg per capita\n",
    "- Testear Normalización\n",
    "- who drinks more coffee on average: Europeans or Americans?\n",
    "- the relation between import and re-export"
   ]
  },
  {
   "cell_type": "code",
   "execution_count": 2,
   "metadata": {},
   "outputs": [],
   "source": [
    "import pandas as pd\n",
    "import numpy as np\n",
    "import matplotlib.pyplot as plt\n",
    "import seaborn as sns\n",
    "import plotly.express as px  #with anaconda3"
   ]
  },
  {
   "attachments": {},
   "cell_type": "markdown",
   "metadata": {},
   "source": [
    "### Import Dataset "
   ]
  },
  {
   "cell_type": "code",
   "execution_count": 3,
   "metadata": {},
   "outputs": [
    {
     "data": {
      "text/html": [
       "<div>\n",
       "<style scoped>\n",
       "    .dataframe tbody tr th:only-of-type {\n",
       "        vertical-align: middle;\n",
       "    }\n",
       "\n",
       "    .dataframe tbody tr th {\n",
       "        vertical-align: top;\n",
       "    }\n",
       "\n",
       "    .dataframe thead th {\n",
       "        text-align: right;\n",
       "    }\n",
       "</style>\n",
       "<table border=\"1\" class=\"dataframe\">\n",
       "  <thead>\n",
       "    <tr style=\"text-align: right;\">\n",
       "      <th></th>\n",
       "      <th>Country</th>\n",
       "      <th>Coffee type</th>\n",
       "      <th>1990/91</th>\n",
       "      <th>1991/92</th>\n",
       "      <th>1992/93</th>\n",
       "      <th>1993/94</th>\n",
       "      <th>1994/95</th>\n",
       "      <th>1995/96</th>\n",
       "      <th>1996/97</th>\n",
       "      <th>1997/98</th>\n",
       "      <th>...</th>\n",
       "      <th>2011/12</th>\n",
       "      <th>2012/13</th>\n",
       "      <th>2013/14</th>\n",
       "      <th>2014/15</th>\n",
       "      <th>2015/16</th>\n",
       "      <th>2016/17</th>\n",
       "      <th>2017/18</th>\n",
       "      <th>2018/19</th>\n",
       "      <th>2019/20</th>\n",
       "      <th>Total_domestic_consumption</th>\n",
       "    </tr>\n",
       "  </thead>\n",
       "  <tbody>\n",
       "    <tr>\n",
       "      <th>0</th>\n",
       "      <td>Angola</td>\n",
       "      <td>Robusta/Arabica</td>\n",
       "      <td>1200000</td>\n",
       "      <td>1800000</td>\n",
       "      <td>2100000</td>\n",
       "      <td>1200000</td>\n",
       "      <td>1500000</td>\n",
       "      <td>600000</td>\n",
       "      <td>1200000</td>\n",
       "      <td>2400000</td>\n",
       "      <td>...</td>\n",
       "      <td>1800000</td>\n",
       "      <td>1800000</td>\n",
       "      <td>1800000</td>\n",
       "      <td>1800000</td>\n",
       "      <td>1800000</td>\n",
       "      <td>1800000</td>\n",
       "      <td>1800000</td>\n",
       "      <td>1800000</td>\n",
       "      <td>1800000</td>\n",
       "      <td>46500000</td>\n",
       "    </tr>\n",
       "    <tr>\n",
       "      <th>1</th>\n",
       "      <td>Bolivia (Plurinational State of)</td>\n",
       "      <td>Arabica</td>\n",
       "      <td>1500000</td>\n",
       "      <td>1620000</td>\n",
       "      <td>1650000</td>\n",
       "      <td>1710000</td>\n",
       "      <td>1770000</td>\n",
       "      <td>1830000</td>\n",
       "      <td>1890000</td>\n",
       "      <td>1950000</td>\n",
       "      <td>...</td>\n",
       "      <td>2940000</td>\n",
       "      <td>3030000</td>\n",
       "      <td>3120000</td>\n",
       "      <td>3210000</td>\n",
       "      <td>3300000</td>\n",
       "      <td>3420000</td>\n",
       "      <td>3510000</td>\n",
       "      <td>3600000</td>\n",
       "      <td>3660000</td>\n",
       "      <td>75180000</td>\n",
       "    </tr>\n",
       "    <tr>\n",
       "      <th>2</th>\n",
       "      <td>Brazil</td>\n",
       "      <td>Arabica/Robusta</td>\n",
       "      <td>492000000</td>\n",
       "      <td>510000000</td>\n",
       "      <td>534000000</td>\n",
       "      <td>546000000</td>\n",
       "      <td>558000000</td>\n",
       "      <td>606000000</td>\n",
       "      <td>660000000</td>\n",
       "      <td>690000000</td>\n",
       "      <td>...</td>\n",
       "      <td>1183200000</td>\n",
       "      <td>1219800000</td>\n",
       "      <td>1205100000</td>\n",
       "      <td>1219980000</td>\n",
       "      <td>1230480000</td>\n",
       "      <td>1273500000</td>\n",
       "      <td>1319820000</td>\n",
       "      <td>1332000000</td>\n",
       "      <td>1320000000</td>\n",
       "      <td>27824700000</td>\n",
       "    </tr>\n",
       "    <tr>\n",
       "      <th>3</th>\n",
       "      <td>Burundi</td>\n",
       "      <td>Arabica/Robusta</td>\n",
       "      <td>120000</td>\n",
       "      <td>96000</td>\n",
       "      <td>102000</td>\n",
       "      <td>114600</td>\n",
       "      <td>120000</td>\n",
       "      <td>120000</td>\n",
       "      <td>120000</td>\n",
       "      <td>120000</td>\n",
       "      <td>...</td>\n",
       "      <td>120000</td>\n",
       "      <td>120000</td>\n",
       "      <td>120000</td>\n",
       "      <td>120000</td>\n",
       "      <td>120000</td>\n",
       "      <td>120000</td>\n",
       "      <td>120000</td>\n",
       "      <td>120000</td>\n",
       "      <td>120000</td>\n",
       "      <td>3412020</td>\n",
       "    </tr>\n",
       "    <tr>\n",
       "      <th>4</th>\n",
       "      <td>Ecuador</td>\n",
       "      <td>Arabica/Robusta</td>\n",
       "      <td>21000000</td>\n",
       "      <td>21000000</td>\n",
       "      <td>21000000</td>\n",
       "      <td>21000000</td>\n",
       "      <td>21000000</td>\n",
       "      <td>21000000</td>\n",
       "      <td>18000000</td>\n",
       "      <td>18000000</td>\n",
       "      <td>...</td>\n",
       "      <td>9000000</td>\n",
       "      <td>9000000</td>\n",
       "      <td>9300000</td>\n",
       "      <td>9300000</td>\n",
       "      <td>9300000</td>\n",
       "      <td>9300000</td>\n",
       "      <td>9300000</td>\n",
       "      <td>9300000</td>\n",
       "      <td>8940000</td>\n",
       "      <td>381540000</td>\n",
       "    </tr>\n",
       "  </tbody>\n",
       "</table>\n",
       "<p>5 rows × 33 columns</p>\n",
       "</div>"
      ],
      "text/plain": [
       "                            Country      Coffee type    1990/91    1991/92  \\\n",
       "0                            Angola  Robusta/Arabica    1200000    1800000   \n",
       "1  Bolivia (Plurinational State of)          Arabica    1500000    1620000   \n",
       "2                            Brazil  Arabica/Robusta  492000000  510000000   \n",
       "3                           Burundi  Arabica/Robusta     120000      96000   \n",
       "4                           Ecuador  Arabica/Robusta   21000000   21000000   \n",
       "\n",
       "     1992/93    1993/94    1994/95    1995/96    1996/97    1997/98  ...  \\\n",
       "0    2100000    1200000    1500000     600000    1200000    2400000  ...   \n",
       "1    1650000    1710000    1770000    1830000    1890000    1950000  ...   \n",
       "2  534000000  546000000  558000000  606000000  660000000  690000000  ...   \n",
       "3     102000     114600     120000     120000     120000     120000  ...   \n",
       "4   21000000   21000000   21000000   21000000   18000000   18000000  ...   \n",
       "\n",
       "      2011/12     2012/13     2013/14     2014/15     2015/16     2016/17  \\\n",
       "0     1800000     1800000     1800000     1800000     1800000     1800000   \n",
       "1     2940000     3030000     3120000     3210000     3300000     3420000   \n",
       "2  1183200000  1219800000  1205100000  1219980000  1230480000  1273500000   \n",
       "3      120000      120000      120000      120000      120000      120000   \n",
       "4     9000000     9000000     9300000     9300000     9300000     9300000   \n",
       "\n",
       "      2017/18     2018/19     2019/20  Total_domestic_consumption  \n",
       "0     1800000     1800000     1800000                    46500000  \n",
       "1     3510000     3600000     3660000                    75180000  \n",
       "2  1319820000  1332000000  1320000000                 27824700000  \n",
       "3      120000      120000      120000                     3412020  \n",
       "4     9300000     9300000     8940000                   381540000  \n",
       "\n",
       "[5 rows x 33 columns]"
      ]
     },
     "execution_count": 3,
     "metadata": {},
     "output_type": "execute_result"
    }
   ],
   "source": [
    "df = pd.read_csv(\"dataset/Coffee_domestic_consumption.csv\", sep=\",\")\n",
    "\n",
    "df.head(5)"
   ]
  },
  {
   "cell_type": "code",
   "execution_count": 4,
   "metadata": {},
   "outputs": [
    {
     "name": "stdout",
     "output_type": "stream",
     "text": [
      "Number of Rows: 55\n",
      "Number of Columns: 33\n",
      "<class 'pandas.core.frame.DataFrame'>\n",
      "RangeIndex: 55 entries, 0 to 54\n",
      "Data columns (total 33 columns):\n",
      " #   Column                      Non-Null Count  Dtype \n",
      "---  ------                      --------------  ----- \n",
      " 0   Country                     55 non-null     object\n",
      " 1   Coffee type                 55 non-null     object\n",
      " 2   1990/91                     55 non-null     int64 \n",
      " 3   1991/92                     55 non-null     int64 \n",
      " 4   1992/93                     55 non-null     int64 \n",
      " 5   1993/94                     55 non-null     int64 \n",
      " 6   1994/95                     55 non-null     int64 \n",
      " 7   1995/96                     55 non-null     int64 \n",
      " 8   1996/97                     55 non-null     int64 \n",
      " 9   1997/98                     55 non-null     int64 \n",
      " 10  1998/99                     55 non-null     int64 \n",
      " 11  1999/00                     55 non-null     int64 \n",
      " 12  2000/01                     55 non-null     int64 \n",
      " 13  2001/02                     55 non-null     int64 \n",
      " 14  2002/03                     55 non-null     int64 \n",
      " 15  2003/04                     55 non-null     int64 \n",
      " 16  2004/05                     55 non-null     int64 \n",
      " 17  2005/06                     55 non-null     int64 \n",
      " 18  2006/07                     55 non-null     int64 \n",
      " 19  2007/08                     55 non-null     int64 \n",
      " 20  2008/09                     55 non-null     int64 \n",
      " 21  2009/10                     55 non-null     int64 \n",
      " 22  2010/11                     55 non-null     int64 \n",
      " 23  2011/12                     55 non-null     int64 \n",
      " 24  2012/13                     55 non-null     int64 \n",
      " 25  2013/14                     55 non-null     int64 \n",
      " 26  2014/15                     55 non-null     int64 \n",
      " 27  2015/16                     55 non-null     int64 \n",
      " 28  2016/17                     55 non-null     int64 \n",
      " 29  2017/18                     55 non-null     int64 \n",
      " 30  2018/19                     55 non-null     int64 \n",
      " 31  2019/20                     55 non-null     int64 \n",
      " 32  Total_domestic_consumption  55 non-null     int64 \n",
      "dtypes: int64(31), object(2)\n",
      "memory usage: 14.3+ KB\n"
     ]
    }
   ],
   "source": [
    "# Get the number of rows and columns\n",
    "rows = len(df.axes[0])\n",
    "cols = len(df.axes[1])\n",
    "  \n",
    "# Print the number of rows and columns\n",
    "print(\"Number of Rows: \" + str(rows))\n",
    "print(\"Number of Columns: \" + str(cols))\n",
    "\n",
    "\n",
    "df.info()"
   ]
  },
  {
   "cell_type": "code",
   "execution_count": 5,
   "metadata": {},
   "outputs": [
    {
     "data": {
      "image/png": "[encoded data removed]",
      "text/plain": [
       "<Figure size 1200x800 with 1 Axes>"
      ]
     },
     "metadata": {},
     "output_type": "display_data"
    }
   ],
   "source": [
    "plt.figure(figsize=(12,8)) \n",
    "sns.heatmap(df.isnull(),cmap='cool',cbar=False,yticklabels=False)\n",
    "plt.title('Missing Data?',fontsize=20)\n",
    "plt.show()\n",
    "#The data dont have NAs or spaces without data "
   ]
  },
  {
   "attachments": {},
   "cell_type": "markdown",
   "metadata": {},
   "source": [
    "## Test de Normalización"
   ]
  },
  {
   "cell_type": "code",
   "execution_count": 6,
   "metadata": {},
   "outputs": [
    {
     "data": {
      "text/html": [
       "<div>\n",
       "<style scoped>\n",
       "    .dataframe tbody tr th:only-of-type {\n",
       "        vertical-align: middle;\n",
       "    }\n",
       "\n",
       "    .dataframe tbody tr th {\n",
       "        vertical-align: top;\n",
       "    }\n",
       "\n",
       "    .dataframe thead th {\n",
       "        text-align: right;\n",
       "    }\n",
       "</style>\n",
       "<table border=\"1\" class=\"dataframe\">\n",
       "  <thead>\n",
       "    <tr style=\"text-align: right;\">\n",
       "      <th></th>\n",
       "      <th>1990/91</th>\n",
       "      <th>1991/92</th>\n",
       "      <th>1992/93</th>\n",
       "      <th>1993/94</th>\n",
       "      <th>1994/95</th>\n",
       "      <th>1995/96</th>\n",
       "      <th>1996/97</th>\n",
       "      <th>1997/98</th>\n",
       "      <th>1998/99</th>\n",
       "      <th>1999/00</th>\n",
       "      <th>...</th>\n",
       "      <th>2011/12</th>\n",
       "      <th>2012/13</th>\n",
       "      <th>2013/14</th>\n",
       "      <th>2014/15</th>\n",
       "      <th>2015/16</th>\n",
       "      <th>2016/17</th>\n",
       "      <th>2017/18</th>\n",
       "      <th>2018/19</th>\n",
       "      <th>2019/20</th>\n",
       "      <th>Total_domestic_consumption</th>\n",
       "    </tr>\n",
       "  </thead>\n",
       "  <tbody>\n",
       "    <tr>\n",
       "      <th>count</th>\n",
       "      <td>5.500000e+01</td>\n",
       "      <td>5.500000e+01</td>\n",
       "      <td>5.500000e+01</td>\n",
       "      <td>5.500000e+01</td>\n",
       "      <td>5.500000e+01</td>\n",
       "      <td>5.500000e+01</td>\n",
       "      <td>5.500000e+01</td>\n",
       "      <td>5.500000e+01</td>\n",
       "      <td>5.500000e+01</td>\n",
       "      <td>5.500000e+01</td>\n",
       "      <td>...</td>\n",
       "      <td>5.500000e+01</td>\n",
       "      <td>5.500000e+01</td>\n",
       "      <td>5.500000e+01</td>\n",
       "      <td>5.500000e+01</td>\n",
       "      <td>5.500000e+01</td>\n",
       "      <td>5.500000e+01</td>\n",
       "      <td>5.500000e+01</td>\n",
       "      <td>5.500000e+01</td>\n",
       "      <td>5.500000e+01</td>\n",
       "      <td>5.500000e+01</td>\n",
       "    </tr>\n",
       "    <tr>\n",
       "      <th>mean</th>\n",
       "      <td>2.128278e+07</td>\n",
       "      <td>2.206701e+07</td>\n",
       "      <td>2.285613e+07</td>\n",
       "      <td>2.301590e+07</td>\n",
       "      <td>2.330200e+07</td>\n",
       "      <td>2.465735e+07</td>\n",
       "      <td>2.565010e+07</td>\n",
       "      <td>2.647750e+07</td>\n",
       "      <td>2.739992e+07</td>\n",
       "      <td>2.808131e+07</td>\n",
       "      <td>...</td>\n",
       "      <td>4.711907e+07</td>\n",
       "      <td>4.871183e+07</td>\n",
       "      <td>4.944423e+07</td>\n",
       "      <td>5.069858e+07</td>\n",
       "      <td>5.165367e+07</td>\n",
       "      <td>5.272819e+07</td>\n",
       "      <td>5.420271e+07</td>\n",
       "      <td>5.481235e+07</td>\n",
       "      <td>5.452530e+07</td>\n",
       "      <td>1.112487e+09</td>\n",
       "    </tr>\n",
       "    <tr>\n",
       "      <th>std</th>\n",
       "      <td>6.810062e+07</td>\n",
       "      <td>7.032839e+07</td>\n",
       "      <td>7.363077e+07</td>\n",
       "      <td>7.511769e+07</td>\n",
       "      <td>7.679945e+07</td>\n",
       "      <td>8.321743e+07</td>\n",
       "      <td>9.039443e+07</td>\n",
       "      <td>9.438905e+07</td>\n",
       "      <td>9.995154e+07</td>\n",
       "      <td>1.040782e+08</td>\n",
       "      <td>...</td>\n",
       "      <td>1.634943e+08</td>\n",
       "      <td>1.687185e+08</td>\n",
       "      <td>1.676074e+08</td>\n",
       "      <td>1.701179e+08</td>\n",
       "      <td>1.719262e+08</td>\n",
       "      <td>1.777393e+08</td>\n",
       "      <td>1.840522e+08</td>\n",
       "      <td>1.858924e+08</td>\n",
       "      <td>1.844917e+08</td>\n",
       "      <td>3.834783e+09</td>\n",
       "    </tr>\n",
       "    <tr>\n",
       "      <th>min</th>\n",
       "      <td>0.000000e+00</td>\n",
       "      <td>0.000000e+00</td>\n",
       "      <td>0.000000e+00</td>\n",
       "      <td>0.000000e+00</td>\n",
       "      <td>0.000000e+00</td>\n",
       "      <td>0.000000e+00</td>\n",
       "      <td>0.000000e+00</td>\n",
       "      <td>0.000000e+00</td>\n",
       "      <td>0.000000e+00</td>\n",
       "      <td>0.000000e+00</td>\n",
       "      <td>...</td>\n",
       "      <td>0.000000e+00</td>\n",
       "      <td>0.000000e+00</td>\n",
       "      <td>0.000000e+00</td>\n",
       "      <td>0.000000e+00</td>\n",
       "      <td>0.000000e+00</td>\n",
       "      <td>0.000000e+00</td>\n",
       "      <td>0.000000e+00</td>\n",
       "      <td>0.000000e+00</td>\n",
       "      <td>0.000000e+00</td>\n",
       "      <td>0.000000e+00</td>\n",
       "    </tr>\n",
       "    <tr>\n",
       "      <th>25%</th>\n",
       "      <td>1.800000e+05</td>\n",
       "      <td>1.800000e+05</td>\n",
       "      <td>1.800000e+05</td>\n",
       "      <td>2.400000e+05</td>\n",
       "      <td>2.400000e+05</td>\n",
       "      <td>2.400000e+05</td>\n",
       "      <td>1.800000e+05</td>\n",
       "      <td>1.800000e+05</td>\n",
       "      <td>2.100000e+05</td>\n",
       "      <td>2.100000e+05</td>\n",
       "      <td>...</td>\n",
       "      <td>3.000000e+05</td>\n",
       "      <td>3.000000e+05</td>\n",
       "      <td>3.000000e+05</td>\n",
       "      <td>3.000000e+05</td>\n",
       "      <td>3.000000e+05</td>\n",
       "      <td>3.000000e+05</td>\n",
       "      <td>3.000000e+05</td>\n",
       "      <td>3.000000e+05</td>\n",
       "      <td>3.000000e+05</td>\n",
       "      <td>9.586920e+06</td>\n",
       "    </tr>\n",
       "    <tr>\n",
       "      <th>50%</th>\n",
       "      <td>2.040000e+06</td>\n",
       "      <td>3.000000e+06</td>\n",
       "      <td>3.000000e+06</td>\n",
       "      <td>2.400000e+06</td>\n",
       "      <td>3.000000e+06</td>\n",
       "      <td>3.000000e+06</td>\n",
       "      <td>3.000000e+06</td>\n",
       "      <td>3.000000e+06</td>\n",
       "      <td>3.000000e+06</td>\n",
       "      <td>3.000000e+06</td>\n",
       "      <td>...</td>\n",
       "      <td>4.020000e+06</td>\n",
       "      <td>4.302000e+06</td>\n",
       "      <td>4.408020e+06</td>\n",
       "      <td>4.519020e+06</td>\n",
       "      <td>4.560000e+06</td>\n",
       "      <td>4.620000e+06</td>\n",
       "      <td>4.680000e+06</td>\n",
       "      <td>4.200000e+06</td>\n",
       "      <td>4.290000e+06</td>\n",
       "      <td>1.216200e+08</td>\n",
       "    </tr>\n",
       "    <tr>\n",
       "      <th>75%</th>\n",
       "      <td>1.299000e+07</td>\n",
       "      <td>1.671300e+07</td>\n",
       "      <td>1.650000e+07</td>\n",
       "      <td>1.731000e+07</td>\n",
       "      <td>1.650000e+07</td>\n",
       "      <td>1.775535e+07</td>\n",
       "      <td>1.792548e+07</td>\n",
       "      <td>1.800000e+07</td>\n",
       "      <td>1.800000e+07</td>\n",
       "      <td>1.590000e+07</td>\n",
       "      <td>...</td>\n",
       "      <td>2.070000e+07</td>\n",
       "      <td>2.115000e+07</td>\n",
       "      <td>2.070000e+07</td>\n",
       "      <td>2.205000e+07</td>\n",
       "      <td>2.205000e+07</td>\n",
       "      <td>2.100000e+07</td>\n",
       "      <td>2.155002e+07</td>\n",
       "      <td>2.220000e+07</td>\n",
       "      <td>2.106000e+07</td>\n",
       "      <td>5.897930e+08</td>\n",
       "    </tr>\n",
       "    <tr>\n",
       "      <th>max</th>\n",
       "      <td>4.920000e+08</td>\n",
       "      <td>5.100000e+08</td>\n",
       "      <td>5.340000e+08</td>\n",
       "      <td>5.460000e+08</td>\n",
       "      <td>5.580000e+08</td>\n",
       "      <td>6.060000e+08</td>\n",
       "      <td>6.600000e+08</td>\n",
       "      <td>6.900000e+08</td>\n",
       "      <td>7.320000e+08</td>\n",
       "      <td>7.620000e+08</td>\n",
       "      <td>...</td>\n",
       "      <td>1.183200e+09</td>\n",
       "      <td>1.219800e+09</td>\n",
       "      <td>1.205100e+09</td>\n",
       "      <td>1.219980e+09</td>\n",
       "      <td>1.230480e+09</td>\n",
       "      <td>1.273500e+09</td>\n",
       "      <td>1.319820e+09</td>\n",
       "      <td>1.332000e+09</td>\n",
       "      <td>1.320000e+09</td>\n",
       "      <td>2.782470e+10</td>\n",
       "    </tr>\n",
       "  </tbody>\n",
       "</table>\n",
       "<p>8 rows × 31 columns</p>\n",
       "</div>"
      ],
      "text/plain": [
       "            1990/91       1991/92       1992/93       1993/94       1994/95  \\\n",
       "count  5.500000e+01  5.500000e+01  5.500000e+01  5.500000e+01  5.500000e+01   \n",
       "mean   2.128278e+07  2.206701e+07  2.285613e+07  2.301590e+07  2.330200e+07   \n",
       "std    6.810062e+07  7.032839e+07  7.363077e+07  7.511769e+07  7.679945e+07   \n",
       "min    0.000000e+00  0.000000e+00  0.000000e+00  0.000000e+00  0.000000e+00   \n",
       "25%    1.800000e+05  1.800000e+05  1.800000e+05  2.400000e+05  2.400000e+05   \n",
       "50%    2.040000e+06  3.000000e+06  3.000000e+06  2.400000e+06  3.000000e+06   \n",
       "75%    1.299000e+07  1.671300e+07  1.650000e+07  1.731000e+07  1.650000e+07   \n",
       "max    4.920000e+08  5.100000e+08  5.340000e+08  5.460000e+08  5.580000e+08   \n",
       "\n",
       "            1995/96       1996/97       1997/98       1998/99       1999/00  \\\n",
       "count  5.500000e+01  5.500000e+01  5.500000e+01  5.500000e+01  5.500000e+01   \n",
       "mean   2.465735e+07  2.565010e+07  2.647750e+07  2.739992e+07  2.808131e+07   \n",
       "std    8.321743e+07  9.039443e+07  9.438905e+07  9.995154e+07  1.040782e+08   \n",
       "min    0.000000e+00  0.000000e+00  0.000000e+00  0.000000e+00  0.000000e+00   \n",
       "25%    2.400000e+05  1.800000e+05  1.800000e+05  2.100000e+05  2.100000e+05   \n",
       "50%    3.000000e+06  3.000000e+06  3.000000e+06  3.000000e+06  3.000000e+06   \n",
       "75%    1.775535e+07  1.792548e+07  1.800000e+07  1.800000e+07  1.590000e+07   \n",
       "max    6.060000e+08  6.600000e+08  6.900000e+08  7.320000e+08  7.620000e+08   \n",
       "\n",
       "       ...       2011/12       2012/13       2013/14       2014/15  \\\n",
       "count  ...  5.500000e+01  5.500000e+01  5.500000e+01  5.500000e+01   \n",
       "mean   ...  4.711907e+07  4.871183e+07  4.944423e+07  5.069858e+07   \n",
       "std    ...  1.634943e+08  1.687185e+08  1.676074e+08  1.701179e+08   \n",
       "min    ...  0.000000e+00  0.000000e+00  0.000000e+00  0.000000e+00   \n",
       "25%    ...  3.000000e+05  3.000000e+05  3.000000e+05  3.000000e+05   \n",
       "50%    ...  4.020000e+06  4.302000e+06  4.408020e+06  4.519020e+06   \n",
       "75%    ...  2.070000e+07  2.115000e+07  2.070000e+07  2.205000e+07   \n",
       "max    ...  1.183200e+09  1.219800e+09  1.205100e+09  1.219980e+09   \n",
       "\n",
       "            2015/16       2016/17       2017/18       2018/19       2019/20  \\\n",
       "count  5.500000e+01  5.500000e+01  5.500000e+01  5.500000e+01  5.500000e+01   \n",
       "mean   5.165367e+07  5.272819e+07  5.420271e+07  5.481235e+07  5.452530e+07   \n",
       "std    1.719262e+08  1.777393e+08  1.840522e+08  1.858924e+08  1.844917e+08   \n",
       "min    0.000000e+00  0.000000e+00  0.000000e+00  0.000000e+00  0.000000e+00   \n",
       "25%    3.000000e+05  3.000000e+05  3.000000e+05  3.000000e+05  3.000000e+05   \n",
       "50%    4.560000e+06  4.620000e+06  4.680000e+06  4.200000e+06  4.290000e+06   \n",
       "75%    2.205000e+07  2.100000e+07  2.155002e+07  2.220000e+07  2.106000e+07   \n",
       "max    1.230480e+09  1.273500e+09  1.319820e+09  1.332000e+09  1.320000e+09   \n",
       "\n",
       "       Total_domestic_consumption  \n",
       "count                5.500000e+01  \n",
       "mean                 1.112487e+09  \n",
       "std                  3.834783e+09  \n",
       "min                  0.000000e+00  \n",
       "25%                  9.586920e+06  \n",
       "50%                  1.216200e+08  \n",
       "75%                  5.897930e+08  \n",
       "max                  2.782470e+10  \n",
       "\n",
       "[8 rows x 31 columns]"
      ]
     },
     "execution_count": 6,
     "metadata": {},
     "output_type": "execute_result"
    }
   ],
   "source": [
    "df.describe()"
   ]
  },
  {
   "attachments": {},
   "cell_type": "markdown",
   "metadata": {},
   "source": [
    "### Normalizacion\n",
    "#### Normalizacion de la Media"
   ]
  },
  {
   "cell_type": "code",
   "execution_count": 10,
   "metadata": {},
   "outputs": [
    {
     "name": "stdout",
     "output_type": "stream",
     "text": [
      "     1990/91   1991/92   1992/93   1993/94   1994/95   1995/96   1996/97  \\\n",
      "0  -0.294899 -0.288177 -0.281895 -0.290423 -0.283882 -0.289090 -0.270482   \n",
      "1  -0.290493 -0.290736 -0.288006 -0.283634 -0.280367 -0.274310 -0.262849   \n",
      "2   6.912085  6.937923  6.941987  6.962196  6.962264  6.985828  7.017577   \n",
      "3  -0.310757 -0.312406 -0.309030 -0.304872 -0.301851 -0.294858 -0.282430   \n",
      "4  -0.004152 -0.015172 -0.025209 -0.026837 -0.029974 -0.043949 -0.084630   \n",
      "5   0.781744  0.778249  0.764407  0.779099  0.790344  0.744107  0.702586   \n",
      "6  -0.004152 -0.057829 -0.025209 -0.018849 -0.173205 -0.175893 -0.172910   \n",
      "7  -0.310757 -0.312065 -0.308786 -0.304800 -0.301851 -0.294858 -0.282430   \n",
      "8  -0.309876 -0.311212 -0.307971 -0.304800 -0.301851 -0.294858 -0.282430   \n",
      "9  -0.299304 -0.300974 -0.298192 -0.290423 -0.287789 -0.281880 -0.270482   \n",
      "10 -0.145120 -0.151674 -0.147440 -0.146649 -0.147163 -0.152100 -0.151006   \n",
      "11 -0.311639 -0.312918 -0.309601 -0.305599 -0.302632 -0.295579 -0.283094   \n",
      "12 -0.312520 -0.313771 -0.310415 -0.306398 -0.303414 -0.296300 -0.283757   \n",
      "13 -0.305471 -0.306946 -0.303896 -0.299742 -0.296903 -0.291542 -0.281102   \n",
      "14 -0.309876 -0.311496 -0.308242 -0.304002 -0.301070 -0.294137 -0.281766   \n",
      "15 -0.124856 -0.132052 -0.151515 -0.151361 -0.151850 -0.156426 -0.158307   \n",
      "16 -0.030584 -0.040766 -0.049655 -0.050799 -0.045599 -0.043949 -0.068036   \n",
      "17 -0.118689 -0.032235 -0.041506 -0.042811 -0.045599 -0.058369 -0.064717   \n",
      "18  0.321836  0.326084  0.300742  0.308637  0.313778  0.287712  0.267825   \n",
      "19 -0.308995 -0.310785 -0.294770 -0.292420 -0.289742 -0.286495 -0.272739   \n",
      "20 -0.311198 -0.312491 -0.309249 -0.305599 -0.302242 -0.295868 -0.283094   \n",
      "21 -0.239128 -0.242676 -0.242509 -0.226523 -0.225288 -0.224200 -0.217382   \n",
      "22 -0.287850 -0.289883 -0.287599 -0.286429 -0.291695 -0.289090 -0.277120   \n",
      "23  0.775576  0.768864  0.751369  0.763124  0.770813  0.683542  0.607669   \n",
      "24  0.017874  0.006157 -0.004837 -0.006868 -0.010443 -0.025924 -0.034848   \n",
      "25 -0.268467 -0.271114 -0.269672 -0.266460 -0.264351 -0.260250 -0.250570   \n",
      "26 -0.136310 -0.143143 -0.147440 -0.146649 -0.147163 -0.152100 -0.151006   \n",
      "27 -0.153931 -0.160206 -0.122994 -0.122686 -0.123725 -0.101630 -0.131093   \n",
      "28 -0.312520 -0.313771 -0.310415 -0.306398 -0.303414 -0.296300 -0.283757   \n",
      "29  0.744740  0.764599  0.774185  0.813445  0.849720  0.824859  0.802814   \n",
      "30 -0.311022 -0.312918 -0.309764 -0.305759 -0.302632 -0.295724 -0.283205   \n",
      "31 -0.297542 -0.299268 -0.296563 -0.292819 -0.281538 -0.276112 -0.281766   \n",
      "32 -0.048205 -0.057829 -0.065952 -0.058786 -0.061224 -0.072789 -0.084630   \n",
      "33 -0.290493 -0.292443 -0.259486 -0.280039 -0.264351 -0.260250 -0.250570   \n",
      "34 -0.312520 -0.313771 -0.310415 -0.306398 -0.303414 -0.296300 -0.283757   \n",
      "35 -0.146747 -0.094429 -0.114845 -0.122686 -0.105756 -0.180219 -0.172297   \n",
      "36  0.483068  0.468275  0.436826  0.359224  0.348935  0.307179  0.272471   \n",
      "37 -0.306352 -0.304387 -0.305526 -0.298730 -0.291695 -0.285485 -0.271810   \n",
      "38 -0.268467 -0.271114 -0.269672 -0.266460 -0.264351 -0.260250 -0.250570   \n",
      "39 -0.312520 -0.313771 -0.310415 -0.306398 -0.303414 -0.296300 -0.283757   \n",
      "40 -0.309876 -0.311212 -0.307971 -0.302404 -0.299507 -0.292695 -0.280439   \n",
      "41  0.898042  0.709998  0.748924  0.548261  0.493467  0.553762  0.535983   \n",
      "42 -0.312520 -0.313771 -0.310415 -0.306398 -0.303414 -0.296300 -0.283757   \n",
      "43 -0.282564 -0.196038 -0.256960 -0.219414 -0.233413 -0.215909 -0.220455   \n",
      "44 -0.288291 -0.283271 -0.281284 -0.274448 -0.272163 -0.267460 -0.257207   \n",
      "45 -0.257013 -0.256611 -0.255819 -0.252882 -0.243517 -0.241023 -0.232869   \n",
      "46 -0.304590 -0.306093 -0.303082 -0.302404 -0.299507 -0.290532 -0.278447   \n",
      "47 -0.253783 -0.256611 -0.287599 -0.290423 -0.287789 -0.281880 -0.270482   \n",
      "48 -0.146882 -0.126080 -0.120549 -0.106711 -0.082318  0.004358 -0.062726   \n",
      "49 -0.311639 -0.312918 -0.309601 -0.305599 -0.302632 -0.295579 -0.283094   \n",
      "50 -0.305471 -0.303960 -0.302267 -0.298410 -0.292476 -0.286206 -0.274465   \n",
      "51 -0.250846 -0.249786 -0.249300 -0.246492 -0.240913 -0.238620 -0.230657   \n",
      "52  0.376805  0.381948  0.382205  0.401236  0.417998  0.397636  0.382111   \n",
      "53 -0.180362 -0.117549 -0.106696 -0.093132 -0.094818 -0.093089 -0.086279   \n",
      "54 -0.312520 -0.313771 -0.310415 -0.306398 -0.303414 -0.296300 -0.283757   \n",
      "\n",
      "     1997/98   1998/99   1999/00  ...   2011/12   2012/13   2013/14   2014/15  \\\n",
      "0  -0.255088 -0.256123 -0.258280  ... -0.277190 -0.278048 -0.284261 -0.287439   \n",
      "1  -0.259855 -0.254322 -0.250209  ... -0.270218 -0.270758 -0.276385 -0.279151   \n",
      "2   7.029656  7.049417  7.051606  ...  6.948748  6.941079  6.895017  6.873360   \n",
      "3  -0.279243 -0.272931 -0.268657  ... -0.287466 -0.288005 -0.294284 -0.297315   \n",
      "4  -0.089814 -0.094045 -0.137217  ... -0.233152 -0.235373 -0.239513 -0.243352   \n",
      "5   0.693327  0.673127  0.667562  ...  1.057535  1.098209  1.226412  1.259841   \n",
      "6  -0.174358 -0.173883 -0.237526  ... -0.123057 -0.135799 -0.148229 -0.160469   \n",
      "7  -0.279243 -0.272931 -0.269233  ... -0.287833 -0.288361 -0.294642 -0.297668   \n",
      "8  -0.279243 -0.273532 -0.268657  ... -0.287746 -0.288108 -0.294270 -0.297342   \n",
      "9  -0.267801 -0.262126 -0.258280  ... -0.280860 -0.281604 -0.287841 -0.290966   \n",
      "10 -0.153381 -0.154074 -0.154512  ... -0.196454 -0.199811 -0.205505 -0.209846   \n",
      "11 -0.278608 -0.272331 -0.268657  ... -0.287833 -0.288361 -0.294642 -0.297668   \n",
      "12 -0.280515 -0.274132 -0.269810  ... -0.288020 -0.288542 -0.294825 -0.297847   \n",
      "13 -0.277972 -0.271731 -0.267504  ... -0.286732 -0.287294 -0.293568 -0.296609   \n",
      "14 -0.278608 -0.272331 -0.268080  ... -0.287099 -0.287650 -0.293926 -0.296962   \n",
      "15 -0.156559 -0.154074 -0.154512  ... -0.207463 -0.210480 -0.216245 -0.220427   \n",
      "16 -0.073923 -0.079037 -0.082451  ... -0.149480 -0.154292 -0.157775 -0.161174   \n",
      "17 -0.070744 -0.076036 -0.073803  ... -0.163425 -0.167805 -0.173287 -0.178103   \n",
      "18  0.261709  0.212104  0.227124  ...  0.509993  0.538105  0.617847  0.689530   \n",
      "19 -0.269708 -0.263927 -0.261739  ... -0.266566 -0.263219 -0.268701 -0.270962   \n",
      "20 -0.280133 -0.273772 -0.269464  ... -0.288200 -0.288717 -0.295000 -0.298020   \n",
      "21 -0.216948 -0.214103 -0.212161  ... -0.262505 -0.263207 -0.268695 -0.271456   \n",
      "22 -0.274158 -0.262727 -0.257703  ... -0.283307 -0.282790 -0.287841 -0.290966   \n",
      "23  0.563651  0.513450  0.477897  ...  0.238448  0.249781  0.283860  0.289379   \n",
      "24 -0.042139 -0.049023 -0.053626  ... -0.148420 -0.138254 -0.175056 -0.163734   \n",
      "25 -0.248731 -0.244117 -0.240985  ... -0.171866 -0.175984 -0.181521 -0.186215   \n",
      "26 -0.153381 -0.154074 -0.154512  ... -0.214803 -0.217592 -0.223404 -0.227481   \n",
      "27 -0.158678 -0.159076 -0.181434  ... -0.187866 -0.190352 -0.196556 -0.199265   \n",
      "28 -0.280515 -0.274132 -0.269810  ... -0.288200 -0.288717 -0.295000 -0.298020   \n",
      "29  0.815375  0.815996  0.832438  ...  0.898997  0.884480  0.909601  0.912787   \n",
      "30 -0.280006 -0.273652 -0.269398  ... -0.287821 -0.288373 -0.294792 -0.297838   \n",
      "31 -0.278608 -0.273532 -0.269233  ... -0.287466 -0.288005 -0.294284 -0.297315   \n",
      "32 -0.089814 -0.094045 -0.096863  ... -0.159755 -0.160693 -0.162548 -0.163996   \n",
      "33 -0.248731 -0.244117 -0.240985  ... -0.269851 -0.270936 -0.277101 -0.280385   \n",
      "34 -0.280515 -0.271210 -0.267302  ... -0.285044 -0.285623 -0.291850 -0.294881   \n",
      "35 -0.178172 -0.191292 -0.172959  ... -0.163425 -0.166027 -0.169707 -0.172813   \n",
      "36  0.252810  0.266130  0.263443  ...  0.198055  0.200264  0.206171  0.206336   \n",
      "37 -0.267801 -0.265248 -0.263468  ... -0.284897 -0.285516 -0.291778 -0.294846   \n",
      "38 -0.248731 -0.244117 -0.240985  ... -0.269851 -0.270936 -0.275311 -0.278622   \n",
      "39 -0.280515 -0.274132 -0.269810  ... -0.233152 -0.235373 -0.241303 -0.245116   \n",
      "40 -0.277336 -0.271131 -0.266927  ... -0.286365 -0.286939 -0.293210 -0.296257   \n",
      "41  0.482922  0.390990  0.393153  ...  0.575683  0.548418  0.535870  0.529759   \n",
      "42 -0.280515 -0.274132 -0.269810  ... -0.288200 -0.288717 -0.295000 -0.298020   \n",
      "43 -0.202327 -0.198195 -0.194693  ... -0.212872 -0.214796 -0.219982 -0.223340   \n",
      "44 -0.255088 -0.250120 -0.246750  ... -0.273521 -0.274492 -0.280681 -0.283912   \n",
      "45 -0.229270 -0.233913 -0.231185  ... -0.263612 -0.264890 -0.271016 -0.274390   \n",
      "46 -0.277336 -0.271131 -0.266927  ... -0.286365 -0.286939 -0.293210 -0.296257   \n",
      "47 -0.267801 -0.256123 -0.252515  ... -0.275356 -0.276270 -0.282471 -0.285676   \n",
      "48 -0.032604 -0.014206 -0.020190  ...  0.115484  0.113136  0.134575  0.142850   \n",
      "49 -0.279879 -0.272931 -0.268657  ... -0.288123 -0.288631 -0.294915 -0.297951   \n",
      "50 -0.271615 -0.265728 -0.261739  ... -0.284530 -0.285160 -0.291421 -0.294493   \n",
      "51 -0.216191 -0.204498 -0.201207  ... -0.211133 -0.211902 -0.215958 -0.217182   \n",
      "52  0.384145  0.380089  0.385048  ...  0.317326  0.298060  0.295666  0.283929   \n",
      "53 -0.080878 -0.075124 -0.068038  ...  0.317326  0.360294  0.420959  0.477912   \n",
      "54 -0.280515 -0.274132 -0.269810  ... -0.240492 -0.242486 -0.248463 -0.253933   \n",
      "\n",
      "     2015/16   2016/17   2017/18   2018/19   2019/20  \\\n",
      "0  -0.289971 -0.286533 -0.284717 -0.285178 -0.285787   \n",
      "1  -0.281247 -0.277419 -0.275426 -0.275495 -0.275705   \n",
      "2   6.856583  6.868328  6.876405  6.870576  6.859248   \n",
      "3  -0.299743 -0.295985 -0.293844 -0.294215 -0.294893   \n",
      "4  -0.246348 -0.244336 -0.243967 -0.244832 -0.247086   \n",
      "5   1.287450  1.273055  1.253978  1.254423  1.267453   \n",
      "6  -0.171316 -0.175134 -0.175508 -0.173823 -0.173587   \n",
      "7  -0.300092 -0.296323 -0.294170 -0.294538 -0.295218   \n",
      "8  -0.299813 -0.295985 -0.293844 -0.294215 -0.294893   \n",
      "9  -0.293461 -0.289909 -0.287977 -0.288405 -0.289039   \n",
      "10 -0.213194 -0.212267 -0.212998 -0.214169 -0.214239   \n",
      "11 -0.300092 -0.296323 -0.294170 -0.294538 -0.295218   \n",
      "12 -0.300270 -0.296495 -0.294337 -0.294703 -0.295384   \n",
      "13 -0.299045 -0.295310 -0.293192 -0.293570 -0.294242   \n",
      "14 -0.299394 -0.295648 -0.293518 -0.293892 -0.294568   \n",
      "15 -0.223664 -0.222394 -0.222778 -0.223852 -0.225296   \n",
      "16 -0.165034 -0.165007 -0.167359 -0.168981 -0.172936   \n",
      "17 -0.181785 -0.181885 -0.183658 -0.183506 -0.183343   \n",
      "18  0.746520  0.726186  0.742166  0.770272  0.761415   \n",
      "19 -0.268317 -0.265840 -0.264613 -0.265166 -0.264648   \n",
      "20 -0.300441 -0.296660 -0.294496 -0.294861 -0.295543   \n",
      "21 -0.273918 -0.270667 -0.269069 -0.269685 -0.270502   \n",
      "22 -0.293461 -0.289909 -0.287977 -0.288405 -0.289039   \n",
      "23  0.299947  0.289516  0.290100  0.283348  0.362949   \n",
      "24 -0.143808 -0.185444 -0.179311 -0.177051 -0.181067   \n",
      "25 -0.189812 -0.189650 -0.191156 -0.192543 -0.192449   \n",
      "26 -0.230644 -0.229146 -0.229298 -0.230307 -0.231150   \n",
      "27 -0.200980 -0.198089 -0.196698 -0.198030 -0.200580   \n",
      "28 -0.300441 -0.296660 -0.294496 -0.294861 -0.295543   \n",
      "29  0.921362  0.908813  0.893102  0.894537  0.934105   \n",
      "30 -0.300266 -0.296491 -0.294333 -0.294699 -0.295381   \n",
      "31 -0.299743 -0.295985 -0.293844 -0.294215 -0.294893   \n",
      "32 -0.164336 -0.165007 -0.165729 -0.167368 -0.167733   \n",
      "33 -0.282992 -0.279782 -0.278197 -0.278722 -0.279282   \n",
      "34 -0.297300 -0.293622 -0.291562 -0.291956 -0.292616   \n",
      "35 -0.173061 -0.171758 -0.172248 -0.173823 -0.181717   \n",
      "36  0.205590  0.189445  0.184716  0.181221  0.176023   \n",
      "37 -0.297300 -0.293622 -0.291562 -0.291956 -0.292616   \n",
      "38 -0.279502 -0.276406 -0.273307 -0.272267 -0.272290   \n",
      "39 -0.248093 -0.246024 -0.243967 -0.244832 -0.244484   \n",
      "40 -0.298696 -0.294972 -0.292866 -0.293247 -0.293917   \n",
      "41  0.512350  0.500012  0.487890  0.495919  0.493110   \n",
      "42 -0.300441 -0.296660 -0.294496 -0.294861 -0.295543   \n",
      "43 -0.225777 -0.223499 -0.223430 -0.223852 -0.227248   \n",
      "44 -0.286481 -0.283157 -0.281457 -0.281950 -0.282535   \n",
      "45 -0.277059 -0.274043 -0.272655 -0.273235 -0.273754   \n",
      "46 -0.298696 -0.294972 -0.292866 -0.293247 -0.293917   \n",
      "47 -0.288226 -0.284845 -0.283087 -0.283564 -0.284161   \n",
      "48  0.153242  0.159063  0.153746  0.157014  0.159762   \n",
      "49 -0.300364 -0.296575 -0.294414 -0.294779 -0.295459   \n",
      "50 -0.296951 -0.293285 -0.291236 -0.291633 -0.292291   \n",
      "51 -0.218778 -0.215643 -0.214693 -0.214169 -0.212938   \n",
      "52  0.275388  0.260335  0.227095  0.205429  0.119109   \n",
      "53  0.502229  0.513515  0.520490  0.544335  0.566284   \n",
      "54 -0.260307 -0.262903 -0.265157 -0.273881 -0.274729   \n",
      "\n",
      "    Total_domestic_consumption  \n",
      "0                    -0.277978  \n",
      "1                    -0.270499  \n",
      "2                     6.965769  \n",
      "3                    -0.289214  \n",
      "4                    -0.190610  \n",
      "5                     0.993014  \n",
      "6                    -0.136587  \n",
      "7                    -0.289494  \n",
      "8                    -0.289163  \n",
      "9                    -0.280951  \n",
      "10                   -0.185274  \n",
      "11                   -0.289546  \n",
      "12                   -0.290028  \n",
      "13                   -0.287863  \n",
      "14                   -0.288706  \n",
      "15                   -0.189967  \n",
      "16                   -0.122475  \n",
      "17                   -0.133485  \n",
      "18                    0.441953  \n",
      "19                   -0.270175  \n",
      "20                   -0.289846  \n",
      "21                   -0.252696  \n",
      "22                   -0.283639  \n",
      "23                    0.371413  \n",
      "24                   -0.116604  \n",
      "25                   -0.183120  \n",
      "26                   -0.196258  \n",
      "27                   -0.181300  \n",
      "28                   -0.290104  \n",
      "29                    0.892894  \n",
      "30                   -0.289811  \n",
      "31                   -0.287504  \n",
      "32                   -0.136020  \n",
      "33                   -0.267488  \n",
      "34                   -0.287704  \n",
      "35                   -0.167059  \n",
      "36                    0.255809  \n",
      "37                   -0.285231  \n",
      "38                   -0.265281  \n",
      "39                   -0.248908  \n",
      "40                   -0.287851  \n",
      "41                    0.541666  \n",
      "42                   -0.290104  \n",
      "43                   -0.211951  \n",
      "44                   -0.271657  \n",
      "45                   -0.258051  \n",
      "46                   -0.287476  \n",
      "47                   -0.274901  \n",
      "48                    0.035494  \n",
      "49                   -0.289539  \n",
      "50                   -0.284605  \n",
      "51                   -0.215832  \n",
      "52                    0.332113  \n",
      "53                    0.210818  \n",
      "54                   -0.258389  \n",
      "\n",
      "[55 rows x 31 columns]\n"
     ]
    },
    {
     "data": {
      "text/plain": [
       "<AxesSubplot:>"
      ]
     },
     "execution_count": 10,
     "metadata": {},
     "output_type": "execute_result"
    },
    {
     "data": {
      "image/png": "[encoded data removed]",
      "text/plain": [
       "<Figure size 640x480 with 1 Axes>"
      ]
     },
     "metadata": {},
     "output_type": "display_data"
    }
   ],
   "source": [
    "def mean_norm(df_input):\n",
    "    return df_input.apply(lambda x: (x-x.mean())/ x.std(), axis=0)\n",
    "\n",
    "df_mean_norm = mean_norm(df.drop([\"Country\",\"Coffee type\"], axis=1))\n",
    "print(df_mean_norm)\n",
    "\n",
    "\n",
    "df['1990/91'].plot(kind='bar')"
   ]
  },
  {
   "cell_type": "code",
   "execution_count": 11,
   "metadata": {},
   "outputs": [
    {
     "data": {
      "text/plain": [
       "<AxesSubplot:>"
      ]
     },
     "execution_count": 11,
     "metadata": {},
     "output_type": "execute_result"
    },
    {
     "data": {
      "image/png": "[encoded data removed]",
      "text/plain": [
       "<Figure size 640x480 with 1 Axes>"
      ]
     },
     "metadata": {},
     "output_type": "display_data"
    }
   ],
   "source": [
    "df_mean_norm['1990/91'].plot(kind='bar')"
   ]
  },
  {
   "attachments": {},
   "cell_type": "markdown",
   "metadata": {},
   "source": [
    "#### Normalizacion de MIN-MAX"
   ]
  },
  {
   "cell_type": "code",
   "execution_count": 15,
   "metadata": {},
   "outputs": [
    {
     "name": "stdout",
     "output_type": "stream",
     "text": [
      "     1990/91   1991/92   1992/93   1993/94   1994/95   1995/96   1996/97  \\\n",
      "0   0.002439  0.003529  0.003933  0.002198  0.002688  0.000990  0.001818   \n",
      "1   0.003049  0.003176  0.003090  0.003132  0.003172  0.003020  0.002864   \n",
      "2   1.000000  1.000000  1.000000  1.000000  1.000000  1.000000  1.000000   \n",
      "3   0.000244  0.000188  0.000191  0.000210  0.000215  0.000198  0.000182   \n",
      "4   0.042683  0.041176  0.039326  0.038462  0.037634  0.034653  0.027273   \n",
      "5   0.151463  0.150588  0.148202  0.149341  0.150538  0.142871  0.135091   \n",
      "6   0.042683  0.035294  0.039326  0.039560  0.017921  0.016535  0.015182   \n",
      "7   0.000244  0.000235  0.000225  0.000220  0.000215  0.000198  0.000182   \n",
      "8   0.000366  0.000353  0.000337  0.000220  0.000215  0.000198  0.000182   \n",
      "9   0.001829  0.001765  0.001685  0.002198  0.002151  0.001980  0.001818   \n",
      "10  0.023171  0.022353  0.022472  0.021978  0.021505  0.019802  0.018182   \n",
      "11  0.000122  0.000118  0.000112  0.000110  0.000108  0.000099  0.000091   \n",
      "12  0.000000  0.000000  0.000000  0.000000  0.000000  0.000000  0.000000   \n",
      "13  0.000976  0.000941  0.000899  0.000916  0.000896  0.000653  0.000364   \n",
      "14  0.000366  0.000314  0.000300  0.000330  0.000323  0.000297  0.000273   \n",
      "15  0.025976  0.025059  0.021910  0.021330  0.020860  0.019208  0.017182   \n",
      "16  0.039024  0.037647  0.035955  0.035165  0.035484  0.034653  0.029545   \n",
      "17  0.026829  0.038824  0.037079  0.036264  0.035484  0.032673  0.030000   \n",
      "18  0.087805  0.088235  0.084270  0.084615  0.084946  0.080198  0.075545   \n",
      "19  0.000488  0.000412  0.002157  0.001923  0.001882  0.001347  0.001509   \n",
      "20  0.000183  0.000176  0.000161  0.000110  0.000161  0.000059  0.000091   \n",
      "21  0.010159  0.009804  0.009363  0.010989  0.010753  0.009901  0.009091   \n",
      "22  0.003415  0.003294  0.003146  0.002747  0.001613  0.000990  0.000909   \n",
      "23  0.150610  0.149294  0.146404  0.147143  0.147849  0.134554  0.122091   \n",
      "24  0.045732  0.044118  0.042135  0.041209  0.040323  0.037129  0.034091   \n",
      "25  0.006098  0.005882  0.005618  0.005495  0.005376  0.004950  0.004545   \n",
      "26  0.024390  0.023529  0.022472  0.021978  0.021505  0.019802  0.018182   \n",
      "27  0.021951  0.021176  0.025843  0.025275  0.024731  0.026733  0.020909   \n",
      "28  0.000000  0.000000  0.000000  0.000000  0.000000  0.000000  0.000000   \n",
      "29  0.146341  0.148706  0.149551  0.154066  0.158710  0.153960  0.148818   \n",
      "30  0.000207  0.000118  0.000090  0.000088  0.000108  0.000079  0.000076   \n",
      "31  0.002073  0.002000  0.001910  0.001868  0.003011  0.002772  0.000273   \n",
      "32  0.036585  0.035294  0.033708  0.034066  0.033333  0.030693  0.027273   \n",
      "33  0.003049  0.002941  0.007022  0.003626  0.005376  0.004950  0.004545   \n",
      "34  0.000000  0.000000  0.000000  0.000000  0.000000  0.000000  0.000000   \n",
      "35  0.022946  0.030247  0.026966  0.025275  0.027204  0.015941  0.015266   \n",
      "36  0.110122  0.107843  0.103034  0.091575  0.089785  0.082871  0.076182   \n",
      "37  0.000854  0.001294  0.000674  0.001055  0.001613  0.001485  0.001636   \n",
      "38  0.006098  0.005882  0.005618  0.005495  0.005376  0.004950  0.004545   \n",
      "39  0.000000  0.000000  0.000000  0.000000  0.000000  0.000000  0.000000   \n",
      "40  0.000366  0.000353  0.000337  0.000549  0.000538  0.000495  0.000455   \n",
      "41  0.167561  0.141176  0.146067  0.117582  0.109677  0.116733  0.112273   \n",
      "42  0.000000  0.000000  0.000000  0.000000  0.000000  0.000000  0.000000   \n",
      "43  0.004146  0.016235  0.007371  0.011967  0.009634  0.011040  0.008670   \n",
      "44  0.003354  0.004206  0.004017  0.004396  0.004301  0.003960  0.003636   \n",
      "45  0.007683  0.007882  0.007528  0.007363  0.008244  0.007591  0.006970   \n",
      "46  0.001098  0.001059  0.001011  0.000549  0.000538  0.000792  0.000727   \n",
      "47  0.008130  0.007882  0.003146  0.002198  0.002151  0.001980  0.001818   \n",
      "48  0.022927  0.025882  0.026180  0.027473  0.030430  0.041287  0.030273   \n",
      "49  0.000122  0.000118  0.000112  0.000110  0.000108  0.000099  0.000091   \n",
      "50  0.000976  0.001353  0.001124  0.001099  0.001505  0.001386  0.001273   \n",
      "51  0.008537  0.008824  0.008427  0.008242  0.008602  0.007921  0.007273   \n",
      "52  0.095413  0.095939  0.095502  0.097355  0.099290  0.095293  0.091198   \n",
      "53  0.018293  0.027059  0.028090  0.029341  0.028710  0.027905  0.027047   \n",
      "54  0.000000  0.000000  0.000000  0.000000  0.000000  0.000000  0.000000   \n",
      "\n",
      "     1997/98   1998/99   1999/00  ...   2011/12   2012/13   2013/14   2014/15  \\\n",
      "0   0.003478  0.002459  0.001575  ...  0.001521  0.001476  0.001494  0.001475   \n",
      "1   0.002826  0.002705  0.002677  ...  0.002485  0.002484  0.002589  0.002631   \n",
      "2   1.000000  1.000000  1.000000  ...  1.000000  1.000000  1.000000  1.000000   \n",
      "3   0.000174  0.000164  0.000157  ...  0.000101  0.000098  0.000100  0.000098   \n",
      "4   0.026087  0.024590  0.018110  ...  0.007606  0.007378  0.007717  0.007623   \n",
      "5   0.133217  0.129344  0.128031  ...  0.185953  0.191835  0.211601  0.217233   \n",
      "6   0.014522  0.013689  0.004409  ...  0.022819  0.021151  0.020413  0.019181   \n",
      "7   0.000174  0.000164  0.000079  ...  0.000051  0.000049  0.000050  0.000049   \n",
      "8   0.000174  0.000082  0.000157  ...  0.000063  0.000084  0.000102  0.000095   \n",
      "9   0.001739  0.001639  0.001575  ...  0.001014  0.000984  0.000996  0.000984   \n",
      "10  0.017391  0.016393  0.015748  ...  0.012677  0.012297  0.012447  0.012295   \n",
      "11  0.000261  0.000246  0.000157  ...  0.000051  0.000049  0.000050  0.000049   \n",
      "12  0.000000  0.000000  0.000000  ...  0.000025  0.000024  0.000024  0.000024   \n",
      "13  0.000348  0.000328  0.000315  ...  0.000203  0.000197  0.000199  0.000197   \n",
      "14  0.000261  0.000246  0.000236  ...  0.000152  0.000148  0.000149  0.000148   \n",
      "15  0.016957  0.016393  0.015748  ...  0.011156  0.010821  0.010953  0.010820   \n",
      "16  0.028261  0.026639  0.025591  ...  0.019168  0.018593  0.019086  0.019082   \n",
      "17  0.028696  0.027049  0.026772  ...  0.017241  0.016724  0.016928  0.016722   \n",
      "18  0.074174  0.066393  0.067874  ...  0.110294  0.114363  0.126960  0.137707   \n",
      "19  0.001478  0.001393  0.001102  ...  0.002989  0.003527  0.003658  0.003773   \n",
      "20  0.000052  0.000049  0.000047  ...  0.000000  0.000000  0.000000  0.000000   \n",
      "21  0.008696  0.008197  0.007874  ...  0.003551  0.003528  0.003659  0.003704   \n",
      "22  0.000870  0.001557  0.001654  ...  0.000676  0.000820  0.000996  0.000984   \n",
      "23  0.115478  0.107541  0.102126  ...  0.072772  0.074483  0.080509  0.081909   \n",
      "24  0.032609  0.030738  0.029528  ...  0.019315  0.020811  0.016682  0.018725   \n",
      "25  0.004348  0.004098  0.003937  ...  0.016075  0.015593  0.015783  0.015590   \n",
      "26  0.017391  0.016393  0.015748  ...  0.010142  0.009838  0.009958  0.009836   \n",
      "27  0.016667  0.015710  0.012071  ...  0.013864  0.013606  0.013692  0.013771   \n",
      "28  0.000000  0.000000  0.000000  ...  0.000000  0.000000  0.000000  0.000000   \n",
      "29  0.149913  0.148852  0.150551  ...  0.164047  0.162273  0.167538  0.168839   \n",
      "30  0.000070  0.000066  0.000056  ...  0.000052  0.000048  0.000029  0.000025   \n",
      "31  0.000261  0.000082  0.000079  ...  0.000101  0.000098  0.000100  0.000098   \n",
      "32  0.026087  0.024590  0.023622  ...  0.017748  0.017708  0.018422  0.018689   \n",
      "33  0.004348  0.004098  0.003937  ...  0.002535  0.002459  0.002489  0.002459   \n",
      "34  0.000000  0.000399  0.000343  ...  0.000436  0.000428  0.000438  0.000438   \n",
      "35  0.014000  0.011311  0.013228  ...  0.017241  0.016970  0.017426  0.017459   \n",
      "36  0.072957  0.073770  0.072835  ...  0.067191  0.067634  0.069704  0.070329   \n",
      "37  0.001739  0.001213  0.000866  ...  0.000456  0.000443  0.000448  0.000443   \n",
      "38  0.004348  0.004098  0.003937  ...  0.002535  0.002459  0.002738  0.002705   \n",
      "39  0.000000  0.000000  0.000000  ...  0.007606  0.007378  0.007468  0.007377   \n",
      "40  0.000435  0.000410  0.000394  ...  0.000254  0.000246  0.000249  0.000246   \n",
      "41  0.104435  0.090820  0.090551  ...  0.119371  0.115789  0.115559  0.115428   \n",
      "42  0.000000  0.000000  0.000000  ...  0.000000  0.000000  0.000000  0.000000   \n",
      "43  0.010696  0.010369  0.010260  ...  0.010409  0.010224  0.010434  0.010414   \n",
      "44  0.003478  0.003279  0.003150  ...  0.002028  0.001968  0.001992  0.001967   \n",
      "45  0.007010  0.005492  0.005276  ...  0.003398  0.003296  0.003336  0.003295   \n",
      "46  0.000435  0.000410  0.000394  ...  0.000254  0.000246  0.000249  0.000246   \n",
      "47  0.001739  0.002459  0.002362  ...  0.001775  0.001722  0.001743  0.001721   \n",
      "48  0.033913  0.035492  0.034094  ...  0.055781  0.055583  0.059746  0.061476   \n",
      "49  0.000087  0.000164  0.000157  ...  0.000011  0.000012  0.000012  0.000010   \n",
      "50  0.001217  0.001148  0.001102  ...  0.000507  0.000492  0.000498  0.000492   \n",
      "51  0.008799  0.009508  0.009370  ...  0.010649  0.010625  0.010993  0.011272   \n",
      "52  0.090923  0.089331  0.089444  ...  0.083671  0.081161  0.082151  0.081149   \n",
      "53  0.027309  0.027174  0.027559  ...  0.083671  0.089769  0.099577  0.108198   \n",
      "54  0.000000  0.000000  0.000000  ...  0.006592  0.006394  0.006472  0.006148   \n",
      "\n",
      "     2015/16   2016/17   2017/18   2018/19   2019/20  \\\n",
      "0   0.001463  0.001413  0.001364  0.001351  0.001364   \n",
      "1   0.002682  0.002686  0.002659  0.002703  0.002773   \n",
      "2   1.000000  1.000000  1.000000  1.000000  1.000000   \n",
      "3   0.000098  0.000094  0.000091  0.000090  0.000091   \n",
      "4   0.007558  0.007303  0.007046  0.006982  0.006773   \n",
      "5   0.221865  0.219081  0.215939  0.216216  0.218455   \n",
      "6   0.018042  0.016961  0.016593  0.016892  0.017045   \n",
      "7   0.000049  0.000047  0.000045  0.000045  0.000045   \n",
      "8   0.000088  0.000094  0.000091  0.000090  0.000091   \n",
      "9   0.000975  0.000942  0.000909  0.000901  0.000909   \n",
      "10  0.012190  0.011779  0.011365  0.011261  0.011364   \n",
      "11  0.000049  0.000047  0.000045  0.000045  0.000045   \n",
      "12  0.000024  0.000023  0.000022  0.000022  0.000022   \n",
      "13  0.000195  0.000188  0.000182  0.000180  0.000182   \n",
      "14  0.000146  0.000141  0.000136  0.000135  0.000136   \n",
      "15  0.010728  0.010365  0.010001  0.009910  0.009818   \n",
      "16  0.018919  0.018375  0.017730  0.017568  0.017136   \n",
      "17  0.016579  0.016019  0.015457  0.015541  0.015682   \n",
      "18  0.146284  0.142756  0.144565  0.148649  0.147727   \n",
      "19  0.004488  0.004302  0.004167  0.004144  0.004318   \n",
      "20  0.000000  0.000000  0.000000  0.000000  0.000000   \n",
      "21  0.003706  0.003628  0.003546  0.003514  0.003500   \n",
      "22  0.000975  0.000942  0.000909  0.000901  0.000909   \n",
      "23  0.083888  0.081811  0.081523  0.080694  0.092035   \n",
      "24  0.021885  0.015522  0.016063  0.016441  0.016000   \n",
      "25  0.015457  0.014935  0.014411  0.014279  0.014409   \n",
      "26  0.009752  0.009423  0.009092  0.009009  0.009000   \n",
      "27  0.013897  0.013757  0.013638  0.013514  0.013273   \n",
      "28  0.000000  0.000000  0.000000  0.000000  0.000000   \n",
      "29  0.170714  0.168245  0.165613  0.165991  0.171864   \n",
      "30  0.000024  0.000024  0.000023  0.000023  0.000023   \n",
      "31  0.000098  0.000094  0.000091  0.000090  0.000091   \n",
      "32  0.019017  0.018375  0.017957  0.017793  0.017864   \n",
      "33  0.002438  0.002356  0.002273  0.002252  0.002273   \n",
      "34  0.000439  0.000424  0.000409  0.000405  0.000409   \n",
      "35  0.017798  0.017432  0.017048  0.016892  0.015909   \n",
      "36  0.070704  0.067845  0.066827  0.066441  0.065909   \n",
      "37  0.000439  0.000424  0.000409  0.000405  0.000409   \n",
      "38  0.002926  0.002827  0.002955  0.003153  0.003250   \n",
      "39  0.007314  0.007067  0.007046  0.006982  0.007136   \n",
      "40  0.000244  0.000236  0.000227  0.000225  0.000227   \n",
      "41  0.113565  0.111190  0.109106  0.110360  0.110227   \n",
      "42  0.000000  0.000000  0.000000  0.000000  0.000000   \n",
      "43  0.010432  0.010211  0.009910  0.009910  0.009545   \n",
      "44  0.001950  0.001885  0.001818  0.001802  0.001818   \n",
      "45  0.003267  0.003157  0.003046  0.003018  0.003045   \n",
      "46  0.000244  0.000236  0.000227  0.000225  0.000227   \n",
      "47  0.001707  0.001649  0.001591  0.001577  0.001591   \n",
      "48  0.063390  0.063604  0.062509  0.063063  0.063636   \n",
      "49  0.000011  0.000012  0.000012  0.000011  0.000012   \n",
      "50  0.000488  0.000471  0.000455  0.000450  0.000455   \n",
      "51  0.011410  0.011307  0.011129  0.011261  0.011545   \n",
      "52  0.080456  0.077739  0.072737  0.069820  0.057955   \n",
      "53  0.112151  0.113074  0.113652  0.117117  0.120455   \n",
      "54  0.005608  0.004711  0.004091  0.002928  0.002909   \n",
      "\n",
      "    Total_domestic_consumption  \n",
      "0                     0.001671  \n",
      "1                     0.002702  \n",
      "2                     1.000000  \n",
      "3                     0.000123  \n",
      "4                     0.013712  \n",
      "5                     0.176839  \n",
      "6                     0.021158  \n",
      "7                     0.000084  \n",
      "8                     0.000130  \n",
      "9                     0.001261  \n",
      "10                    0.014448  \n",
      "11                    0.000077  \n",
      "12                    0.000011  \n",
      "13                    0.000309  \n",
      "14                    0.000193  \n",
      "15                    0.013801  \n",
      "16                    0.023103  \n",
      "17                    0.021585  \n",
      "18                    0.100892  \n",
      "19                    0.002747  \n",
      "20                    0.000036  \n",
      "21                    0.005156  \n",
      "22                    0.000891  \n",
      "23                    0.091170  \n",
      "24                    0.023912  \n",
      "25                    0.014744  \n",
      "26                    0.012934  \n",
      "27                    0.014995  \n",
      "28                    0.000000  \n",
      "29                    0.163040  \n",
      "30                    0.000040  \n",
      "31                    0.000358  \n",
      "32                    0.021236  \n",
      "33                    0.003117  \n",
      "34                    0.000331  \n",
      "35                    0.016958  \n",
      "36                    0.075237  \n",
      "37                    0.000672  \n",
      "38                    0.003421  \n",
      "39                    0.005678  \n",
      "40                    0.000311  \n",
      "41                    0.114634  \n",
      "42                    0.000000  \n",
      "43                    0.010771  \n",
      "44                    0.002542  \n",
      "45                    0.004418  \n",
      "46                    0.000362  \n",
      "47                    0.002095  \n",
      "48                    0.044874  \n",
      "49                    0.000078  \n",
      "50                    0.000758  \n",
      "51                    0.010236  \n",
      "52                    0.085754  \n",
      "53                    0.069037  \n",
      "54                    0.004371  \n",
      "\n",
      "[55 rows x 31 columns]\n"
     ]
    },
    {
     "data": {
      "text/plain": [
       "<AxesSubplot:>"
      ]
     },
     "execution_count": 15,
     "metadata": {},
     "output_type": "execute_result"
    },
    {
     "data": {
      "image/png": "[encoded data removed]",
      "text/plain": [
       "<Figure size 640x480 with 1 Axes>"
      ]
     },
     "metadata": {},
     "output_type": "display_data"
    }
   ],
   "source": [
    "df_withoutC = df.drop([\"Country\",\"Coffee type\"], axis=1)\n",
    "df_withoutC.head(5)\n",
    "\n",
    "\n",
    "def minmax_norm(df_input):\n",
    "    return (df_withoutC- df_withoutC.min())/(df_withoutC.max() - df_withoutC.min())\n",
    "\n",
    "df_minmax_norm = minmax_norm(df_withoutC)\n",
    "print(df_minmax_norm)\n",
    "\n",
    "\n",
    "df_minmax_norm['1990/91'].plot(kind='bar')"
   ]
  },
  {
   "attachments": {},
   "cell_type": "markdown",
   "metadata": {},
   "source": [
    "#### Normalizacion de Quantiles"
   ]
  },
  {
   "cell_type": "code",
   "execution_count": 17,
   "metadata": {},
   "outputs": [
    {
     "name": "stdout",
     "output_type": "stream",
     "text": [
      "         1990/91       1991/92       1992/93       1993/94       1994/95  \\\n",
      "0   4.100323e+06  5.421290e+06  5.421290e+06  3.413936e+06  4.550323e+06   \n",
      "1   4.550323e+06  4.550323e+06  4.100323e+06  5.421290e+06  5.421290e+06   \n",
      "2   1.795142e+09  1.795142e+09  1.795142e+09  1.795142e+09  1.795142e+09   \n",
      "3   2.875800e+05  2.875800e+05  2.875800e+05  2.875800e+05  2.875800e+05   \n",
      "4   4.444115e+07  8.084611e+07  4.444115e+07  4.444115e+07  8.084611e+07   \n",
      "5   2.867110e+08  3.237658e+08  2.867110e+08  2.867110e+08  2.867110e+08   \n",
      "6   4.444115e+07  3.807291e+07  4.444115e+07  8.084611e+07  2.335381e+07   \n",
      "7   2.875800e+05  4.263213e+05  4.263213e+05  4.263213e+05  2.875800e+05   \n",
      "8   4.634594e+05  5.267826e+05  5.267826e+05  4.263213e+05  2.875800e+05   \n",
      "9   2.823097e+06  2.823097e+06  2.098001e+06  3.413936e+06  3.413936e+06   \n",
      "10  2.828058e+07  2.441637e+07  2.441637e+07  2.441637e+07  2.576639e+07   \n",
      "11  1.220806e+05  1.220806e+05  1.382574e+05  1.382574e+05  1.220806e+05   \n",
      "12  0.000000e+00  0.000000e+00  0.000000e+00  0.000000e+00  0.000000e+00   \n",
      "13  1.184710e+06  1.021775e+06  1.021775e+06  1.021775e+06  1.021775e+06   \n",
      "14  4.634594e+05  4.634594e+05  4.634594e+05  5.267826e+05  5.267826e+05   \n",
      "15  3.694109e+07  2.713979e+07  2.335381e+07  2.335381e+07  2.441637e+07   \n",
      "16  4.173223e+07  4.173223e+07  3.957445e+07  3.957445e+07  4.173223e+07   \n",
      "17  3.807291e+07  4.444115e+07  4.173223e+07  4.173223e+07  4.173223e+07   \n",
      "18  1.323499e+08  1.323499e+08  1.323499e+08  1.323499e+08  1.323499e+08   \n",
      "19  6.840000e+05  6.840000e+05  3.413936e+06  2.823097e+06  2.823097e+06   \n",
      "20  1.983948e+05  2.228806e+05  2.228806e+05  1.382574e+05  2.228806e+05   \n",
      "21  2.118735e+07  1.846209e+07  2.118735e+07  1.846209e+07  2.118735e+07   \n",
      "22  5.968935e+06  4.858550e+06  4.550323e+06  4.858550e+06  1.562400e+06   \n",
      "23  2.170026e+08  2.867110e+08  2.170026e+08  2.170026e+08  2.170026e+08   \n",
      "24  1.117172e+08  1.117172e+08  1.117172e+08  1.117172e+08  1.117172e+08   \n",
      "25  7.717256e+06  7.445775e+06  7.445775e+06  7.717256e+06  7.445775e+06   \n",
      "26  3.150135e+07  2.576639e+07  2.441637e+07  2.441637e+07  2.576639e+07   \n",
      "27  2.441637e+07  2.335381e+07  2.713979e+07  2.713979e+07  2.828058e+07   \n",
      "28  0.000000e+00  0.000000e+00  0.000000e+00  0.000000e+00  0.000000e+00   \n",
      "29  1.875354e+08  2.170026e+08  3.237658e+08  3.237658e+08  3.237658e+08   \n",
      "30  2.228806e+05  1.220806e+05  1.220806e+05  1.220806e+05  1.220806e+05   \n",
      "31  3.413936e+06  3.413936e+06  2.823097e+06  2.098001e+06  4.858550e+06   \n",
      "32  3.957445e+07  3.807291e+07  3.807291e+07  3.807291e+07  3.957445e+07   \n",
      "33  4.550323e+06  4.100323e+06  9.998741e+06  5.968935e+06  7.445775e+06   \n",
      "34  0.000000e+00  0.000000e+00  0.000000e+00  0.000000e+00  0.000000e+00   \n",
      "35  2.713979e+07  3.694109e+07  3.150135e+07  2.713979e+07  3.150135e+07   \n",
      "36  1.676418e+08  1.676418e+08  1.676418e+08  1.497015e+08  1.497015e+08   \n",
      "37  1.021775e+06  1.562400e+06  6.840000e+05  1.184710e+06  1.562400e+06   \n",
      "38  7.717256e+06  7.445775e+06  7.445775e+06  7.717256e+06  7.445775e+06   \n",
      "39  0.000000e+00  0.000000e+00  0.000000e+00  0.000000e+00  0.000000e+00   \n",
      "40  4.634594e+05  5.267826e+05  5.267826e+05  5.785742e+05  5.785742e+05   \n",
      "41  3.237658e+08  1.875354e+08  1.875354e+08  1.875354e+08  1.875354e+08   \n",
      "42  0.000000e+00  0.000000e+00  0.000000e+00  0.000000e+00  0.000000e+00   \n",
      "43  7.445775e+06  2.118735e+07  1.182429e+07  2.118735e+07  1.846209e+07   \n",
      "44  5.421290e+06  5.968935e+06  5.968935e+06  7.445775e+06  5.968935e+06   \n",
      "45  1.182429e+07  9.998741e+06  1.640847e+07  1.182429e+07  1.182429e+07   \n",
      "46  2.098001e+06  1.184710e+06  1.184710e+06  5.785742e+05  5.785742e+05   \n",
      "47  1.640847e+07  9.998741e+06  4.550323e+06  3.413936e+06  3.413936e+06   \n",
      "48  2.576639e+07  2.828058e+07  2.828058e+07  3.150135e+07  3.807291e+07   \n",
      "49  1.220806e+05  1.220806e+05  1.382574e+05  1.382574e+05  1.220806e+05   \n",
      "50  1.184710e+06  2.098001e+06  1.562400e+06  1.562400e+06  1.184710e+06   \n",
      "51  1.846209e+07  1.640847e+07  1.846209e+07  1.640847e+07  1.640847e+07   \n",
      "52  1.497015e+08  1.497015e+08  1.497015e+08  1.676418e+08  1.676418e+08   \n",
      "53  2.335381e+07  3.150135e+07  3.694109e+07  3.694109e+07  3.694109e+07   \n",
      "54  0.000000e+00  0.000000e+00  0.000000e+00  0.000000e+00  0.000000e+00   \n",
      "\n",
      "         1995/96       1996/97       1997/98       1998/99       1999/00  ...  \\\n",
      "0   1.184710e+06  4.100323e+06  5.421290e+06  4.550323e+06  3.413936e+06  ...   \n",
      "1   5.421290e+06  5.421290e+06  4.858550e+06  5.421290e+06  5.421290e+06  ...   \n",
      "2   1.795142e+09  1.795142e+09  1.795142e+09  1.795142e+09  1.795142e+09  ...   \n",
      "3   2.875800e+05  2.875800e+05  2.228806e+05  2.228806e+05  2.228806e+05  ...   \n",
      "4   4.173223e+07  3.807291e+07  3.694109e+07  3.694109e+07  3.694109e+07  ...   \n",
      "5   2.867110e+08  2.867110e+08  2.867110e+08  2.867110e+08  2.867110e+08  ...   \n",
      "6   2.441637e+07  2.335381e+07  2.441637e+07  2.441637e+07  1.182429e+07  ...   \n",
      "7   2.875800e+05  2.875800e+05  2.228806e+05  2.228806e+05  1.382574e+05  ...   \n",
      "8   2.875800e+05  2.875800e+05  2.228806e+05  1.382574e+05  2.228806e+05  ...   \n",
      "9   4.100323e+06  4.100323e+06  3.413936e+06  4.100323e+06  3.413936e+06  ...   \n",
      "10  2.713979e+07  2.713979e+07  2.828058e+07  2.713979e+07  2.713979e+07  ...   \n",
      "11  1.983948e+05  1.382574e+05  4.634594e+05  4.634594e+05  2.228806e+05  ...   \n",
      "12  0.000000e+00  0.000000e+00  0.000000e+00  0.000000e+00  0.000000e+00  ...   \n",
      "13  6.840000e+05  6.840000e+05  6.840000e+05  5.785742e+05  5.785742e+05  ...   \n",
      "14  5.267826e+05  5.267826e+05  4.634594e+05  4.634594e+05  5.267826e+05  ...   \n",
      "15  2.576639e+07  2.576639e+07  2.713979e+07  2.713979e+07  2.713979e+07  ...   \n",
      "16  4.173223e+07  4.173223e+07  4.173223e+07  3.957445e+07  3.957445e+07  ...   \n",
      "17  3.957445e+07  4.444115e+07  4.444115e+07  4.173223e+07  4.173223e+07  ...   \n",
      "18  1.323499e+08  1.323499e+08  1.497015e+08  1.323499e+08  1.323499e+08  ...   \n",
      "19  2.098001e+06  2.823097e+06  2.823097e+06  2.823097e+06  2.098001e+06  ...   \n",
      "20  1.220806e+05  1.382574e+05  1.220806e+05  9.864387e+04  9.864387e+04  ...   \n",
      "21  1.846209e+07  2.118735e+07  1.640847e+07  1.640847e+07  1.846209e+07  ...   \n",
      "22  1.184710e+06  1.562400e+06  1.562400e+06  3.413936e+06  4.550323e+06  ...   \n",
      "23  2.170026e+08  2.170026e+08  2.170026e+08  2.170026e+08  2.170026e+08  ...   \n",
      "24  8.084611e+07  1.117172e+08  8.084611e+07  8.084611e+07  8.084611e+07  ...   \n",
      "25  7.445775e+06  7.445775e+06  7.445775e+06  7.445775e+06  7.445775e+06  ...   \n",
      "26  2.713979e+07  2.713979e+07  2.828058e+07  2.713979e+07  2.713979e+07  ...   \n",
      "27  3.150135e+07  3.150135e+07  2.576639e+07  2.576639e+07  2.441637e+07  ...   \n",
      "28  0.000000e+00  0.000000e+00  0.000000e+00  0.000000e+00  0.000000e+00  ...   \n",
      "29  3.237658e+08  3.237658e+08  3.237658e+08  3.237658e+08  3.237658e+08  ...   \n",
      "30  1.382574e+05  1.220806e+05  1.382574e+05  1.220806e+05  1.220806e+05  ...   \n",
      "31  4.858550e+06  5.267826e+05  4.634594e+05  1.382574e+05  1.382574e+05  ...   \n",
      "32  3.807291e+07  3.807291e+07  3.694109e+07  3.694109e+07  3.807291e+07  ...   \n",
      "33  7.445775e+06  7.445775e+06  7.445775e+06  7.445775e+06  7.445775e+06  ...   \n",
      "34  0.000000e+00  0.000000e+00  0.000000e+00  6.840000e+05  6.840000e+05  ...   \n",
      "35  2.335381e+07  2.441637e+07  2.335381e+07  2.335381e+07  2.576639e+07  ...   \n",
      "36  1.497015e+08  1.497015e+08  1.323499e+08  1.497015e+08  1.497015e+08  ...   \n",
      "37  3.413936e+06  3.413936e+06  3.413936e+06  2.098001e+06  1.562400e+06  ...   \n",
      "38  7.445775e+06  7.445775e+06  7.445775e+06  7.445775e+06  7.445775e+06  ...   \n",
      "39  0.000000e+00  0.000000e+00  0.000000e+00  0.000000e+00  0.000000e+00  ...   \n",
      "40  5.785742e+05  1.021775e+06  1.021775e+06  1.021775e+06  1.021775e+06  ...   \n",
      "41  1.875354e+08  1.875354e+08  1.875354e+08  1.875354e+08  1.875354e+08  ...   \n",
      "42  0.000000e+00  0.000000e+00  0.000000e+00  0.000000e+00  0.000000e+00  ...   \n",
      "43  2.118735e+07  1.846209e+07  2.118735e+07  2.118735e+07  2.335381e+07  ...   \n",
      "44  5.968935e+06  5.968935e+06  5.421290e+06  5.968935e+06  5.968935e+06  ...   \n",
      "45  1.182429e+07  1.182429e+07  1.182429e+07  1.182429e+07  1.640847e+07  ...   \n",
      "46  1.021775e+06  1.184710e+06  1.021775e+06  1.021775e+06  1.021775e+06  ...   \n",
      "47  4.100323e+06  4.100323e+06  3.413936e+06  4.550323e+06  4.858550e+06  ...   \n",
      "48  1.117172e+08  8.084611e+07  1.117172e+08  1.117172e+08  1.117172e+08  ...   \n",
      "49  1.983948e+05  1.382574e+05  1.983948e+05  2.228806e+05  2.228806e+05  ...   \n",
      "50  2.823097e+06  2.098001e+06  2.098001e+06  1.562400e+06  2.098001e+06  ...   \n",
      "51  1.640847e+07  1.640847e+07  1.846209e+07  1.846209e+07  2.118735e+07  ...   \n",
      "52  1.676418e+08  1.676418e+08  1.676418e+08  1.676418e+08  1.676418e+08  ...   \n",
      "53  3.694109e+07  3.694109e+07  3.957445e+07  4.444115e+07  4.444115e+07  ...   \n",
      "54  0.000000e+00  0.000000e+00  0.000000e+00  0.000000e+00  0.000000e+00  ...   \n",
      "\n",
      "         2011/12       2012/13       2013/14       2014/15       2015/16  \\\n",
      "0   2.823097e+06  2.823097e+06  2.823097e+06  2.823097e+06  2.823097e+06   \n",
      "1   4.550323e+06  5.421290e+06  4.858550e+06  4.858550e+06  4.858550e+06   \n",
      "2   1.795142e+09  1.795142e+09  1.795142e+09  1.795142e+09  1.795142e+09   \n",
      "3   2.228806e+05  2.228806e+05  1.983948e+05  2.228806e+05  2.228806e+05   \n",
      "4   1.182429e+07  1.182429e+07  1.640847e+07  1.640847e+07  1.640847e+07   \n",
      "5   3.237658e+08  3.237658e+08  3.237658e+08  3.237658e+08  3.237658e+08   \n",
      "6   4.444115e+07  4.444115e+07  4.444115e+07  4.444115e+07  3.807291e+07   \n",
      "7   9.864387e+04  1.220806e+05  1.220806e+05  1.220806e+05  1.220806e+05   \n",
      "8   1.983948e+05  1.983948e+05  2.875800e+05  1.983948e+05  1.983948e+05   \n",
      "9   2.098001e+06  2.098001e+06  1.562400e+06  1.562400e+06  1.562400e+06   \n",
      "10  2.576639e+07  2.576639e+07  2.576639e+07  2.576639e+07  2.576639e+07   \n",
      "11  9.864387e+04  1.220806e+05  1.220806e+05  1.220806e+05  1.220806e+05   \n",
      "12  5.566258e+04  5.566258e+04  5.566258e+04  5.566258e+04  5.566258e+04   \n",
      "13  4.634594e+05  4.634594e+05  4.634594e+05  4.634594e+05  4.634594e+05   \n",
      "14  4.263213e+05  4.263213e+05  4.263213e+05  4.263213e+05  4.263213e+05   \n",
      "15  2.441637e+07  2.441637e+07  2.335381e+07  2.335381e+07  2.335381e+07   \n",
      "16  3.957445e+07  3.957445e+07  4.173223e+07  4.173223e+07  3.957445e+07   \n",
      "17  3.150135e+07  3.150135e+07  3.694109e+07  3.150135e+07  3.150135e+07   \n",
      "18  1.875354e+08  1.875354e+08  2.170026e+08  2.170026e+08  2.170026e+08   \n",
      "19  5.968935e+06  7.445775e+06  7.445775e+06  7.717256e+06  7.717256e+06   \n",
      "20  0.000000e+00  0.000000e+00  0.000000e+00  0.000000e+00  0.000000e+00   \n",
      "21  7.717256e+06  7.717256e+06  7.717256e+06  7.445775e+06  7.445775e+06   \n",
      "22  1.562400e+06  1.562400e+06  1.562400e+06  1.562400e+06  1.562400e+06   \n",
      "23  1.323499e+08  1.323499e+08  1.323499e+08  1.497015e+08  1.497015e+08   \n",
      "24  4.173223e+07  4.173223e+07  3.150135e+07  3.957445e+07  4.444115e+07   \n",
      "25  2.828058e+07  2.828058e+07  2.828058e+07  2.828058e+07  2.828058e+07   \n",
      "26  1.846209e+07  1.846209e+07  1.846209e+07  1.846209e+07  1.846209e+07   \n",
      "27  2.713979e+07  2.713979e+07  2.713979e+07  2.713979e+07  2.713979e+07   \n",
      "28  0.000000e+00  0.000000e+00  0.000000e+00  0.000000e+00  0.000000e+00   \n",
      "29  2.867110e+08  2.867110e+08  2.867110e+08  2.867110e+08  2.867110e+08   \n",
      "30  1.382574e+05  9.864387e+04  9.864387e+04  9.864387e+04  9.864387e+04   \n",
      "31  2.228806e+05  2.228806e+05  1.983948e+05  2.228806e+05  2.228806e+05   \n",
      "32  3.807291e+07  3.807291e+07  3.957445e+07  3.807291e+07  4.173223e+07   \n",
      "33  4.858550e+06  4.550323e+06  4.550323e+06  4.550323e+06  4.550323e+06   \n",
      "34  6.840000e+05  6.840000e+05  6.840000e+05  6.840000e+05  6.840000e+05   \n",
      "35  3.150135e+07  3.694109e+07  3.807291e+07  3.694109e+07  3.694109e+07   \n",
      "36  1.117172e+08  1.117172e+08  1.117172e+08  1.117172e+08  1.117172e+08   \n",
      "37  1.021775e+06  1.021775e+06  1.021775e+06  1.021775e+06  6.840000e+05   \n",
      "38  4.858550e+06  4.550323e+06  5.421290e+06  5.421290e+06  5.421290e+06   \n",
      "39  1.182429e+07  1.182429e+07  1.182429e+07  1.182429e+07  1.182429e+07   \n",
      "40  5.267826e+05  5.267826e+05  5.267826e+05  5.267826e+05  5.267826e+05   \n",
      "41  2.170026e+08  2.170026e+08  1.875354e+08  1.875354e+08  1.875354e+08   \n",
      "42  0.000000e+00  0.000000e+00  0.000000e+00  0.000000e+00  0.000000e+00   \n",
      "43  2.118735e+07  2.118735e+07  2.118735e+07  2.118735e+07  2.118735e+07   \n",
      "44  4.100323e+06  4.100323e+06  4.100323e+06  4.100323e+06  4.100323e+06   \n",
      "45  7.445775e+06  5.968935e+06  5.968935e+06  5.968935e+06  5.968935e+06   \n",
      "46  5.267826e+05  5.267826e+05  5.267826e+05  5.267826e+05  5.267826e+05   \n",
      "47  3.413936e+06  3.413936e+06  3.413936e+06  3.413936e+06  3.413936e+06   \n",
      "48  8.084611e+07  8.084611e+07  8.084611e+07  8.084611e+07  8.084611e+07   \n",
      "49  4.049806e+04  4.049806e+04  4.049806e+04  4.049806e+04  4.049806e+04   \n",
      "50  1.184710e+06  1.184710e+06  1.184710e+06  1.184710e+06  1.184710e+06   \n",
      "51  2.335381e+07  2.335381e+07  2.441637e+07  2.441637e+07  2.441637e+07   \n",
      "52  1.497015e+08  1.497015e+08  1.497015e+08  1.323499e+08  1.323499e+08   \n",
      "53  1.497015e+08  1.676418e+08  1.676418e+08  1.676418e+08  1.676418e+08   \n",
      "54  9.998741e+06  9.998741e+06  9.998741e+06  9.998741e+06  9.998741e+06   \n",
      "\n",
      "         2016/17       2017/18       2018/19       2019/20  \\\n",
      "0   2.823097e+06  2.823097e+06  2.823097e+06  2.823097e+06   \n",
      "1   4.858550e+06  4.858550e+06  4.858550e+06  4.858550e+06   \n",
      "2   1.795142e+09  1.795142e+09  1.795142e+09  1.795142e+09   \n",
      "3   1.983948e+05  1.983948e+05  1.983948e+05  1.983948e+05   \n",
      "4   1.640847e+07  1.182429e+07  1.182429e+07  1.182429e+07   \n",
      "5   3.237658e+08  3.237658e+08  3.237658e+08  3.237658e+08   \n",
      "6   3.807291e+07  3.807291e+07  3.807291e+07  3.957445e+07   \n",
      "7   1.220806e+05  1.220806e+05  1.220806e+05  1.220806e+05   \n",
      "8   1.983948e+05  1.983948e+05  1.983948e+05  1.983948e+05   \n",
      "9   1.562400e+06  1.562400e+06  1.562400e+06  1.562400e+06   \n",
      "10  2.576639e+07  2.576639e+07  2.441637e+07  2.441637e+07   \n",
      "11  1.220806e+05  1.220806e+05  1.220806e+05  1.220806e+05   \n",
      "12  5.566258e+04  5.566258e+04  5.566258e+04  5.566258e+04   \n",
      "13  4.634594e+05  4.634594e+05  4.634594e+05  4.634594e+05   \n",
      "14  4.263213e+05  4.263213e+05  4.263213e+05  4.263213e+05   \n",
      "15  2.335381e+07  2.335381e+07  2.118735e+07  2.335381e+07   \n",
      "16  4.173223e+07  4.173223e+07  4.173223e+07  4.173223e+07   \n",
      "17  3.694109e+07  3.150135e+07  3.150135e+07  3.150135e+07   \n",
      "18  2.170026e+08  2.170026e+08  2.170026e+08  2.170026e+08   \n",
      "19  7.717256e+06  9.998741e+06  9.998741e+06  9.998741e+06   \n",
      "20  0.000000e+00  0.000000e+00  0.000000e+00  0.000000e+00   \n",
      "21  7.445775e+06  7.445775e+06  7.717256e+06  7.717256e+06   \n",
      "22  1.562400e+06  1.562400e+06  1.562400e+06  1.562400e+06   \n",
      "23  1.497015e+08  1.497015e+08  1.497015e+08  1.497015e+08   \n",
      "24  3.150135e+07  3.694109e+07  3.694109e+07  3.807291e+07   \n",
      "25  2.828058e+07  2.828058e+07  2.828058e+07  2.828058e+07   \n",
      "26  1.846209e+07  1.846209e+07  1.846209e+07  1.846209e+07   \n",
      "27  2.713979e+07  2.713979e+07  2.713979e+07  2.713979e+07   \n",
      "28  0.000000e+00  0.000000e+00  0.000000e+00  0.000000e+00   \n",
      "29  2.867110e+08  2.867110e+08  2.867110e+08  2.867110e+08   \n",
      "30  9.864387e+04  9.864387e+04  9.864387e+04  9.864387e+04   \n",
      "31  1.983948e+05  1.983948e+05  1.983948e+05  1.983948e+05   \n",
      "32  4.173223e+07  4.444115e+07  4.444115e+07  4.444115e+07   \n",
      "33  4.550323e+06  4.550323e+06  4.550323e+06  4.550323e+06   \n",
      "34  6.840000e+05  6.840000e+05  6.840000e+05  6.840000e+05   \n",
      "35  3.957445e+07  3.957445e+07  3.807291e+07  3.694109e+07   \n",
      "36  1.117172e+08  1.117172e+08  1.117172e+08  1.323499e+08   \n",
      "37  6.840000e+05  6.840000e+05  6.840000e+05  6.840000e+05   \n",
      "38  5.421290e+06  5.421290e+06  7.445775e+06  7.445775e+06   \n",
      "39  1.182429e+07  1.182429e+07  1.182429e+07  1.640847e+07   \n",
      "40  5.267826e+05  5.267826e+05  5.267826e+05  5.267826e+05   \n",
      "41  1.676418e+08  1.676418e+08  1.676418e+08  1.676418e+08   \n",
      "42  0.000000e+00  0.000000e+00  0.000000e+00  0.000000e+00   \n",
      "43  2.118735e+07  2.118735e+07  2.118735e+07  2.118735e+07   \n",
      "44  4.100323e+06  4.100323e+06  4.100323e+06  4.100323e+06   \n",
      "45  5.968935e+06  5.968935e+06  5.968935e+06  5.968935e+06   \n",
      "46  5.267826e+05  5.267826e+05  5.267826e+05  5.267826e+05   \n",
      "47  3.413936e+06  3.413936e+06  3.413936e+06  3.413936e+06   \n",
      "48  8.084611e+07  8.084611e+07  8.084611e+07  1.117172e+08   \n",
      "49  4.049806e+04  4.049806e+04  4.049806e+04  4.049806e+04   \n",
      "50  1.184710e+06  1.184710e+06  1.184710e+06  1.184710e+06   \n",
      "51  2.441637e+07  2.441637e+07  2.441637e+07  2.576639e+07   \n",
      "52  1.323499e+08  1.323499e+08  1.323499e+08  8.084611e+07   \n",
      "53  1.875354e+08  1.875354e+08  1.875354e+08  1.875354e+08   \n",
      "54  9.998741e+06  7.717256e+06  5.421290e+06  5.421290e+06   \n",
      "\n",
      "    Total_domestic_consumption  \n",
      "0                 2.823097e+06  \n",
      "1                 4.550323e+06  \n",
      "2                 1.795142e+09  \n",
      "3                 1.983948e+05  \n",
      "4                 2.335381e+07  \n",
      "5                 3.237658e+08  \n",
      "6                 3.694109e+07  \n",
      "7                 1.382574e+05  \n",
      "8                 2.228806e+05  \n",
      "9                 2.098001e+06  \n",
      "10                2.576639e+07  \n",
      "11                9.864387e+04  \n",
      "12                9.483871e+03  \n",
      "13                4.263213e+05  \n",
      "14                2.875800e+05  \n",
      "15                2.441637e+07  \n",
      "16                4.173223e+07  \n",
      "17                3.957445e+07  \n",
      "18                1.875354e+08  \n",
      "19                4.858550e+06  \n",
      "20                4.049806e+04  \n",
      "21                9.998741e+06  \n",
      "22                1.562400e+06  \n",
      "23                1.676418e+08  \n",
      "24                4.444115e+07  \n",
      "25                2.713979e+07  \n",
      "26                2.118735e+07  \n",
      "27                2.828058e+07  \n",
      "28                0.000000e+00  \n",
      "29                2.867110e+08  \n",
      "30                5.566258e+04  \n",
      "31                5.785742e+05  \n",
      "32                3.807291e+07  \n",
      "33                5.421290e+06  \n",
      "34                5.267826e+05  \n",
      "35                3.150135e+07  \n",
      "36                1.323499e+08  \n",
      "37                1.021775e+06  \n",
      "38                5.968935e+06  \n",
      "39                1.182429e+07  \n",
      "40                4.634594e+05  \n",
      "41                2.170026e+08  \n",
      "42                0.000000e+00  \n",
      "43                1.846209e+07  \n",
      "44                4.100323e+06  \n",
      "45                7.717256e+06  \n",
      "46                6.840000e+05  \n",
      "47                3.413936e+06  \n",
      "48                8.084611e+07  \n",
      "49                1.220806e+05  \n",
      "50                1.184710e+06  \n",
      "51                1.640847e+07  \n",
      "52                1.497015e+08  \n",
      "53                1.117172e+08  \n",
      "54                7.445775e+06  \n",
      "\n",
      "[55 rows x 31 columns]\n"
     ]
    },
    {
     "data": {
      "text/plain": [
       "<AxesSubplot:>"
      ]
     },
     "execution_count": 17,
     "metadata": {},
     "output_type": "execute_result"
    },
    {
     "data": {
      "image/png": "[encoded data removed]",
      "text/plain": [
       "<Figure size 640x480 with 1 Axes>"
      ]
     },
     "metadata": {},
     "output_type": "display_data"
    }
   ],
   "source": [
    "def quantile_norm(df_input):\n",
    "    sorted_df = pd.DataFrame(np.sort(df_input.values,axis=0), index=df_input.index, columns=df_input.columns)\n",
    "    mean_df = sorted_df.mean(axis=1)\n",
    "    mean_df.index = np.arange(1, len(mean_df) + 1)\n",
    "    quantile_df =df_input.rank(method=\"min\").stack().astype(int).map(mean_df).unstack()\n",
    "    return(quantile_df)\n",
    "\n",
    "df_quantile_norm = quantile_norm(df_withoutC)\n",
    "\n",
    "print(df_quantile_norm)\n",
    "\n",
    "df_quantile_norm['1990/91'].plot(kind='bar')"
   ]
  },
  {
   "attachments": {},
   "cell_type": "markdown",
   "metadata": {},
   "source": [
    "### Coffee Type"
   ]
  },
  {
   "cell_type": "code",
   "execution_count": 5,
   "metadata": {},
   "outputs": [
    {
     "name": "stdout",
     "output_type": "stream",
     "text": [
      "Arabica            22\n",
      "Robusta            15\n",
      "Robusta/Arabica    10\n",
      "Arabica/Robusta     8\n",
      "Name: Coffee type, dtype: int64\n"
     ]
    },
    {
     "data": {
      "image/png": "[encoded data removed]",
      "text/plain": [
       "<Figure size 640x480 with 1 Axes>"
      ]
     },
     "metadata": {},
     "output_type": "display_data"
    }
   ],
   "source": [
    "val_coffee_type = df[\"Coffee type\"].value_counts()\n",
    "print(val_coffee_type)\n",
    "type(val_coffee_type)\n",
    "\n",
    "\n",
    "coffee_type = val_coffee_type.to_frame()\n",
    "type(coffee_type)\n",
    "\n",
    "# PANDAS\n",
    "ax = coffee_type.plot.bar(rot=0)"
   ]
  },
  {
   "cell_type": "code",
   "execution_count": 6,
   "metadata": {},
   "outputs": [
    {
     "name": "stdout",
     "output_type": "stream",
     "text": [
      "['Arabica', 'Robusta', 'Robusta/Arabica', 'Arabica/Robusta']\n",
      "[22, 15, 10, 8]\n"
     ]
    },
    {
     "data": {
      "image/png": "[encoded data removed]",
      "text/plain": [
       "<Figure size 640x480 with 1 Axes>"
      ]
     },
     "metadata": {},
     "output_type": "display_data"
    }
   ],
   "source": [
    "# MATPLOTLIB\n",
    "\n",
    "types = list(val_coffee_type.keys())\n",
    "print(types)\n",
    "values = list(val_coffee_type)\n",
    "print(values)\n",
    "\n",
    "\n",
    "plt.bar(types,values,color ='brown', width = 0.75)\n",
    "\n",
    "plt.xlabel(\"Coffee Type\")\n",
    "plt.ylabel(\"Frequency\")\n",
    "plt.title(\"Types of coffee used by Countries\")\n",
    "plt.show()"
   ]
  },
  {
   "attachments": {},
   "cell_type": "markdown",
   "metadata": {},
   "source": [
    "### 10 countries with the maximum Total Dosmetic Consumption "
   ]
  },
  {
   "cell_type": "code",
   "execution_count": 12,
   "metadata": {},
   "outputs": [
    {
     "name": "stdout",
     "output_type": "stream",
     "text": [
      "[27824700000, 4920480000, 4536540000, 3189660000, 2807280000, 2536776384, 2386067999, 2093460000, 1920928320, 1248600000, 665335200, 642823380, 600600000, 590880000, 588705960, 471850680, 417242040, 410260140, 402000000, 384006000, 381540000, 359880000, 299700300, 284816400, 157980000, 143450940, 122916960, 121620000, 95190000, 86730000, 76425060, 75180000, 70740000, 58300020, 46500000, 35100000, 24794400, 21090000, 18688020, 10080000, 9970800, 9203040, 8640000, 8595960, 5360040, 3608400, 3412020, 2340000, 2167620, 2139960, 1123140, 991920, 294000, 0, 0]\n"
     ]
    },
    {
     "name": "stderr",
     "output_type": "stream",
     "text": [
      "/tmp/ipykernel_11641/1512029238.py:36: MatplotlibDeprecationWarning: The 'b' parameter of grid() has been renamed 'visible' since Matplotlib 3.5; support for the old name will be dropped two minor releases later.\n",
      "  ax.grid(b = True, color ='black', linestyle ='-.', linewidth = 0.75, alpha = 0.2)\n"
     ]
    },
    {
     "data": {
      "image/png": "[encoded data removed]",
      "text/plain": [
       "<Figure size 1800x900 with 1 Axes>"
      ]
     },
     "metadata": {},
     "output_type": "display_data"
    }
   ],
   "source": [
    "sort_consump =sorted(df['Total_domestic_consumption'], reverse=True)\n",
    "print(sort_consump)\n",
    "\n",
    "\n",
    "max_country_coffee = df[(df['Total_domestic_consumption']>=1248600000)]\n",
    "max_country_coffee\n",
    "\n",
    "\n",
    "max10_values_coffee = max_country_coffee['Total_domestic_consumption']\n",
    "max10_values_coffee\n",
    "\n",
    "max10_country_coffee = max_country_coffee['Country']\n",
    "max10_country_coffee\n",
    "\n",
    "\n",
    "# PLOT\n",
    "# Fig Size\n",
    "fig, ax = plt.subplots(figsize =(18, 9))\n",
    "\n",
    "# Horizontal  Bar Plot\n",
    "plt.barh(max10_country_coffee,max10_values_coffee,color =('C0','C1','C2','C3','C4','C5','C6','C7','C8','C9'))\n",
    "\n",
    "# Remove axes splines\n",
    "for s in ['top', 'bottom', 'left', 'right']:\n",
    "    ax.spines[s].set_visible(False)\n",
    "\n",
    "# Remove x, y Ticks\n",
    "ax.xaxis.set_ticks_position('none')\n",
    "ax.yaxis.set_ticks_position('none')\n",
    "\n",
    "# Add padding between axes and labels\n",
    "ax.xaxis.set_tick_params(pad = 5)\n",
    "ax.yaxis.set_tick_params(pad = 10)\n",
    "\n",
    "# Add x, y gridlines\n",
    "ax.grid(b = True, color ='black', linestyle ='-.', linewidth = 0.75, alpha = 0.2)\n",
    "\n",
    "# Show top values\n",
    "ax.invert_yaxis()\n",
    "\n",
    "# Add annotation to bars\n",
    "for i in ax.patches:\n",
    "    plt.text(i.get_width()+0.2, i.get_y()+0.5, str(round((i.get_width()), 2)),fontsize = 10, fontweight ='bold',color ='grey')\n",
    "\n",
    "# Add Plot Title\n",
    "plt.ylabel(\"Countries\")\n",
    "plt.xlabel(\"Total Domestic Consumption\")\n",
    "plt.title(\"10 Countries with the maximum Total Domestic consumption\")\n",
    "\n",
    "# Add Text watermark\n",
    "fig.text(0.9, 0.15, 'joshoandres13', fontsize = 12,\n",
    "         color ='grey', ha ='right', va ='bottom',\n",
    "         alpha = 0.7)\n",
    " \n",
    "# Show Plot\n",
    "plt.show()\n"
   ]
  },
  {
   "attachments": {},
   "cell_type": "markdown",
   "metadata": {},
   "source": [
    "### 12 countries with the minimal Total Dosmetic Consumption "
   ]
  },
  {
   "cell_type": "code",
   "execution_count": 10,
   "metadata": {},
   "outputs": [
    {
     "name": "stderr",
     "output_type": "stream",
     "text": [
      "/tmp/ipykernel_10108/2707587033.py:33: MatplotlibDeprecationWarning: The 'b' parameter of grid() has been renamed 'visible' since Matplotlib 3.5; support for the old name will be dropped two minor releases later.\n",
      "  ax.grid(b = True, color ='black', linestyle ='-.', linewidth = 0.75, alpha = 0.2)\n"
     ]
    },
    {
     "data": {
      "image/png": "[encoded data removed]",
      "text/plain": [
       "<Figure size 1800x900 with 1 Axes>"
      ]
     },
     "metadata": {},
     "output_type": "display_data"
    }
   ],
   "source": [
    "min_country_coffee = df[(df['Total_domestic_consumption']<=8595960)]\n",
    "min_country_coffee\n",
    "\n",
    "\n",
    "min10_values_coffee = min_country_coffee['Total_domestic_consumption']\n",
    "min10_values_coffee\n",
    "\n",
    "min10_country_coffee = min_country_coffee['Country']\n",
    "min10_country_coffee\n",
    "\n",
    "# PLOT\n",
    "# Fig Size\n",
    "fig, ax = plt.subplots(figsize =(18, 9))\n",
    "\n",
    "# Horizontal  Bar Plot\n",
    "plt.barh(min10_country_coffee,min10_values_coffee,color =('C0','C1','C2','C3','C4','C5','C6','C7','C8','C9'))\n",
    "\n",
    "# Remove axes splines\n",
    "for s in ['top', 'bottom', 'left', 'right']:\n",
    "    ax.spines[s].set_visible(False)\n",
    "\n",
    "# Remove x, y Ticks\n",
    "ax.xaxis.set_ticks_position('none')\n",
    "ax.yaxis.set_ticks_position('none')\n",
    "\n",
    "# Add padding between axes and labels\n",
    "ax.xaxis.set_tick_params(pad = 5)\n",
    "ax.yaxis.set_tick_params(pad = 10)\n",
    "\n",
    "# Add x, y gridlines\n",
    "ax.grid(b = True, color ='black', linestyle ='-.', linewidth = 0.75, alpha = 0.2)\n",
    "\n",
    "# Show top values\n",
    "ax.invert_yaxis()\n",
    "\n",
    "# Add annotation to bars\n",
    "for i in ax.patches:\n",
    "    plt.text(i.get_width()+0.2, i.get_y()+0.5, str(round((i.get_width()), 2)),fontsize = 10, fontweight ='bold',color ='grey')\n",
    "\n",
    "# Add Plot Title\n",
    "plt.ylabel(\"Countries\")\n",
    "plt.xlabel(\"Total Domestic Consumption\")\n",
    "plt.title(\"12 Countries with the minimal Total Domestic consumption\")\n",
    "\n",
    "# Add Text watermark\n",
    "fig.text(0.9, 0.15, 'joshoandres13', fontsize = 12,\n",
    "         color ='grey', ha ='right', va ='bottom',\n",
    "         alpha = 0.7)\n",
    " \n",
    "# Show Plot\n",
    "plt.show()"
   ]
  },
  {
   "cell_type": "code",
   "execution_count": 6,
   "metadata": {},
   "outputs": [],
   "source": [
    "def transpose_dataframe(df,sort_value_by_criteria, additional_columns=None):\n",
    "    df_top10 = df.sort_values(by=[sort_value_by_criteria], ascending=False).head(10)\n",
    "    transpose_df_top10 = df_top10.T\n",
    "    transpose_df_top10.drop([\"Country\",sort_value_by_criteria],inplace=True, axis=0) #implace edita el archivo actual no genera copia\n",
    "    if not additional_columns is None:\n",
    "         transpose_df_top10.drop([additional_columns],inplace=True, axis=0)\n",
    "    transpose_df_top10.columns = df_top10['Country'].values\n",
    "    transpose_df_top10.head(2)\n",
    "    return transpose_df_top10"
   ]
  },
  {
   "cell_type": "code",
   "execution_count": 7,
   "metadata": {},
   "outputs": [
    {
     "data": {
      "text/html": [
       "<div>\n",
       "<style scoped>\n",
       "    .dataframe tbody tr th:only-of-type {\n",
       "        vertical-align: middle;\n",
       "    }\n",
       "\n",
       "    .dataframe tbody tr th {\n",
       "        vertical-align: top;\n",
       "    }\n",
       "\n",
       "    .dataframe thead th {\n",
       "        text-align: right;\n",
       "    }\n",
       "</style>\n",
       "<table border=\"1\" class=\"dataframe\">\n",
       "  <thead>\n",
       "    <tr style=\"text-align: right;\">\n",
       "      <th></th>\n",
       "      <th>Brazil</th>\n",
       "      <th>Indonesia</th>\n",
       "      <th>Ethiopia</th>\n",
       "      <th>Mexico</th>\n",
       "      <th>Philippines</th>\n",
       "      <th>Colombia</th>\n",
       "      <th>Venezuela</th>\n",
       "      <th>India</th>\n",
       "      <th>Viet Nam</th>\n",
       "      <th>Thailand</th>\n",
       "    </tr>\n",
       "  </thead>\n",
       "  <tbody>\n",
       "    <tr>\n",
       "      <th>1990/91</th>\n",
       "      <td>492000000</td>\n",
       "      <td>74520000</td>\n",
       "      <td>72000000</td>\n",
       "      <td>82440000</td>\n",
       "      <td>43200000</td>\n",
       "      <td>74100000</td>\n",
       "      <td>46943400</td>\n",
       "      <td>54180000</td>\n",
       "      <td>9000000</td>\n",
       "      <td>11280000</td>\n",
       "    </tr>\n",
       "    <tr>\n",
       "      <th>1991/92</th>\n",
       "      <td>510000000</td>\n",
       "      <td>76800000</td>\n",
       "      <td>75840000</td>\n",
       "      <td>72000000</td>\n",
       "      <td>45000000</td>\n",
       "      <td>76140000</td>\n",
       "      <td>48928800</td>\n",
       "      <td>55000020</td>\n",
       "      <td>13800000</td>\n",
       "      <td>13200000</td>\n",
       "    </tr>\n",
       "    <tr>\n",
       "      <th>1992/93</th>\n",
       "      <td>534000000</td>\n",
       "      <td>79140000</td>\n",
       "      <td>79860000</td>\n",
       "      <td>78000000</td>\n",
       "      <td>45000000</td>\n",
       "      <td>78180000</td>\n",
       "      <td>50998200</td>\n",
       "      <td>55020000</td>\n",
       "      <td>15000000</td>\n",
       "      <td>13980000</td>\n",
       "    </tr>\n",
       "    <tr>\n",
       "      <th>1993/94</th>\n",
       "      <td>546000000</td>\n",
       "      <td>81540000</td>\n",
       "      <td>84120000</td>\n",
       "      <td>64200000</td>\n",
       "      <td>46200000</td>\n",
       "      <td>80340000</td>\n",
       "      <td>53155800</td>\n",
       "      <td>49999980</td>\n",
       "      <td>16020000</td>\n",
       "      <td>15000000</td>\n",
       "    </tr>\n",
       "    <tr>\n",
       "      <th>1994/95</th>\n",
       "      <td>558000000</td>\n",
       "      <td>84000000</td>\n",
       "      <td>88560000</td>\n",
       "      <td>61200000</td>\n",
       "      <td>47400000</td>\n",
       "      <td>82500000</td>\n",
       "      <td>55404000</td>\n",
       "      <td>50100000</td>\n",
       "      <td>16020000</td>\n",
       "      <td>16980000</td>\n",
       "    </tr>\n",
       "    <tr>\n",
       "      <th>1995/96</th>\n",
       "      <td>606000000</td>\n",
       "      <td>86580000</td>\n",
       "      <td>93300000</td>\n",
       "      <td>70740000</td>\n",
       "      <td>48600000</td>\n",
       "      <td>81540000</td>\n",
       "      <td>57747600</td>\n",
       "      <td>50220000</td>\n",
       "      <td>16910700</td>\n",
       "      <td>25020000</td>\n",
       "    </tr>\n",
       "    <tr>\n",
       "      <th>1996/97</th>\n",
       "      <td>660000000</td>\n",
       "      <td>89160000</td>\n",
       "      <td>98220000</td>\n",
       "      <td>74100000</td>\n",
       "      <td>49860000</td>\n",
       "      <td>80580000</td>\n",
       "      <td>60190800</td>\n",
       "      <td>50280000</td>\n",
       "      <td>17850960</td>\n",
       "      <td>19980000</td>\n",
       "    </tr>\n",
       "    <tr>\n",
       "      <th>1997/98</th>\n",
       "      <td>690000000</td>\n",
       "      <td>91920000</td>\n",
       "      <td>103440000</td>\n",
       "      <td>72060000</td>\n",
       "      <td>51180000</td>\n",
       "      <td>79680000</td>\n",
       "      <td>62736599</td>\n",
       "      <td>50340000</td>\n",
       "      <td>18843480</td>\n",
       "      <td>23400000</td>\n",
       "    </tr>\n",
       "    <tr>\n",
       "      <th>1998/99</th>\n",
       "      <td>732000000</td>\n",
       "      <td>94680000</td>\n",
       "      <td>108960000</td>\n",
       "      <td>66480000</td>\n",
       "      <td>48600000</td>\n",
       "      <td>78720000</td>\n",
       "      <td>65390400</td>\n",
       "      <td>54000000</td>\n",
       "      <td>19891140</td>\n",
       "      <td>25980000</td>\n",
       "    </tr>\n",
       "    <tr>\n",
       "      <th>1999/00</th>\n",
       "      <td>762000000</td>\n",
       "      <td>97560000</td>\n",
       "      <td>114720000</td>\n",
       "      <td>69000000</td>\n",
       "      <td>51720000</td>\n",
       "      <td>77820000</td>\n",
       "      <td>68156400</td>\n",
       "      <td>55500000</td>\n",
       "      <td>21000000</td>\n",
       "      <td>25980000</td>\n",
       "    </tr>\n",
       "    <tr>\n",
       "      <th>2000/01</th>\n",
       "      <td>792000000</td>\n",
       "      <td>100560000</td>\n",
       "      <td>120840000</td>\n",
       "      <td>78300000</td>\n",
       "      <td>49200000</td>\n",
       "      <td>76920000</td>\n",
       "      <td>71039400</td>\n",
       "      <td>58500000</td>\n",
       "      <td>24097500</td>\n",
       "      <td>30000000</td>\n",
       "    </tr>\n",
       "    <tr>\n",
       "      <th>2001/02</th>\n",
       "      <td>815400000</td>\n",
       "      <td>120000000</td>\n",
       "      <td>127260000</td>\n",
       "      <td>90000000</td>\n",
       "      <td>49260000</td>\n",
       "      <td>76020000</td>\n",
       "      <td>74044200</td>\n",
       "      <td>64020000</td>\n",
       "      <td>27651900</td>\n",
       "      <td>30000000</td>\n",
       "    </tr>\n",
       "    <tr>\n",
       "      <th>2002/03</th>\n",
       "      <td>825000000</td>\n",
       "      <td>106740000</td>\n",
       "      <td>134040000</td>\n",
       "      <td>90000000</td>\n",
       "      <td>49740000</td>\n",
       "      <td>75120000</td>\n",
       "      <td>77176200</td>\n",
       "      <td>67980000</td>\n",
       "      <td>31130520</td>\n",
       "      <td>30000000</td>\n",
       "    </tr>\n",
       "    <tr>\n",
       "      <th>2003/04</th>\n",
       "      <td>852000000</td>\n",
       "      <td>109980000</td>\n",
       "      <td>141180000</td>\n",
       "      <td>90000000</td>\n",
       "      <td>55020000</td>\n",
       "      <td>74220000</td>\n",
       "      <td>80440800</td>\n",
       "      <td>70020000</td>\n",
       "      <td>36410760</td>\n",
       "      <td>30000000</td>\n",
       "    </tr>\n",
       "    <tr>\n",
       "      <th>2004/05</th>\n",
       "      <td>896760000</td>\n",
       "      <td>120000000</td>\n",
       "      <td>148680000</td>\n",
       "      <td>90000000</td>\n",
       "      <td>61200000</td>\n",
       "      <td>73380000</td>\n",
       "      <td>83843400</td>\n",
       "      <td>72120000</td>\n",
       "      <td>41781360</td>\n",
       "      <td>30000000</td>\n",
       "    </tr>\n",
       "    <tr>\n",
       "      <th>2005/06</th>\n",
       "      <td>932280000</td>\n",
       "      <td>150000000</td>\n",
       "      <td>156540000</td>\n",
       "      <td>103500000</td>\n",
       "      <td>62400000</td>\n",
       "      <td>72540000</td>\n",
       "      <td>87390000</td>\n",
       "      <td>74280000</td>\n",
       "      <td>48000000</td>\n",
       "      <td>30000000</td>\n",
       "    </tr>\n",
       "    <tr>\n",
       "      <th>2006/07</th>\n",
       "      <td>979860000</td>\n",
       "      <td>169980000</td>\n",
       "      <td>164880000</td>\n",
       "      <td>120000000</td>\n",
       "      <td>63600000</td>\n",
       "      <td>71677980</td>\n",
       "      <td>91086600</td>\n",
       "      <td>76500000</td>\n",
       "      <td>55020000</td>\n",
       "      <td>30000000</td>\n",
       "    </tr>\n",
       "    <tr>\n",
       "      <th>2007/08</th>\n",
       "      <td>1026600000</td>\n",
       "      <td>199980000</td>\n",
       "      <td>173640000</td>\n",
       "      <td>132000000</td>\n",
       "      <td>63600000</td>\n",
       "      <td>76855380</td>\n",
       "      <td>94939800</td>\n",
       "      <td>81000000</td>\n",
       "      <td>56280000</td>\n",
       "      <td>33000000</td>\n",
       "    </tr>\n",
       "    <tr>\n",
       "      <th>2008/09</th>\n",
       "      <td>1059600000</td>\n",
       "      <td>199980000</td>\n",
       "      <td>182880000</td>\n",
       "      <td>132000000</td>\n",
       "      <td>103200000</td>\n",
       "      <td>77430000</td>\n",
       "      <td>98955600</td>\n",
       "      <td>76500000</td>\n",
       "      <td>61260000</td>\n",
       "      <td>36000000</td>\n",
       "    </tr>\n",
       "    <tr>\n",
       "      <th>2009/10</th>\n",
       "      <td>1103400000</td>\n",
       "      <td>199980000</td>\n",
       "      <td>186540000</td>\n",
       "      <td>132000000</td>\n",
       "      <td>109200000</td>\n",
       "      <td>76468740</td>\n",
       "      <td>99000000</td>\n",
       "      <td>79500000</td>\n",
       "      <td>72480000</td>\n",
       "      <td>42000000</td>\n",
       "    </tr>\n",
       "    <tr>\n",
       "      <th>2010/11</th>\n",
       "      <td>1147920000</td>\n",
       "      <td>199980000</td>\n",
       "      <td>190260000</td>\n",
       "      <td>141240000</td>\n",
       "      <td>127500000</td>\n",
       "      <td>78661440</td>\n",
       "      <td>99000000</td>\n",
       "      <td>79500000</td>\n",
       "      <td>94980000</td>\n",
       "      <td>46500000</td>\n",
       "    </tr>\n",
       "    <tr>\n",
       "      <th>2011/12</th>\n",
       "      <td>1183200000</td>\n",
       "      <td>220020000</td>\n",
       "      <td>194100000</td>\n",
       "      <td>141240000</td>\n",
       "      <td>130500000</td>\n",
       "      <td>86103900</td>\n",
       "      <td>99000000</td>\n",
       "      <td>79500000</td>\n",
       "      <td>99000000</td>\n",
       "      <td>66000000</td>\n",
       "    </tr>\n",
       "    <tr>\n",
       "      <th>2012/13</th>\n",
       "      <td>1219800000</td>\n",
       "      <td>234000000</td>\n",
       "      <td>197940000</td>\n",
       "      <td>141240000</td>\n",
       "      <td>139500000</td>\n",
       "      <td>90854520</td>\n",
       "      <td>99000000</td>\n",
       "      <td>82500000</td>\n",
       "      <td>109500000</td>\n",
       "      <td>67800000</td>\n",
       "    </tr>\n",
       "    <tr>\n",
       "      <th>2013/14</th>\n",
       "      <td>1205100000</td>\n",
       "      <td>255000000</td>\n",
       "      <td>201900000</td>\n",
       "      <td>139260000</td>\n",
       "      <td>153000000</td>\n",
       "      <td>97021200</td>\n",
       "      <td>99000000</td>\n",
       "      <td>84000000</td>\n",
       "      <td>120000000</td>\n",
       "      <td>72000000</td>\n",
       "    </tr>\n",
       "    <tr>\n",
       "      <th>2014/15</th>\n",
       "      <td>1219980000</td>\n",
       "      <td>265020000</td>\n",
       "      <td>205980000</td>\n",
       "      <td>140820000</td>\n",
       "      <td>168000000</td>\n",
       "      <td>99927060</td>\n",
       "      <td>99000000</td>\n",
       "      <td>85800000</td>\n",
       "      <td>132000000</td>\n",
       "      <td>75000000</td>\n",
       "    </tr>\n",
       "    <tr>\n",
       "      <th>2015/16</th>\n",
       "      <td>1230480000</td>\n",
       "      <td>273000000</td>\n",
       "      <td>210060000</td>\n",
       "      <td>139740000</td>\n",
       "      <td>180000000</td>\n",
       "      <td>103222380</td>\n",
       "      <td>99000000</td>\n",
       "      <td>87000000</td>\n",
       "      <td>138000000</td>\n",
       "      <td>78000000</td>\n",
       "    </tr>\n",
       "    <tr>\n",
       "      <th>2016/17</th>\n",
       "      <td>1273500000</td>\n",
       "      <td>279000000</td>\n",
       "      <td>214260000</td>\n",
       "      <td>141600000</td>\n",
       "      <td>181800000</td>\n",
       "      <td>104186484</td>\n",
       "      <td>99000000</td>\n",
       "      <td>86400000</td>\n",
       "      <td>144000000</td>\n",
       "      <td>81000000</td>\n",
       "    </tr>\n",
       "    <tr>\n",
       "      <th>2017/18</th>\n",
       "      <td>1319820000</td>\n",
       "      <td>285000000</td>\n",
       "      <td>218580000</td>\n",
       "      <td>144000000</td>\n",
       "      <td>190800000</td>\n",
       "      <td>107596260</td>\n",
       "      <td>96000000</td>\n",
       "      <td>88200000</td>\n",
       "      <td>150000000</td>\n",
       "      <td>82500000</td>\n",
       "    </tr>\n",
       "    <tr>\n",
       "      <th>2018/19</th>\n",
       "      <td>1332000000</td>\n",
       "      <td>288000000</td>\n",
       "      <td>221100000</td>\n",
       "      <td>147000000</td>\n",
       "      <td>198000000</td>\n",
       "      <td>107484600</td>\n",
       "      <td>93000000</td>\n",
       "      <td>88500000</td>\n",
       "      <td>156000000</td>\n",
       "      <td>84000000</td>\n",
       "    </tr>\n",
       "    <tr>\n",
       "      <th>2019/20</th>\n",
       "      <td>1320000000</td>\n",
       "      <td>288360000</td>\n",
       "      <td>226860000</td>\n",
       "      <td>145500000</td>\n",
       "      <td>195000000</td>\n",
       "      <td>121486440</td>\n",
       "      <td>76500000</td>\n",
       "      <td>87000000</td>\n",
       "      <td>159000000</td>\n",
       "      <td>84000000</td>\n",
       "    </tr>\n",
       "  </tbody>\n",
       "</table>\n",
       "</div>"
      ],
      "text/plain": [
       "             Brazil  Indonesia   Ethiopia     Mexico Philippines   Colombia  \\\n",
       "1990/91   492000000   74520000   72000000   82440000    43200000   74100000   \n",
       "1991/92   510000000   76800000   75840000   72000000    45000000   76140000   \n",
       "1992/93   534000000   79140000   79860000   78000000    45000000   78180000   \n",
       "1993/94   546000000   81540000   84120000   64200000    46200000   80340000   \n",
       "1994/95   558000000   84000000   88560000   61200000    47400000   82500000   \n",
       "1995/96   606000000   86580000   93300000   70740000    48600000   81540000   \n",
       "1996/97   660000000   89160000   98220000   74100000    49860000   80580000   \n",
       "1997/98   690000000   91920000  103440000   72060000    51180000   79680000   \n",
       "1998/99   732000000   94680000  108960000   66480000    48600000   78720000   \n",
       "1999/00   762000000   97560000  114720000   69000000    51720000   77820000   \n",
       "2000/01   792000000  100560000  120840000   78300000    49200000   76920000   \n",
       "2001/02   815400000  120000000  127260000   90000000    49260000   76020000   \n",
       "2002/03   825000000  106740000  134040000   90000000    49740000   75120000   \n",
       "2003/04   852000000  109980000  141180000   90000000    55020000   74220000   \n",
       "2004/05   896760000  120000000  148680000   90000000    61200000   73380000   \n",
       "2005/06   932280000  150000000  156540000  103500000    62400000   72540000   \n",
       "2006/07   979860000  169980000  164880000  120000000    63600000   71677980   \n",
       "2007/08  1026600000  199980000  173640000  132000000    63600000   76855380   \n",
       "2008/09  1059600000  199980000  182880000  132000000   103200000   77430000   \n",
       "2009/10  1103400000  199980000  186540000  132000000   109200000   76468740   \n",
       "2010/11  1147920000  199980000  190260000  141240000   127500000   78661440   \n",
       "2011/12  1183200000  220020000  194100000  141240000   130500000   86103900   \n",
       "2012/13  1219800000  234000000  197940000  141240000   139500000   90854520   \n",
       "2013/14  1205100000  255000000  201900000  139260000   153000000   97021200   \n",
       "2014/15  1219980000  265020000  205980000  140820000   168000000   99927060   \n",
       "2015/16  1230480000  273000000  210060000  139740000   180000000  103222380   \n",
       "2016/17  1273500000  279000000  214260000  141600000   181800000  104186484   \n",
       "2017/18  1319820000  285000000  218580000  144000000   190800000  107596260   \n",
       "2018/19  1332000000  288000000  221100000  147000000   198000000  107484600   \n",
       "2019/20  1320000000  288360000  226860000  145500000   195000000  121486440   \n",
       "\n",
       "        Venezuela     India   Viet Nam  Thailand  \n",
       "1990/91  46943400  54180000    9000000  11280000  \n",
       "1991/92  48928800  55000020   13800000  13200000  \n",
       "1992/93  50998200  55020000   15000000  13980000  \n",
       "1993/94  53155800  49999980   16020000  15000000  \n",
       "1994/95  55404000  50100000   16020000  16980000  \n",
       "1995/96  57747600  50220000   16910700  25020000  \n",
       "1996/97  60190800  50280000   17850960  19980000  \n",
       "1997/98  62736599  50340000   18843480  23400000  \n",
       "1998/99  65390400  54000000   19891140  25980000  \n",
       "1999/00  68156400  55500000   21000000  25980000  \n",
       "2000/01  71039400  58500000   24097500  30000000  \n",
       "2001/02  74044200  64020000   27651900  30000000  \n",
       "2002/03  77176200  67980000   31130520  30000000  \n",
       "2003/04  80440800  70020000   36410760  30000000  \n",
       "2004/05  83843400  72120000   41781360  30000000  \n",
       "2005/06  87390000  74280000   48000000  30000000  \n",
       "2006/07  91086600  76500000   55020000  30000000  \n",
       "2007/08  94939800  81000000   56280000  33000000  \n",
       "2008/09  98955600  76500000   61260000  36000000  \n",
       "2009/10  99000000  79500000   72480000  42000000  \n",
       "2010/11  99000000  79500000   94980000  46500000  \n",
       "2011/12  99000000  79500000   99000000  66000000  \n",
       "2012/13  99000000  82500000  109500000  67800000  \n",
       "2013/14  99000000  84000000  120000000  72000000  \n",
       "2014/15  99000000  85800000  132000000  75000000  \n",
       "2015/16  99000000  87000000  138000000  78000000  \n",
       "2016/17  99000000  86400000  144000000  81000000  \n",
       "2017/18  96000000  88200000  150000000  82500000  \n",
       "2018/19  93000000  88500000  156000000  84000000  \n",
       "2019/20  76500000  87000000  159000000  84000000  "
      ]
     },
     "execution_count": 7,
     "metadata": {},
     "output_type": "execute_result"
    }
   ],
   "source": [
    "df_year_domestic_consumption = transpose_dataframe(df, 'Total_domestic_consumption', 'Coffee type')\n",
    "df_year_domestic_consumption"
   ]
  },
  {
   "cell_type": "code",
   "execution_count": 13,
   "metadata": {},
   "outputs": [
    {
     "data": {
      "application/vnd.plotly.v1+json": {
       "config": {
        "plotlyServerURL": "https://plot.ly"
       },
       "data": [
        {
         "hovertemplate": "variable=Brazil<br>index=%{x}<br>value=%{y}<extra></extra>",
         "legendgroup": "Brazil",
         "line": {
          "color": "#636efa",
          "dash": "solid",
          "shape": "spline",
          "width": 3
         },
         "marker": {
          "symbol": "circle"
         },
         "mode": "markers+lines",
         "name": "Brazil",
         "orientation": "v",
         "showlegend": true,
         "type": "scatter",
         "x": [
          "1990/91",
          "1991/92",
          "1992/93",
          "1993/94",
          "1994/95",
          "1995/96",
          "1996/97",
          "1997/98",
          "1998/99",
          "1999/00",
          "2000/01",
          "2001/02",
          "2002/03",
          "2003/04",
          "2004/05",
          "2005/06",
          "2006/07",
          "2007/08",
          "2008/09",
          "2009/10",
          "2010/11",
          "2011/12",
          "2012/13",
          "2013/14",
          "2014/15",
          "2015/16",
          "2016/17",
          "2017/18",
          "2018/19",
          "2019/20"
         ],
         "xaxis": "x",
         "y": [
          492000000,
          510000000,
          534000000,
          546000000,
          558000000,
          606000000,
          660000000,
          690000000,
          732000000,
          762000000,
          792000000,
          815400000,
          825000000,
          852000000,
          896760000,
          932280000,
          979860000,
          1026600000,
          1059600000,
          1103400000,
          1147920000,
          1183200000,
          1219800000,
          1205100000,
          1219980000,
          1230480000,
          1273500000,
          1319820000,
          1332000000,
          1320000000
         ],
         "yaxis": "y"
        },
        {
         "hovertemplate": "variable=Indonesia<br>index=%{x}<br>value=%{y}<extra></extra>",
         "legendgroup": "Indonesia",
         "line": {
          "color": "#EF553B",
          "dash": "solid",
          "shape": "spline",
          "width": 3
         },
         "marker": {
          "symbol": "circle"
         },
         "mode": "markers+lines",
         "name": "Indonesia",
         "orientation": "v",
         "showlegend": true,
         "type": "scatter",
         "x": [
          "1990/91",
          "1991/92",
          "1992/93",
          "1993/94",
          "1994/95",
          "1995/96",
          "1996/97",
          "1997/98",
          "1998/99",
          "1999/00",
          "2000/01",
          "2001/02",
          "2002/03",
          "2003/04",
          "2004/05",
          "2005/06",
          "2006/07",
          "2007/08",
          "2008/09",
          "2009/10",
          "2010/11",
          "2011/12",
          "2012/13",
          "2013/14",
          "2014/15",
          "2015/16",
          "2016/17",
          "2017/18",
          "2018/19",
          "2019/20"
         ],
         "xaxis": "x",
         "y": [
          74520000,
          76800000,
          79140000,
          81540000,
          84000000,
          86580000,
          89160000,
          91920000,
          94680000,
          97560000,
          100560000,
          120000000,
          106740000,
          109980000,
          120000000,
          150000000,
          169980000,
          199980000,
          199980000,
          199980000,
          199980000,
          220020000,
          234000000,
          255000000,
          265020000,
          273000000,
          279000000,
          285000000,
          288000000,
          288360000
         ],
         "yaxis": "y"
        },
        {
         "hovertemplate": "variable=Ethiopia<br>index=%{x}<br>value=%{y}<extra></extra>",
         "legendgroup": "Ethiopia",
         "line": {
          "color": "#00cc96",
          "dash": "solid",
          "shape": "spline",
          "width": 3
         },
         "marker": {
          "symbol": "circle"
         },
         "mode": "markers+lines",
         "name": "Ethiopia",
         "orientation": "v",
         "showlegend": true,
         "type": "scatter",
         "x": [
          "1990/91",
          "1991/92",
          "1992/93",
          "1993/94",
          "1994/95",
          "1995/96",
          "1996/97",
          "1997/98",
          "1998/99",
          "1999/00",
          "2000/01",
          "2001/02",
          "2002/03",
          "2003/04",
          "2004/05",
          "2005/06",
          "2006/07",
          "2007/08",
          "2008/09",
          "2009/10",
          "2010/11",
          "2011/12",
          "2012/13",
          "2013/14",
          "2014/15",
          "2015/16",
          "2016/17",
          "2017/18",
          "2018/19",
          "2019/20"
         ],
         "xaxis": "x",
         "y": [
          72000000,
          75840000,
          79860000,
          84120000,
          88560000,
          93300000,
          98220000,
          103440000,
          108960000,
          114720000,
          120840000,
          127260000,
          134040000,
          141180000,
          148680000,
          156540000,
          164880000,
          173640000,
          182880000,
          186540000,
          190260000,
          194100000,
          197940000,
          201900000,
          205980000,
          210060000,
          214260000,
          218580000,
          221100000,
          226860000
         ],
         "yaxis": "y"
        },
        {
         "hovertemplate": "variable=Mexico<br>index=%{x}<br>value=%{y}<extra></extra>",
         "legendgroup": "Mexico",
         "line": {
          "color": "#ab63fa",
          "dash": "solid",
          "shape": "spline",
          "width": 3
         },
         "marker": {
          "symbol": "circle"
         },
         "mode": "markers+lines",
         "name": "Mexico",
         "orientation": "v",
         "showlegend": true,
         "type": "scatter",
         "x": [
          "1990/91",
          "1991/92",
          "1992/93",
          "1993/94",
          "1994/95",
          "1995/96",
          "1996/97",
          "1997/98",
          "1998/99",
          "1999/00",
          "2000/01",
          "2001/02",
          "2002/03",
          "2003/04",
          "2004/05",
          "2005/06",
          "2006/07",
          "2007/08",
          "2008/09",
          "2009/10",
          "2010/11",
          "2011/12",
          "2012/13",
          "2013/14",
          "2014/15",
          "2015/16",
          "2016/17",
          "2017/18",
          "2018/19",
          "2019/20"
         ],
         "xaxis": "x",
         "y": [
          82440000,
          72000000,
          78000000,
          64200000,
          61200000,
          70740000,
          74100000,
          72060000,
          66480000,
          69000000,
          78300000,
          90000000,
          90000000,
          90000000,
          90000000,
          103500000,
          120000000,
          132000000,
          132000000,
          132000000,
          141240000,
          141240000,
          141240000,
          139260000,
          140820000,
          139740000,
          141600000,
          144000000,
          147000000,
          145500000
         ],
         "yaxis": "y"
        },
        {
         "hovertemplate": "variable=Philippines<br>index=%{x}<br>value=%{y}<extra></extra>",
         "legendgroup": "Philippines",
         "line": {
          "color": "#FFA15A",
          "dash": "solid",
          "shape": "spline",
          "width": 3
         },
         "marker": {
          "symbol": "circle"
         },
         "mode": "markers+lines",
         "name": "Philippines",
         "orientation": "v",
         "showlegend": true,
         "type": "scatter",
         "x": [
          "1990/91",
          "1991/92",
          "1992/93",
          "1993/94",
          "1994/95",
          "1995/96",
          "1996/97",
          "1997/98",
          "1998/99",
          "1999/00",
          "2000/01",
          "2001/02",
          "2002/03",
          "2003/04",
          "2004/05",
          "2005/06",
          "2006/07",
          "2007/08",
          "2008/09",
          "2009/10",
          "2010/11",
          "2011/12",
          "2012/13",
          "2013/14",
          "2014/15",
          "2015/16",
          "2016/17",
          "2017/18",
          "2018/19",
          "2019/20"
         ],
         "xaxis": "x",
         "y": [
          43200000,
          45000000,
          45000000,
          46200000,
          47400000,
          48600000,
          49860000,
          51180000,
          48600000,
          51720000,
          49200000,
          49260000,
          49740000,
          55020000,
          61200000,
          62400000,
          63600000,
          63600000,
          103200000,
          109200000,
          127500000,
          130500000,
          139500000,
          153000000,
          168000000,
          180000000,
          181800000,
          190800000,
          198000000,
          195000000
         ],
         "yaxis": "y"
        },
        {
         "hovertemplate": "variable=Colombia<br>index=%{x}<br>value=%{y}<extra></extra>",
         "legendgroup": "Colombia",
         "line": {
          "color": "#19d3f3",
          "dash": "solid",
          "shape": "spline",
          "width": 3
         },
         "marker": {
          "symbol": "circle"
         },
         "mode": "markers+lines",
         "name": "Colombia",
         "orientation": "v",
         "showlegend": true,
         "type": "scatter",
         "x": [
          "1990/91",
          "1991/92",
          "1992/93",
          "1993/94",
          "1994/95",
          "1995/96",
          "1996/97",
          "1997/98",
          "1998/99",
          "1999/00",
          "2000/01",
          "2001/02",
          "2002/03",
          "2003/04",
          "2004/05",
          "2005/06",
          "2006/07",
          "2007/08",
          "2008/09",
          "2009/10",
          "2010/11",
          "2011/12",
          "2012/13",
          "2013/14",
          "2014/15",
          "2015/16",
          "2016/17",
          "2017/18",
          "2018/19",
          "2019/20"
         ],
         "xaxis": "x",
         "y": [
          74100000,
          76140000,
          78180000,
          80340000,
          82500000,
          81540000,
          80580000,
          79680000,
          78720000,
          77820000,
          76920000,
          76020000,
          75120000,
          74220000,
          73380000,
          72540000,
          71677980,
          76855380,
          77430000,
          76468740,
          78661440,
          86103900,
          90854520,
          97021200,
          99927060,
          103222380,
          104186484,
          107596260,
          107484600,
          121486440
         ],
         "yaxis": "y"
        },
        {
         "hovertemplate": "variable=Venezuela<br>index=%{x}<br>value=%{y}<extra></extra>",
         "legendgroup": "Venezuela",
         "line": {
          "color": "#FF6692",
          "dash": "solid",
          "shape": "spline",
          "width": 3
         },
         "marker": {
          "symbol": "circle"
         },
         "mode": "markers+lines",
         "name": "Venezuela",
         "orientation": "v",
         "showlegend": true,
         "type": "scatter",
         "x": [
          "1990/91",
          "1991/92",
          "1992/93",
          "1993/94",
          "1994/95",
          "1995/96",
          "1996/97",
          "1997/98",
          "1998/99",
          "1999/00",
          "2000/01",
          "2001/02",
          "2002/03",
          "2003/04",
          "2004/05",
          "2005/06",
          "2006/07",
          "2007/08",
          "2008/09",
          "2009/10",
          "2010/11",
          "2011/12",
          "2012/13",
          "2013/14",
          "2014/15",
          "2015/16",
          "2016/17",
          "2017/18",
          "2018/19",
          "2019/20"
         ],
         "xaxis": "x",
         "y": [
          46943400,
          48928800,
          50998200,
          53155800,
          55404000,
          57747600,
          60190800,
          62736599,
          65390400,
          68156400,
          71039400,
          74044200,
          77176200,
          80440800,
          83843400,
          87390000,
          91086600,
          94939800,
          98955600,
          99000000,
          99000000,
          99000000,
          99000000,
          99000000,
          99000000,
          99000000,
          99000000,
          96000000,
          93000000,
          76500000
         ],
         "yaxis": "y"
        },
        {
         "hovertemplate": "variable=India<br>index=%{x}<br>value=%{y}<extra></extra>",
         "legendgroup": "India",
         "line": {
          "color": "#B6E880",
          "dash": "solid",
          "shape": "spline",
          "width": 3
         },
         "marker": {
          "symbol": "circle"
         },
         "mode": "markers+lines",
         "name": "India",
         "orientation": "v",
         "showlegend": true,
         "type": "scatter",
         "x": [
          "1990/91",
          "1991/92",
          "1992/93",
          "1993/94",
          "1994/95",
          "1995/96",
          "1996/97",
          "1997/98",
          "1998/99",
          "1999/00",
          "2000/01",
          "2001/02",
          "2002/03",
          "2003/04",
          "2004/05",
          "2005/06",
          "2006/07",
          "2007/08",
          "2008/09",
          "2009/10",
          "2010/11",
          "2011/12",
          "2012/13",
          "2013/14",
          "2014/15",
          "2015/16",
          "2016/17",
          "2017/18",
          "2018/19",
          "2019/20"
         ],
         "xaxis": "x",
         "y": [
          54180000,
          55000020,
          55020000,
          49999980,
          50100000,
          50220000,
          50280000,
          50340000,
          54000000,
          55500000,
          58500000,
          64020000,
          67980000,
          70020000,
          72120000,
          74280000,
          76500000,
          81000000,
          76500000,
          79500000,
          79500000,
          79500000,
          82500000,
          84000000,
          85800000,
          87000000,
          86400000,
          88200000,
          88500000,
          87000000
         ],
         "yaxis": "y"
        },
        {
         "hovertemplate": "variable=Viet Nam<br>index=%{x}<br>value=%{y}<extra></extra>",
         "legendgroup": "Viet Nam",
         "line": {
          "color": "#FF97FF",
          "dash": "solid",
          "shape": "spline",
          "width": 3
         },
         "marker": {
          "symbol": "circle"
         },
         "mode": "markers+lines",
         "name": "Viet Nam",
         "orientation": "v",
         "showlegend": true,
         "type": "scatter",
         "x": [
          "1990/91",
          "1991/92",
          "1992/93",
          "1993/94",
          "1994/95",
          "1995/96",
          "1996/97",
          "1997/98",
          "1998/99",
          "1999/00",
          "2000/01",
          "2001/02",
          "2002/03",
          "2003/04",
          "2004/05",
          "2005/06",
          "2006/07",
          "2007/08",
          "2008/09",
          "2009/10",
          "2010/11",
          "2011/12",
          "2012/13",
          "2013/14",
          "2014/15",
          "2015/16",
          "2016/17",
          "2017/18",
          "2018/19",
          "2019/20"
         ],
         "xaxis": "x",
         "y": [
          9000000,
          13800000,
          15000000,
          16020000,
          16020000,
          16910700,
          17850960,
          18843480,
          19891140,
          21000000,
          24097500,
          27651900,
          31130520,
          36410760,
          41781360,
          48000000,
          55020000,
          56280000,
          61260000,
          72480000,
          94980000,
          99000000,
          109500000,
          120000000,
          132000000,
          138000000,
          144000000,
          150000000,
          156000000,
          159000000
         ],
         "yaxis": "y"
        },
        {
         "hovertemplate": "variable=Thailand<br>index=%{x}<br>value=%{y}<extra></extra>",
         "legendgroup": "Thailand",
         "line": {
          "color": "#FECB52",
          "dash": "solid",
          "shape": "spline",
          "width": 3
         },
         "marker": {
          "symbol": "circle"
         },
         "mode": "markers+lines",
         "name": "Thailand",
         "orientation": "v",
         "showlegend": true,
         "type": "scatter",
         "x": [
          "1990/91",
          "1991/92",
          "1992/93",
          "1993/94",
          "1994/95",
          "1995/96",
          "1996/97",
          "1997/98",
          "1998/99",
          "1999/00",
          "2000/01",
          "2001/02",
          "2002/03",
          "2003/04",
          "2004/05",
          "2005/06",
          "2006/07",
          "2007/08",
          "2008/09",
          "2009/10",
          "2010/11",
          "2011/12",
          "2012/13",
          "2013/14",
          "2014/15",
          "2015/16",
          "2016/17",
          "2017/18",
          "2018/19",
          "2019/20"
         ],
         "xaxis": "x",
         "y": [
          11280000,
          13200000,
          13980000,
          15000000,
          16980000,
          25020000,
          19980000,
          23400000,
          25980000,
          25980000,
          30000000,
          30000000,
          30000000,
          30000000,
          30000000,
          30000000,
          30000000,
          33000000,
          36000000,
          42000000,
          46500000,
          66000000,
          67800000,
          72000000,
          75000000,
          78000000,
          81000000,
          82500000,
          84000000,
          84000000
         ],
         "yaxis": "y"
        }
       ],
       "layout": {
        "height": 1000,
        "legend": {
         "title": {
          "text": "variable"
         },
         "tracegroupgap": 0
        },
        "template": {
         "data": {
          "bar": [
           {
            "error_x": {
             "color": "#2a3f5f"
            },
            "error_y": {
             "color": "#2a3f5f"
            },
            "marker": {
             "line": {
              "color": "#E5ECF6",
              "width": 0.5
             },
             "pattern": {
              "fillmode": "overlay",
              "size": 10,
              "solidity": 0.2
             }
            },
            "type": "bar"
           }
          ],
          "barpolar": [
           {
            "marker": {
             "line": {
              "color": "#E5ECF6",
              "width": 0.5
             },
             "pattern": {
              "fillmode": "overlay",
              "size": 10,
              "solidity": 0.2
             }
            },
            "type": "barpolar"
           }
          ],
          "carpet": [
           {
            "aaxis": {
             "endlinecolor": "#2a3f5f",
             "gridcolor": "white",
             "linecolor": "white",
             "minorgridcolor": "white",
             "startlinecolor": "#2a3f5f"
            },
            "baxis": {
             "endlinecolor": "#2a3f5f",
             "gridcolor": "white",
             "linecolor": "white",
             "minorgridcolor": "white",
             "startlinecolor": "#2a3f5f"
            },
            "type": "carpet"
           }
          ],
          "choropleth": [
           {
            "colorbar": {
             "outlinewidth": 0,
             "ticks": ""
            },
            "type": "choropleth"
           }
          ],
          "contour": [
           {
            "colorbar": {
             "outlinewidth": 0,
             "ticks": ""
            },
            "colorscale": [
             [
              0,
              "#0d0887"
             ],
             [
              0.1111111111111111,
              "#46039f"
             ],
             [
              0.2222222222222222,
              "#7201a8"
             ],
             [
              0.3333333333333333,
              "#9c179e"
             ],
             [
              0.4444444444444444,
              "#bd3786"
             ],
             [
              0.5555555555555556,
              "#d8576b"
             ],
             [
              0.6666666666666666,
              "#ed7953"
             ],
             [
              0.7777777777777778,
              "#fb9f3a"
             ],
             [
              0.8888888888888888,
              "#fdca26"
             ],
             [
              1,
              "#f0f921"
             ]
            ],
            "type": "contour"
           }
          ],
          "contourcarpet": [
           {
            "colorbar": {
             "outlinewidth": 0,
             "ticks": ""
            },
            "type": "contourcarpet"
           }
          ],
          "heatmap": [
           {
            "colorbar": {
             "outlinewidth": 0,
             "ticks": ""
            },
            "colorscale": [
             [
              0,
              "#0d0887"
             ],
             [
              0.1111111111111111,
              "#46039f"
             ],
             [
              0.2222222222222222,
              "#7201a8"
             ],
             [
              0.3333333333333333,
              "#9c179e"
             ],
             [
              0.4444444444444444,
              "#bd3786"
             ],
             [
              0.5555555555555556,
              "#d8576b"
             ],
             [
              0.6666666666666666,
              "#ed7953"
             ],
             [
              0.7777777777777778,
              "#fb9f3a"
             ],
             [
              0.8888888888888888,
              "#fdca26"
             ],
             [
              1,
              "#f0f921"
             ]
            ],
            "type": "heatmap"
           }
          ],
          "heatmapgl": [
           {
            "colorbar": {
             "outlinewidth": 0,
             "ticks": ""
            },
            "colorscale": [
             [
              0,
              "#0d0887"
             ],
             [
              0.1111111111111111,
              "#46039f"
             ],
             [
              0.2222222222222222,
              "#7201a8"
             ],
             [
              0.3333333333333333,
              "#9c179e"
             ],
             [
              0.4444444444444444,
              "#bd3786"
             ],
             [
              0.5555555555555556,
              "#d8576b"
             ],
             [
              0.6666666666666666,
              "#ed7953"
             ],
             [
              0.7777777777777778,
              "#fb9f3a"
             ],
             [
              0.8888888888888888,
              "#fdca26"
             ],
             [
              1,
              "#f0f921"
             ]
            ],
            "type": "heatmapgl"
           }
          ],
          "histogram": [
           {
            "marker": {
             "pattern": {
              "fillmode": "overlay",
              "size": 10,
              "solidity": 0.2
             }
            },
            "type": "histogram"
           }
          ],
          "histogram2d": [
           {
            "colorbar": {
             "outlinewidth": 0,
             "ticks": ""
            },
            "colorscale": [
             [
              0,
              "#0d0887"
             ],
             [
              0.1111111111111111,
              "#46039f"
             ],
             [
              0.2222222222222222,
              "#7201a8"
             ],
             [
              0.3333333333333333,
              "#9c179e"
             ],
             [
              0.4444444444444444,
              "#bd3786"
             ],
             [
              0.5555555555555556,
              "#d8576b"
             ],
             [
              0.6666666666666666,
              "#ed7953"
             ],
             [
              0.7777777777777778,
              "#fb9f3a"
             ],
             [
              0.8888888888888888,
              "#fdca26"
             ],
             [
              1,
              "#f0f921"
             ]
            ],
            "type": "histogram2d"
           }
          ],
          "histogram2dcontour": [
           {
            "colorbar": {
             "outlinewidth": 0,
             "ticks": ""
            },
            "colorscale": [
             [
              0,
              "#0d0887"
             ],
             [
              0.1111111111111111,
              "#46039f"
             ],
             [
              0.2222222222222222,
              "#7201a8"
             ],
             [
              0.3333333333333333,
              "#9c179e"
             ],
             [
              0.4444444444444444,
              "#bd3786"
             ],
             [
              0.5555555555555556,
              "#d8576b"
             ],
             [
              0.6666666666666666,
              "#ed7953"
             ],
             [
              0.7777777777777778,
              "#fb9f3a"
             ],
             [
              0.8888888888888888,
              "#fdca26"
             ],
             [
              1,
              "#f0f921"
             ]
            ],
            "type": "histogram2dcontour"
           }
          ],
          "mesh3d": [
           {
            "colorbar": {
             "outlinewidth": 0,
             "ticks": ""
            },
            "type": "mesh3d"
           }
          ],
          "parcoords": [
           {
            "line": {
             "colorbar": {
              "outlinewidth": 0,
              "ticks": ""
             }
            },
            "type": "parcoords"
           }
          ],
          "pie": [
           {
            "automargin": true,
            "type": "pie"
           }
          ],
          "scatter": [
           {
            "fillpattern": {
             "fillmode": "overlay",
             "size": 10,
             "solidity": 0.2
            },
            "type": "scatter"
           }
          ],
          "scatter3d": [
           {
            "line": {
             "colorbar": {
              "outlinewidth": 0,
              "ticks": ""
             }
            },
            "marker": {
             "colorbar": {
              "outlinewidth": 0,
              "ticks": ""
             }
            },
            "type": "scatter3d"
           }
          ],
          "scattercarpet": [
           {
            "marker": {
             "colorbar": {
              "outlinewidth": 0,
              "ticks": ""
             }
            },
            "type": "scattercarpet"
           }
          ],
          "scattergeo": [
           {
            "marker": {
             "colorbar": {
              "outlinewidth": 0,
              "ticks": ""
             }
            },
            "type": "scattergeo"
           }
          ],
          "scattergl": [
           {
            "marker": {
             "colorbar": {
              "outlinewidth": 0,
              "ticks": ""
             }
            },
            "type": "scattergl"
           }
          ],
          "scattermapbox": [
           {
            "marker": {
             "colorbar": {
              "outlinewidth": 0,
              "ticks": ""
             }
            },
            "type": "scattermapbox"
           }
          ],
          "scatterpolar": [
           {
            "marker": {
             "colorbar": {
              "outlinewidth": 0,
              "ticks": ""
             }
            },
            "type": "scatterpolar"
           }
          ],
          "scatterpolargl": [
           {
            "marker": {
             "colorbar": {
              "outlinewidth": 0,
              "ticks": ""
             }
            },
            "type": "scatterpolargl"
           }
          ],
          "scatterternary": [
           {
            "marker": {
             "colorbar": {
              "outlinewidth": 0,
              "ticks": ""
             }
            },
            "type": "scatterternary"
           }
          ],
          "surface": [
           {
            "colorbar": {
             "outlinewidth": 0,
             "ticks": ""
            },
            "colorscale": [
             [
              0,
              "#0d0887"
             ],
             [
              0.1111111111111111,
              "#46039f"
             ],
             [
              0.2222222222222222,
              "#7201a8"
             ],
             [
              0.3333333333333333,
              "#9c179e"
             ],
             [
              0.4444444444444444,
              "#bd3786"
             ],
             [
              0.5555555555555556,
              "#d8576b"
             ],
             [
              0.6666666666666666,
              "#ed7953"
             ],
             [
              0.7777777777777778,
              "#fb9f3a"
             ],
             [
              0.8888888888888888,
              "#fdca26"
             ],
             [
              1,
              "#f0f921"
             ]
            ],
            "type": "surface"
           }
          ],
          "table": [
           {
            "cells": {
             "fill": {
              "color": "#EBF0F8"
             },
             "line": {
              "color": "white"
             }
            },
            "header": {
             "fill": {
              "color": "#C8D4E3"
             },
             "line": {
              "color": "white"
             }
            },
            "type": "table"
           }
          ]
         },
         "layout": {
          "annotationdefaults": {
           "arrowcolor": "#2a3f5f",
           "arrowhead": 0,
           "arrowwidth": 1
          },
          "autotypenumbers": "strict",
          "coloraxis": {
           "colorbar": {
            "outlinewidth": 0,
            "ticks": ""
           }
          },
          "colorscale": {
           "diverging": [
            [
             0,
             "#8e0152"
            ],
            [
             0.1,
             "#c51b7d"
            ],
            [
             0.2,
             "#de77ae"
            ],
            [
             0.3,
             "#f1b6da"
            ],
            [
             0.4,
             "#fde0ef"
            ],
            [
             0.5,
             "#f7f7f7"
            ],
            [
             0.6,
             "#e6f5d0"
            ],
            [
             0.7,
             "#b8e186"
            ],
            [
             0.8,
             "#7fbc41"
            ],
            [
             0.9,
             "#4d9221"
            ],
            [
             1,
             "#276419"
            ]
           ],
           "sequential": [
            [
             0,
             "#0d0887"
            ],
            [
             0.1111111111111111,
             "#46039f"
            ],
            [
             0.2222222222222222,
             "#7201a8"
            ],
            [
             0.3333333333333333,
             "#9c179e"
            ],
            [
             0.4444444444444444,
             "#bd3786"
            ],
            [
             0.5555555555555556,
             "#d8576b"
            ],
            [
             0.6666666666666666,
             "#ed7953"
            ],
            [
             0.7777777777777778,
             "#fb9f3a"
            ],
            [
             0.8888888888888888,
             "#fdca26"
            ],
            [
             1,
             "#f0f921"
            ]
           ],
           "sequentialminus": [
            [
             0,
             "#0d0887"
            ],
            [
             0.1111111111111111,
             "#46039f"
            ],
            [
             0.2222222222222222,
             "#7201a8"
            ],
            [
             0.3333333333333333,
             "#9c179e"
            ],
            [
             0.4444444444444444,
             "#bd3786"
            ],
            [
             0.5555555555555556,
             "#d8576b"
            ],
            [
             0.6666666666666666,
             "#ed7953"
            ],
            [
             0.7777777777777778,
             "#fb9f3a"
            ],
            [
             0.8888888888888888,
             "#fdca26"
            ],
            [
             1,
             "#f0f921"
            ]
           ]
          },
          "colorway": [
           "#636efa",
           "#EF553B",
           "#00cc96",
           "#ab63fa",
           "#FFA15A",
           "#19d3f3",
           "#FF6692",
           "#B6E880",
           "#FF97FF",
           "#FECB52"
          ],
          "font": {
           "color": "#2a3f5f"
          },
          "geo": {
           "bgcolor": "white",
           "lakecolor": "white",
           "landcolor": "#E5ECF6",
           "showlakes": true,
           "showland": true,
           "subunitcolor": "white"
          },
          "hoverlabel": {
           "align": "left"
          },
          "hovermode": "closest",
          "mapbox": {
           "style": "light"
          },
          "paper_bgcolor": "white",
          "plot_bgcolor": "#E5ECF6",
          "polar": {
           "angularaxis": {
            "gridcolor": "white",
            "linecolor": "white",
            "ticks": ""
           },
           "bgcolor": "#E5ECF6",
           "radialaxis": {
            "gridcolor": "white",
            "linecolor": "white",
            "ticks": ""
           }
          },
          "scene": {
           "xaxis": {
            "backgroundcolor": "#E5ECF6",
            "gridcolor": "white",
            "gridwidth": 2,
            "linecolor": "white",
            "showbackground": true,
            "ticks": "",
            "zerolinecolor": "white"
           },
           "yaxis": {
            "backgroundcolor": "#E5ECF6",
            "gridcolor": "white",
            "gridwidth": 2,
            "linecolor": "white",
            "showbackground": true,
            "ticks": "",
            "zerolinecolor": "white"
           },
           "zaxis": {
            "backgroundcolor": "#E5ECF6",
            "gridcolor": "white",
            "gridwidth": 2,
            "linecolor": "white",
            "showbackground": true,
            "ticks": "",
            "zerolinecolor": "white"
           }
          },
          "shapedefaults": {
           "line": {
            "color": "#2a3f5f"
           }
          },
          "ternary": {
           "aaxis": {
            "gridcolor": "white",
            "linecolor": "white",
            "ticks": ""
           },
           "baxis": {
            "gridcolor": "white",
            "linecolor": "white",
            "ticks": ""
           },
           "bgcolor": "#E5ECF6",
           "caxis": {
            "gridcolor": "white",
            "linecolor": "white",
            "ticks": ""
           }
          },
          "title": {
           "x": 0.05
          },
          "xaxis": {
           "automargin": true,
           "gridcolor": "white",
           "linecolor": "white",
           "ticks": "",
           "title": {
            "standoff": 15
           },
           "zerolinecolor": "white",
           "zerolinewidth": 2
          },
          "yaxis": {
           "automargin": true,
           "gridcolor": "white",
           "linecolor": "white",
           "ticks": "",
           "title": {
            "standoff": 15
           },
           "zerolinecolor": "white",
           "zerolinewidth": 2
          }
         }
        },
        "title": {
         "text": "Consumption over time of the top consuming countries"
        },
        "width": 1000,
        "xaxis": {
         "anchor": "y",
         "domain": [
          0,
          1
         ],
         "title": {
          "text": "index"
         }
        },
        "yaxis": {
         "anchor": "x",
         "domain": [
          0,
          1
         ],
         "title": {
          "text": "value"
         }
        }
       }
      },
      "text/html": [
       "<div>                            <div id=\"e73907bd-11c8-41f3-918e-496752bb1bb7\" class=\"plotly-graph-div\" style=\"height:1000px; width:1000px;\"></div>            <script type=\"text/javascript\">                require([\"plotly\"], function(Plotly) {                    window.PLOTLYENV=window.PLOTLYENV || {};                                    if (document.getElementById(\"e73907bd-11c8-41f3-918e-496752bb1bb7\")) {                    Plotly.newPlot(                        \"e73907bd-11c8-41f3-918e-496752bb1bb7\",                        [{\"hovertemplate\":\"variable=Brazil<br>index=%{x}<br>value=%{y}<extra></extra>\",\"legendgroup\":\"Brazil\",\"line\":{\"color\":\"#636efa\",\"dash\":\"solid\",\"shape\":\"spline\",\"width\":3},\"marker\":{\"symbol\":\"circle\"},\"mode\":\"markers+lines\",\"name\":\"Brazil\",\"orientation\":\"v\",\"showlegend\":true,\"x\":[\"1990/91\",\"1991/92\",\"1992/93\",\"1993/94\",\"1994/95\",\"1995/96\",\"1996/97\",\"1997/98\",\"1998/99\",\"1999/00\",\"2000/01\",\"2001/02\",\"2002/03\",\"2003/04\",\"2004/05\",\"2005/06\",\"2006/07\",\"2007/08\",\"2008/09\",\"2009/10\",\"2010/11\",\"2011/12\",\"2012/13\",\"2013/14\",\"2014/15\",\"2015/16\",\"2016/17\",\"2017/18\",\"2018/19\",\"2019/20\"],\"xaxis\":\"x\",\"y\":[492000000,510000000,534000000,546000000,558000000,606000000,660000000,690000000,732000000,762000000,792000000,815400000,825000000,852000000,896760000,932280000,979860000,1026600000,1059600000,1103400000,1147920000,1183200000,1219800000,1205100000,1219980000,1230480000,1273500000,1319820000,1332000000,1320000000],\"yaxis\":\"y\",\"type\":\"scatter\"},{\"hovertemplate\":\"variable=Indonesia<br>index=%{x}<br>value=%{y}<extra></extra>\",\"legendgroup\":\"Indonesia\",\"line\":{\"color\":\"#EF553B\",\"dash\":\"solid\",\"shape\":\"spline\",\"width\":3},\"marker\":{\"symbol\":\"circle\"},\"mode\":\"markers+lines\",\"name\":\"Indonesia\",\"orientation\":\"v\",\"showlegend\":true,\"x\":[\"1990/91\",\"1991/92\",\"1992/93\",\"1993/94\",\"1994/95\",\"1995/96\",\"1996/97\",\"1997/98\",\"1998/99\",\"1999/00\",\"2000/01\",\"2001/02\",\"2002/03\",\"2003/04\",\"2004/05\",\"2005/06\",\"2006/07\",\"2007/08\",\"2008/09\",\"2009/10\",\"2010/11\",\"2011/12\",\"2012/13\",\"2013/14\",\"2014/15\",\"2015/16\",\"2016/17\",\"2017/18\",\"2018/19\",\"2019/20\"],\"xaxis\":\"x\",\"y\":[74520000,76800000,79140000,81540000,84000000,86580000,89160000,91920000,94680000,97560000,100560000,120000000,106740000,109980000,120000000,150000000,169980000,199980000,199980000,199980000,199980000,220020000,234000000,255000000,265020000,273000000,279000000,285000000,288000000,288360000],\"yaxis\":\"y\",\"type\":\"scatter\"},{\"hovertemplate\":\"variable=Ethiopia<br>index=%{x}<br>value=%{y}<extra></extra>\",\"legendgroup\":\"Ethiopia\",\"line\":{\"color\":\"#00cc96\",\"dash\":\"solid\",\"shape\":\"spline\",\"width\":3},\"marker\":{\"symbol\":\"circle\"},\"mode\":\"markers+lines\",\"name\":\"Ethiopia\",\"orientation\":\"v\",\"showlegend\":true,\"x\":[\"1990/91\",\"1991/92\",\"1992/93\",\"1993/94\",\"1994/95\",\"1995/96\",\"1996/97\",\"1997/98\",\"1998/99\",\"1999/00\",\"2000/01\",\"2001/02\",\"2002/03\",\"2003/04\",\"2004/05\",\"2005/06\",\"2006/07\",\"2007/08\",\"2008/09\",\"2009/10\",\"2010/11\",\"2011/12\",\"2012/13\",\"2013/14\",\"2014/15\",\"2015/16\",\"2016/17\",\"2017/18\",\"2018/19\",\"2019/20\"],\"xaxis\":\"x\",\"y\":[72000000,75840000,79860000,84120000,88560000,93300000,98220000,103440000,108960000,114720000,120840000,127260000,134040000,141180000,148680000,156540000,164880000,173640000,182880000,186540000,190260000,194100000,197940000,201900000,205980000,210060000,214260000,218580000,221100000,226860000],\"yaxis\":\"y\",\"type\":\"scatter\"},{\"hovertemplate\":\"variable=Mexico<br>index=%{x}<br>value=%{y}<extra></extra>\",\"legendgroup\":\"Mexico\",\"line\":{\"color\":\"#ab63fa\",\"dash\":\"solid\",\"shape\":\"spline\",\"width\":3},\"marker\":{\"symbol\":\"circle\"},\"mode\":\"markers+lines\",\"name\":\"Mexico\",\"orientation\":\"v\",\"showlegend\":true,\"x\":[\"1990/91\",\"1991/92\",\"1992/93\",\"1993/94\",\"1994/95\",\"1995/96\",\"1996/97\",\"1997/98\",\"1998/99\",\"1999/00\",\"2000/01\",\"2001/02\",\"2002/03\",\"2003/04\",\"2004/05\",\"2005/06\",\"2006/07\",\"2007/08\",\"2008/09\",\"2009/10\",\"2010/11\",\"2011/12\",\"2012/13\",\"2013/14\",\"2014/15\",\"2015/16\",\"2016/17\",\"2017/18\",\"2018/19\",\"2019/20\"],\"xaxis\":\"x\",\"y\":[82440000,72000000,78000000,64200000,61200000,70740000,74100000,72060000,66480000,69000000,78300000,90000000,90000000,90000000,90000000,103500000,120000000,132000000,132000000,132000000,141240000,141240000,141240000,139260000,140820000,139740000,141600000,144000000,147000000,145500000],\"yaxis\":\"y\",\"type\":\"scatter\"},{\"hovertemplate\":\"variable=Philippines<br>index=%{x}<br>value=%{y}<extra></extra>\",\"legendgroup\":\"Philippines\",\"line\":{\"color\":\"#FFA15A\",\"dash\":\"solid\",\"shape\":\"spline\",\"width\":3},\"marker\":{\"symbol\":\"circle\"},\"mode\":\"markers+lines\",\"name\":\"Philippines\",\"orientation\":\"v\",\"showlegend\":true,\"x\":[\"1990/91\",\"1991/92\",\"1992/93\",\"1993/94\",\"1994/95\",\"1995/96\",\"1996/97\",\"1997/98\",\"1998/99\",\"1999/00\",\"2000/01\",\"2001/02\",\"2002/03\",\"2003/04\",\"2004/05\",\"2005/06\",\"2006/07\",\"2007/08\",\"2008/09\",\"2009/10\",\"2010/11\",\"2011/12\",\"2012/13\",\"2013/14\",\"2014/15\",\"2015/16\",\"2016/17\",\"2017/18\",\"2018/19\",\"2019/20\"],\"xaxis\":\"x\",\"y\":[43200000,45000000,45000000,46200000,47400000,48600000,49860000,51180000,48600000,51720000,49200000,49260000,49740000,55020000,61200000,62400000,63600000,63600000,103200000,109200000,127500000,130500000,139500000,153000000,168000000,180000000,181800000,190800000,198000000,195000000],\"yaxis\":\"y\",\"type\":\"scatter\"},{\"hovertemplate\":\"variable=Colombia<br>index=%{x}<br>value=%{y}<extra></extra>\",\"legendgroup\":\"Colombia\",\"line\":{\"color\":\"#19d3f3\",\"dash\":\"solid\",\"shape\":\"spline\",\"width\":3},\"marker\":{\"symbol\":\"circle\"},\"mode\":\"markers+lines\",\"name\":\"Colombia\",\"orientation\":\"v\",\"showlegend\":true,\"x\":[\"1990/91\",\"1991/92\",\"1992/93\",\"1993/94\",\"1994/95\",\"1995/96\",\"1996/97\",\"1997/98\",\"1998/99\",\"1999/00\",\"2000/01\",\"2001/02\",\"2002/03\",\"2003/04\",\"2004/05\",\"2005/06\",\"2006/07\",\"2007/08\",\"2008/09\",\"2009/10\",\"2010/11\",\"2011/12\",\"2012/13\",\"2013/14\",\"2014/15\",\"2015/16\",\"2016/17\",\"2017/18\",\"2018/19\",\"2019/20\"],\"xaxis\":\"x\",\"y\":[74100000,76140000,78180000,80340000,82500000,81540000,80580000,79680000,78720000,77820000,76920000,76020000,75120000,74220000,73380000,72540000,71677980,76855380,77430000,76468740,78661440,86103900,90854520,97021200,99927060,103222380,104186484,107596260,107484600,121486440],\"yaxis\":\"y\",\"type\":\"scatter\"},{\"hovertemplate\":\"variable=Venezuela<br>index=%{x}<br>value=%{y}<extra></extra>\",\"legendgroup\":\"Venezuela\",\"line\":{\"color\":\"#FF6692\",\"dash\":\"solid\",\"shape\":\"spline\",\"width\":3},\"marker\":{\"symbol\":\"circle\"},\"mode\":\"markers+lines\",\"name\":\"Venezuela\",\"orientation\":\"v\",\"showlegend\":true,\"x\":[\"1990/91\",\"1991/92\",\"1992/93\",\"1993/94\",\"1994/95\",\"1995/96\",\"1996/97\",\"1997/98\",\"1998/99\",\"1999/00\",\"2000/01\",\"2001/02\",\"2002/03\",\"2003/04\",\"2004/05\",\"2005/06\",\"2006/07\",\"2007/08\",\"2008/09\",\"2009/10\",\"2010/11\",\"2011/12\",\"2012/13\",\"2013/14\",\"2014/15\",\"2015/16\",\"2016/17\",\"2017/18\",\"2018/19\",\"2019/20\"],\"xaxis\":\"x\",\"y\":[46943400,48928800,50998200,53155800,55404000,57747600,60190800,62736599,65390400,68156400,71039400,74044200,77176200,80440800,83843400,87390000,91086600,94939800,98955600,99000000,99000000,99000000,99000000,99000000,99000000,99000000,99000000,96000000,93000000,76500000],\"yaxis\":\"y\",\"type\":\"scatter\"},{\"hovertemplate\":\"variable=India<br>index=%{x}<br>value=%{y}<extra></extra>\",\"legendgroup\":\"India\",\"line\":{\"color\":\"#B6E880\",\"dash\":\"solid\",\"shape\":\"spline\",\"width\":3},\"marker\":{\"symbol\":\"circle\"},\"mode\":\"markers+lines\",\"name\":\"India\",\"orientation\":\"v\",\"showlegend\":true,\"x\":[\"1990/91\",\"1991/92\",\"1992/93\",\"1993/94\",\"1994/95\",\"1995/96\",\"1996/97\",\"1997/98\",\"1998/99\",\"1999/00\",\"2000/01\",\"2001/02\",\"2002/03\",\"2003/04\",\"2004/05\",\"2005/06\",\"2006/07\",\"2007/08\",\"2008/09\",\"2009/10\",\"2010/11\",\"2011/12\",\"2012/13\",\"2013/14\",\"2014/15\",\"2015/16\",\"2016/17\",\"2017/18\",\"2018/19\",\"2019/20\"],\"xaxis\":\"x\",\"y\":[54180000,55000020,55020000,49999980,50100000,50220000,50280000,50340000,54000000,55500000,58500000,64020000,67980000,70020000,72120000,74280000,76500000,81000000,76500000,79500000,79500000,79500000,82500000,84000000,85800000,87000000,86400000,88200000,88500000,87000000],\"yaxis\":\"y\",\"type\":\"scatter\"},{\"hovertemplate\":\"variable=Viet Nam<br>index=%{x}<br>value=%{y}<extra></extra>\",\"legendgroup\":\"Viet Nam\",\"line\":{\"color\":\"#FF97FF\",\"dash\":\"solid\",\"shape\":\"spline\",\"width\":3},\"marker\":{\"symbol\":\"circle\"},\"mode\":\"markers+lines\",\"name\":\"Viet Nam\",\"orientation\":\"v\",\"showlegend\":true,\"x\":[\"1990/91\",\"1991/92\",\"1992/93\",\"1993/94\",\"1994/95\",\"1995/96\",\"1996/97\",\"1997/98\",\"1998/99\",\"1999/00\",\"2000/01\",\"2001/02\",\"2002/03\",\"2003/04\",\"2004/05\",\"2005/06\",\"2006/07\",\"2007/08\",\"2008/09\",\"2009/10\",\"2010/11\",\"2011/12\",\"2012/13\",\"2013/14\",\"2014/15\",\"2015/16\",\"2016/17\",\"2017/18\",\"2018/19\",\"2019/20\"],\"xaxis\":\"x\",\"y\":[9000000,13800000,15000000,16020000,16020000,16910700,17850960,18843480,19891140,21000000,24097500,27651900,31130520,36410760,41781360,48000000,55020000,56280000,61260000,72480000,94980000,99000000,109500000,120000000,132000000,138000000,144000000,150000000,156000000,159000000],\"yaxis\":\"y\",\"type\":\"scatter\"},{\"hovertemplate\":\"variable=Thailand<br>index=%{x}<br>value=%{y}<extra></extra>\",\"legendgroup\":\"Thailand\",\"line\":{\"color\":\"#FECB52\",\"dash\":\"solid\",\"shape\":\"spline\",\"width\":3},\"marker\":{\"symbol\":\"circle\"},\"mode\":\"markers+lines\",\"name\":\"Thailand\",\"orientation\":\"v\",\"showlegend\":true,\"x\":[\"1990/91\",\"1991/92\",\"1992/93\",\"1993/94\",\"1994/95\",\"1995/96\",\"1996/97\",\"1997/98\",\"1998/99\",\"1999/00\",\"2000/01\",\"2001/02\",\"2002/03\",\"2003/04\",\"2004/05\",\"2005/06\",\"2006/07\",\"2007/08\",\"2008/09\",\"2009/10\",\"2010/11\",\"2011/12\",\"2012/13\",\"2013/14\",\"2014/15\",\"2015/16\",\"2016/17\",\"2017/18\",\"2018/19\",\"2019/20\"],\"xaxis\":\"x\",\"y\":[11280000,13200000,13980000,15000000,16980000,25020000,19980000,23400000,25980000,25980000,30000000,30000000,30000000,30000000,30000000,30000000,30000000,33000000,36000000,42000000,46500000,66000000,67800000,72000000,75000000,78000000,81000000,82500000,84000000,84000000],\"yaxis\":\"y\",\"type\":\"scatter\"}],                        {\"template\":{\"data\":{\"histogram2dcontour\":[{\"type\":\"histogram2dcontour\",\"colorbar\":{\"outlinewidth\":0,\"ticks\":\"\"},\"colorscale\":[[0.0,\"#0d0887\"],[0.1111111111111111,\"#46039f\"],[0.2222222222222222,\"#7201a8\"],[0.3333333333333333,\"#9c179e\"],[0.4444444444444444,\"#bd3786\"],[0.5555555555555556,\"#d8576b\"],[0.6666666666666666,\"#ed7953\"],[0.7777777777777778,\"#fb9f3a\"],[0.8888888888888888,\"#fdca26\"],[1.0,\"#f0f921\"]]}],\"choropleth\":[{\"type\":\"choropleth\",\"colorbar\":{\"outlinewidth\":0,\"ticks\":\"\"}}],\"histogram2d\":[{\"type\":\"histogram2d\",\"colorbar\":{\"outlinewidth\":0,\"ticks\":\"\"},\"colorscale\":[[0.0,\"#0d0887\"],[0.1111111111111111,\"#46039f\"],[0.2222222222222222,\"#7201a8\"],[0.3333333333333333,\"#9c179e\"],[0.4444444444444444,\"#bd3786\"],[0.5555555555555556,\"#d8576b\"],[0.6666666666666666,\"#ed7953\"],[0.7777777777777778,\"#fb9f3a\"],[0.8888888888888888,\"#fdca26\"],[1.0,\"#f0f921\"]]}],\"heatmap\":[{\"type\":\"heatmap\",\"colorbar\":{\"outlinewidth\":0,\"ticks\":\"\"},\"colorscale\":[[0.0,\"#0d0887\"],[0.1111111111111111,\"#46039f\"],[0.2222222222222222,\"#7201a8\"],[0.3333333333333333,\"#9c179e\"],[0.4444444444444444,\"#bd3786\"],[0.5555555555555556,\"#d8576b\"],[0.6666666666666666,\"#ed7953\"],[0.7777777777777778,\"#fb9f3a\"],[0.8888888888888888,\"#fdca26\"],[1.0,\"#f0f921\"]]}],\"heatmapgl\":[{\"type\":\"heatmapgl\",\"colorbar\":{\"outlinewidth\":0,\"ticks\":\"\"},\"colorscale\":[[0.0,\"#0d0887\"],[0.1111111111111111,\"#46039f\"],[0.2222222222222222,\"#7201a8\"],[0.3333333333333333,\"#9c179e\"],[0.4444444444444444,\"#bd3786\"],[0.5555555555555556,\"#d8576b\"],[0.6666666666666666,\"#ed7953\"],[0.7777777777777778,\"#fb9f3a\"],[0.8888888888888888,\"#fdca26\"],[1.0,\"#f0f921\"]]}],\"contourcarpet\":[{\"type\":\"contourcarpet\",\"colorbar\":{\"outlinewidth\":0,\"ticks\":\"\"}}],\"contour\":[{\"type\":\"contour\",\"colorbar\":{\"outlinewidth\":0,\"ticks\":\"\"},\"colorscale\":[[0.0,\"#0d0887\"],[0.1111111111111111,\"#46039f\"],[0.2222222222222222,\"#7201a8\"],[0.3333333333333333,\"#9c179e\"],[0.4444444444444444,\"#bd3786\"],[0.5555555555555556,\"#d8576b\"],[0.6666666666666666,\"#ed7953\"],[0.7777777777777778,\"#fb9f3a\"],[0.8888888888888888,\"#fdca26\"],[1.0,\"#f0f921\"]]}],\"surface\":[{\"type\":\"surface\",\"colorbar\":{\"outlinewidth\":0,\"ticks\":\"\"},\"colorscale\":[[0.0,\"#0d0887\"],[0.1111111111111111,\"#46039f\"],[0.2222222222222222,\"#7201a8\"],[0.3333333333333333,\"#9c179e\"],[0.4444444444444444,\"#bd3786\"],[0.5555555555555556,\"#d8576b\"],[0.6666666666666666,\"#ed7953\"],[0.7777777777777778,\"#fb9f3a\"],[0.8888888888888888,\"#fdca26\"],[1.0,\"#f0f921\"]]}],\"mesh3d\":[{\"type\":\"mesh3d\",\"colorbar\":{\"outlinewidth\":0,\"ticks\":\"\"}}],\"scatter\":[{\"fillpattern\":{\"fillmode\":\"overlay\",\"size\":10,\"solidity\":0.2},\"type\":\"scatter\"}],\"parcoords\":[{\"type\":\"parcoords\",\"line\":{\"colorbar\":{\"outlinewidth\":0,\"ticks\":\"\"}}}],\"scatterpolargl\":[{\"type\":\"scatterpolargl\",\"marker\":{\"colorbar\":{\"outlinewidth\":0,\"ticks\":\"\"}}}],\"bar\":[{\"error_x\":{\"color\":\"#2a3f5f\"},\"error_y\":{\"color\":\"#2a3f5f\"},\"marker\":{\"line\":{\"color\":\"#E5ECF6\",\"width\":0.5},\"pattern\":{\"fillmode\":\"overlay\",\"size\":10,\"solidity\":0.2}},\"type\":\"bar\"}],\"scattergeo\":[{\"type\":\"scattergeo\",\"marker\":{\"colorbar\":{\"outlinewidth\":0,\"ticks\":\"\"}}}],\"scatterpolar\":[{\"type\":\"scatterpolar\",\"marker\":{\"colorbar\":{\"outlinewidth\":0,\"ticks\":\"\"}}}],\"histogram\":[{\"marker\":{\"pattern\":{\"fillmode\":\"overlay\",\"size\":10,\"solidity\":0.2}},\"type\":\"histogram\"}],\"scattergl\":[{\"type\":\"scattergl\",\"marker\":{\"colorbar\":{\"outlinewidth\":0,\"ticks\":\"\"}}}],\"scatter3d\":[{\"type\":\"scatter3d\",\"line\":{\"colorbar\":{\"outlinewidth\":0,\"ticks\":\"\"}},\"marker\":{\"colorbar\":{\"outlinewidth\":0,\"ticks\":\"\"}}}],\"scattermapbox\":[{\"type\":\"scattermapbox\",\"marker\":{\"colorbar\":{\"outlinewidth\":0,\"ticks\":\"\"}}}],\"scatterternary\":[{\"type\":\"scatterternary\",\"marker\":{\"colorbar\":{\"outlinewidth\":0,\"ticks\":\"\"}}}],\"scattercarpet\":[{\"type\":\"scattercarpet\",\"marker\":{\"colorbar\":{\"outlinewidth\":0,\"ticks\":\"\"}}}],\"carpet\":[{\"aaxis\":{\"endlinecolor\":\"#2a3f5f\",\"gridcolor\":\"white\",\"linecolor\":\"white\",\"minorgridcolor\":\"white\",\"startlinecolor\":\"#2a3f5f\"},\"baxis\":{\"endlinecolor\":\"#2a3f5f\",\"gridcolor\":\"white\",\"linecolor\":\"white\",\"minorgridcolor\":\"white\",\"startlinecolor\":\"#2a3f5f\"},\"type\":\"carpet\"}],\"table\":[{\"cells\":{\"fill\":{\"color\":\"#EBF0F8\"},\"line\":{\"color\":\"white\"}},\"header\":{\"fill\":{\"color\":\"#C8D4E3\"},\"line\":{\"color\":\"white\"}},\"type\":\"table\"}],\"barpolar\":[{\"marker\":{\"line\":{\"color\":\"#E5ECF6\",\"width\":0.5},\"pattern\":{\"fillmode\":\"overlay\",\"size\":10,\"solidity\":0.2}},\"type\":\"barpolar\"}],\"pie\":[{\"automargin\":true,\"type\":\"pie\"}]},\"layout\":{\"autotypenumbers\":\"strict\",\"colorway\":[\"#636efa\",\"#EF553B\",\"#00cc96\",\"#ab63fa\",\"#FFA15A\",\"#19d3f3\",\"#FF6692\",\"#B6E880\",\"#FF97FF\",\"#FECB52\"],\"font\":{\"color\":\"#2a3f5f\"},\"hovermode\":\"closest\",\"hoverlabel\":{\"align\":\"left\"},\"paper_bgcolor\":\"white\",\"plot_bgcolor\":\"#E5ECF6\",\"polar\":{\"bgcolor\":\"#E5ECF6\",\"angularaxis\":{\"gridcolor\":\"white\",\"linecolor\":\"white\",\"ticks\":\"\"},\"radialaxis\":{\"gridcolor\":\"white\",\"linecolor\":\"white\",\"ticks\":\"\"}},\"ternary\":{\"bgcolor\":\"#E5ECF6\",\"aaxis\":{\"gridcolor\":\"white\",\"linecolor\":\"white\",\"ticks\":\"\"},\"baxis\":{\"gridcolor\":\"white\",\"linecolor\":\"white\",\"ticks\":\"\"},\"caxis\":{\"gridcolor\":\"white\",\"linecolor\":\"white\",\"ticks\":\"\"}},\"coloraxis\":{\"colorbar\":{\"outlinewidth\":0,\"ticks\":\"\"}},\"colorscale\":{\"sequential\":[[0.0,\"#0d0887\"],[0.1111111111111111,\"#46039f\"],[0.2222222222222222,\"#7201a8\"],[0.3333333333333333,\"#9c179e\"],[0.4444444444444444,\"#bd3786\"],[0.5555555555555556,\"#d8576b\"],[0.6666666666666666,\"#ed7953\"],[0.7777777777777778,\"#fb9f3a\"],[0.8888888888888888,\"#fdca26\"],[1.0,\"#f0f921\"]],\"sequentialminus\":[[0.0,\"#0d0887\"],[0.1111111111111111,\"#46039f\"],[0.2222222222222222,\"#7201a8\"],[0.3333333333333333,\"#9c179e\"],[0.4444444444444444,\"#bd3786\"],[0.5555555555555556,\"#d8576b\"],[0.6666666666666666,\"#ed7953\"],[0.7777777777777778,\"#fb9f3a\"],[0.8888888888888888,\"#fdca26\"],[1.0,\"#f0f921\"]],\"diverging\":[[0,\"#8e0152\"],[0.1,\"#c51b7d\"],[0.2,\"#de77ae\"],[0.3,\"#f1b6da\"],[0.4,\"#fde0ef\"],[0.5,\"#f7f7f7\"],[0.6,\"#e6f5d0\"],[0.7,\"#b8e186\"],[0.8,\"#7fbc41\"],[0.9,\"#4d9221\"],[1,\"#276419\"]]},\"xaxis\":{\"gridcolor\":\"white\",\"linecolor\":\"white\",\"ticks\":\"\",\"title\":{\"standoff\":15},\"zerolinecolor\":\"white\",\"automargin\":true,\"zerolinewidth\":2},\"yaxis\":{\"gridcolor\":\"white\",\"linecolor\":\"white\",\"ticks\":\"\",\"title\":{\"standoff\":15},\"zerolinecolor\":\"white\",\"automargin\":true,\"zerolinewidth\":2},\"scene\":{\"xaxis\":{\"backgroundcolor\":\"#E5ECF6\",\"gridcolor\":\"white\",\"linecolor\":\"white\",\"showbackground\":true,\"ticks\":\"\",\"zerolinecolor\":\"white\",\"gridwidth\":2},\"yaxis\":{\"backgroundcolor\":\"#E5ECF6\",\"gridcolor\":\"white\",\"linecolor\":\"white\",\"showbackground\":true,\"ticks\":\"\",\"zerolinecolor\":\"white\",\"gridwidth\":2},\"zaxis\":{\"backgroundcolor\":\"#E5ECF6\",\"gridcolor\":\"white\",\"linecolor\":\"white\",\"showbackground\":true,\"ticks\":\"\",\"zerolinecolor\":\"white\",\"gridwidth\":2}},\"shapedefaults\":{\"line\":{\"color\":\"#2a3f5f\"}},\"annotationdefaults\":{\"arrowcolor\":\"#2a3f5f\",\"arrowhead\":0,\"arrowwidth\":1},\"geo\":{\"bgcolor\":\"white\",\"landcolor\":\"#E5ECF6\",\"subunitcolor\":\"white\",\"showland\":true,\"showlakes\":true,\"lakecolor\":\"white\"},\"title\":{\"x\":0.05},\"mapbox\":{\"style\":\"light\"}}},\"xaxis\":{\"anchor\":\"y\",\"domain\":[0.0,1.0],\"title\":{\"text\":\"index\"}},\"yaxis\":{\"anchor\":\"x\",\"domain\":[0.0,1.0],\"title\":{\"text\":\"value\"}},\"legend\":{\"title\":{\"text\":\"variable\"},\"tracegroupgap\":0},\"title\":{\"text\":\"Consumption over time of the top consuming countries\"},\"width\":1000,\"height\":1000},                        {\"responsive\": true}                    ).then(function(){\n",
       "                            \n",
       "var gd = document.getElementById('e73907bd-11c8-41f3-918e-496752bb1bb7');\n",
       "var x = new MutationObserver(function (mutations, observer) {{\n",
       "        var display = window.getComputedStyle(gd).display;\n",
       "        if (!display || display === 'none') {{\n",
       "            console.log([gd, 'removed!']);\n",
       "            Plotly.purge(gd);\n",
       "            observer.disconnect();\n",
       "        }}\n",
       "}});\n",
       "\n",
       "// Listen for the removal of the full notebook cells\n",
       "var notebookContainer = gd.closest('#notebook-container');\n",
       "if (notebookContainer) {{\n",
       "    x.observe(notebookContainer, {childList: true});\n",
       "}}\n",
       "\n",
       "// Listen for the clearing of the current output cell\n",
       "var outputEl = gd.closest('.output');\n",
       "if (outputEl) {{\n",
       "    x.observe(outputEl, {childList: true});\n",
       "}}\n",
       "\n",
       "                        })                };                });            </script>        </div>"
      ]
     },
     "metadata": {},
     "output_type": "display_data"
    }
   ],
   "source": [
    "# function to plot the data\n",
    "def production_date_coffee(df, title):\n",
    "    Años = df.index\n",
    "    Consumo_Domestico = df.columns.values\n",
    "    fig = px.line(df, x=Años, y= Consumo_Domestico, title=title, markers=True)\n",
    "    fig.update_layout(width=1000, height=1000)\n",
    "    \n",
    "\n",
    "    fig.update_traces(patch={\"line\":{\"dash\":\"solid\",\"shape\":\"spline\",\"width\":3}})\n",
    "    fig.show()\n",
    "\n",
    "\n",
    "production_date_coffee(df_year_domestic_consumption, 'Consumption over time of the top consuming countries')"
   ]
  }
 ],
 "metadata": {
  "kernelspec": {
   "display_name": "Python 3 (ipykernel)",
   "language": "python",
   "name": "python3"
  },
  "language_info": {
   "codemirror_mode": {
    "name": "ipython",
    "version": 3
   },
   "file_extension": ".py",
   "mimetype": "text/x-python",
   "name": "python",
   "nbconvert_exporter": "python",
   "pygments_lexer": "ipython3",
   "version": "3.9.13 (main, Aug 25 2022, 23:26:10) \n[GCC 11.2.0]"
  },
  "orig_nbformat": 4,
  "vscode": {
   "interpreter": {
    "hash": "49d1b414cd07738e838ec24e323fff9b93ac3a41a8d5d97bafe3c6c2f6481a84"
   }
  }
 },
 "nbformat": 4,
 "nbformat_minor": 2
}
